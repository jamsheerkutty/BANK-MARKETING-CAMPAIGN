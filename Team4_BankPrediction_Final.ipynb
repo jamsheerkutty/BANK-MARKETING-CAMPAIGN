{
 "cells": [
  {
   "cell_type": "markdown",
   "metadata": {},
   "source": [
    "# Bank Marketing\n",
    "\n",
    "The data is related with direct marketing campaigns (phone calls) of a Portuguese banking institution.\n",
    "The classification goal is to predict if the client will subscribe a term deposit (variable y).\n",
    "\n",
    "# Description of Data:\n",
    "\n",
    "# Bank client data:\n",
    "Age (numeric)\n",
    "\n",
    "Job : type of job (categorical: 'admin.', 'blue-collar', 'entrepreneur', 'housemaid', 'management', 'retired', 'self-employed', 'services', 'student', 'technician', 'unemployed', 'unknown')\n",
    "\n",
    "Marital : marital status (categorical: 'divorced', 'married', 'single', 'unknown' ; note: 'divorced' means divorced or widowed)\n",
    "\n",
    "Education (categorical: 'basic.4y', 'basic.6y', 'basic.9y', 'high.school', 'illiterate', 'professional.course', 'university.degree', 'unknown')\n",
    "\n",
    "Default: has credit in default? (categorical: 'no', 'yes', 'unknown')\n",
    "\n",
    "Housing: has housing loan? (categorical: 'no', 'yes', 'unknown')\n",
    "\n",
    "Loan: has personal loan? (categorical: 'no', 'yes', 'unknown')\n",
    "\n",
    "\n",
    "# Details regarding last contact of the current campaign:\n",
    "Contact: contact communication type (categorical: 'cellular','telephone')\n",
    "\n",
    "Month: last contact month (categorical: 'jan', 'feb', 'mar', ..., 'nov', 'dec')\n",
    "\n",
    "Day_of_week: last contact day of the week (categorical: 'mon','tue','wed','thu','fri')\n",
    "\n",
    "Duration: last contact duration, in seconds (numeric).\n",
    "\n",
    "Campaign: number of contacts performed during this campaign and for this client (numeric, includes last contact)\n",
    "\n",
    "Pdays: number of days that passed by after the client was last contacted from a previous campaign (numeric; 999 means client was not previously contacted)\n",
    "\n",
    "Previous: number of contacts performed before this campaign and for this client (numeric)\n",
    "\n",
    "Poutcome: outcome of the previous marketing campaign (categorical: 'failure','nonexistent','success')\n",
    "\n",
    "# Economic Index attributes\n",
    "\n",
    "Emp.var.rate: employment variation rate  (numeric)\n",
    "\n",
    "Cons.price.idx: consumer price index  (numeric)\n",
    "\n",
    "Cons.conf.idx: consumer confidence index (numeric)\n",
    "\n",
    "Euribor3m: euribor 3 month rate (numeric)\n",
    "\n",
    "Nr.employed: number of employees (numeric)\n",
    "\n",
    "\n",
    "# Output variable (desired target):\n",
    "y - has the client subscribed to the term deposit? (binary: 'yes', 'no')\n"
   ]
  },
  {
   "cell_type": "code",
   "execution_count": 1,
   "metadata": {},
   "outputs": [],
   "source": [
    "#importing the necessary libraries\n",
    "\n",
    "\n",
    "import pandas as pd\n",
    "import numpy as np\n",
    "import seaborn as sns\n",
    "import matplotlib.pyplot as plt\n",
    "from sklearn.preprocessing import LabelEncoder\n",
    "from sklearn.model_selection import cross_val_score, train_test_split\n",
    "from sklearn.linear_model import LogisticRegression\n",
    "from sklearn.metrics import classification_report, accuracy_score, confusion_matrix\n",
    "from sklearn.svm import SVC\n",
    "from sklearn.ensemble import RandomForestClassifier, VotingClassifier\n",
    "from sklearn.feature_selection import RFE\n",
    "\n",
    "\n",
    "#Algorithms\n",
    "\n",
    "# Algorithms\n",
    "from sklearn import linear_model\n",
    "from sklearn.linear_model import LogisticRegression\n",
    "from sklearn.ensemble import RandomForestClassifier\n",
    "from sklearn.linear_model import Perceptron\n",
    "from sklearn.linear_model import SGDClassifier\n",
    "from sklearn.tree import DecisionTreeClassifier\n",
    "from sklearn.neighbors import KNeighborsClassifier\n",
    "from sklearn.svm import SVC, LinearSVC\n",
    "from sklearn.naive_bayes import GaussianNB\n",
    "from sklearn.metrics import f1_score, make_scorer\n",
    "from sklearn.model_selection import GridSearchCV\n",
    "from sklearn.model_selection import cross_val_score\n",
    "import graphviz \n",
    "from sklearn import tree\n",
    "from sklearn.tree import DecisionTreeRegressor, DecisionTreeClassifier, export_graphviz\n",
    "import graphviz\n",
    "import pydot\n",
    "\n",
    "#Accuracy\n",
    "from sklearn.model_selection import train_test_split\n",
    "from sklearn.metrics import confusion_matrix\n",
    "from sklearn.metrics import accuracy_score\n",
    "from sklearn.metrics import classification_report\n",
    "\n",
    "#import xgboost as xgb\n",
    "#from xgboost import XGBClassifier\n",
    "#from imblearn.over_sampling import SMOTE\n",
    "from scipy.stats.mstats import winsorize\n",
    "from sklearn.preprocessing import MinMaxScaler\n",
    "from sklearn.model_selection import GridSearchCV\n",
    "from sklearn.metrics import roc_curve, auc, roc_auc_score\n",
    "from sklearn.naive_bayes import GaussianNB\n",
    "from sklearn.metrics import roc_curve, roc_auc_score\n",
    "from sklearn.neighbors import  KNeighborsClassifier\n",
    "from sklearn.metrics import confusion_matrix"
   ]
  },
  {
   "cell_type": "code",
   "execution_count": 2,
   "metadata": {},
   "outputs": [
    {
     "data": {
      "text/html": [
       "<div>\n",
       "<style scoped>\n",
       "    .dataframe tbody tr th:only-of-type {\n",
       "        vertical-align: middle;\n",
       "    }\n",
       "\n",
       "    .dataframe tbody tr th {\n",
       "        vertical-align: top;\n",
       "    }\n",
       "\n",
       "    .dataframe thead th {\n",
       "        text-align: right;\n",
       "    }\n",
       "</style>\n",
       "<table border=\"1\" class=\"dataframe\">\n",
       "  <thead>\n",
       "    <tr style=\"text-align: right;\">\n",
       "      <th></th>\n",
       "      <th>age</th>\n",
       "      <th>job</th>\n",
       "      <th>marital</th>\n",
       "      <th>education</th>\n",
       "      <th>default</th>\n",
       "      <th>housing</th>\n",
       "      <th>loan</th>\n",
       "      <th>contact</th>\n",
       "      <th>month</th>\n",
       "      <th>day_of_week</th>\n",
       "      <th>...</th>\n",
       "      <th>campaign</th>\n",
       "      <th>pdays</th>\n",
       "      <th>previous</th>\n",
       "      <th>poutcome</th>\n",
       "      <th>emp.var.rate</th>\n",
       "      <th>cons.price.idx</th>\n",
       "      <th>cons.conf.idx</th>\n",
       "      <th>euribor3m</th>\n",
       "      <th>nr.employed</th>\n",
       "      <th>y</th>\n",
       "    </tr>\n",
       "  </thead>\n",
       "  <tbody>\n",
       "    <tr>\n",
       "      <th>0</th>\n",
       "      <td>56</td>\n",
       "      <td>housemaid</td>\n",
       "      <td>married</td>\n",
       "      <td>basic.4y</td>\n",
       "      <td>no</td>\n",
       "      <td>no</td>\n",
       "      <td>no</td>\n",
       "      <td>telephone</td>\n",
       "      <td>may</td>\n",
       "      <td>mon</td>\n",
       "      <td>...</td>\n",
       "      <td>1</td>\n",
       "      <td>999</td>\n",
       "      <td>0</td>\n",
       "      <td>nonexistent</td>\n",
       "      <td>1.1</td>\n",
       "      <td>93.994</td>\n",
       "      <td>-36.4</td>\n",
       "      <td>4.857</td>\n",
       "      <td>5191.0</td>\n",
       "      <td>no</td>\n",
       "    </tr>\n",
       "    <tr>\n",
       "      <th>1</th>\n",
       "      <td>57</td>\n",
       "      <td>services</td>\n",
       "      <td>married</td>\n",
       "      <td>high.school</td>\n",
       "      <td>unknown</td>\n",
       "      <td>no</td>\n",
       "      <td>no</td>\n",
       "      <td>telephone</td>\n",
       "      <td>may</td>\n",
       "      <td>mon</td>\n",
       "      <td>...</td>\n",
       "      <td>1</td>\n",
       "      <td>999</td>\n",
       "      <td>0</td>\n",
       "      <td>nonexistent</td>\n",
       "      <td>1.1</td>\n",
       "      <td>93.994</td>\n",
       "      <td>-36.4</td>\n",
       "      <td>4.857</td>\n",
       "      <td>5191.0</td>\n",
       "      <td>no</td>\n",
       "    </tr>\n",
       "    <tr>\n",
       "      <th>2</th>\n",
       "      <td>37</td>\n",
       "      <td>services</td>\n",
       "      <td>married</td>\n",
       "      <td>high.school</td>\n",
       "      <td>no</td>\n",
       "      <td>yes</td>\n",
       "      <td>no</td>\n",
       "      <td>telephone</td>\n",
       "      <td>may</td>\n",
       "      <td>mon</td>\n",
       "      <td>...</td>\n",
       "      <td>1</td>\n",
       "      <td>999</td>\n",
       "      <td>0</td>\n",
       "      <td>nonexistent</td>\n",
       "      <td>1.1</td>\n",
       "      <td>93.994</td>\n",
       "      <td>-36.4</td>\n",
       "      <td>4.857</td>\n",
       "      <td>5191.0</td>\n",
       "      <td>no</td>\n",
       "    </tr>\n",
       "    <tr>\n",
       "      <th>3</th>\n",
       "      <td>40</td>\n",
       "      <td>admin.</td>\n",
       "      <td>married</td>\n",
       "      <td>basic.6y</td>\n",
       "      <td>no</td>\n",
       "      <td>no</td>\n",
       "      <td>no</td>\n",
       "      <td>telephone</td>\n",
       "      <td>may</td>\n",
       "      <td>mon</td>\n",
       "      <td>...</td>\n",
       "      <td>1</td>\n",
       "      <td>999</td>\n",
       "      <td>0</td>\n",
       "      <td>nonexistent</td>\n",
       "      <td>1.1</td>\n",
       "      <td>93.994</td>\n",
       "      <td>-36.4</td>\n",
       "      <td>4.857</td>\n",
       "      <td>5191.0</td>\n",
       "      <td>no</td>\n",
       "    </tr>\n",
       "    <tr>\n",
       "      <th>4</th>\n",
       "      <td>56</td>\n",
       "      <td>services</td>\n",
       "      <td>married</td>\n",
       "      <td>high.school</td>\n",
       "      <td>no</td>\n",
       "      <td>no</td>\n",
       "      <td>yes</td>\n",
       "      <td>telephone</td>\n",
       "      <td>may</td>\n",
       "      <td>mon</td>\n",
       "      <td>...</td>\n",
       "      <td>1</td>\n",
       "      <td>999</td>\n",
       "      <td>0</td>\n",
       "      <td>nonexistent</td>\n",
       "      <td>1.1</td>\n",
       "      <td>93.994</td>\n",
       "      <td>-36.4</td>\n",
       "      <td>4.857</td>\n",
       "      <td>5191.0</td>\n",
       "      <td>no</td>\n",
       "    </tr>\n",
       "  </tbody>\n",
       "</table>\n",
       "<p>5 rows × 21 columns</p>\n",
       "</div>"
      ],
      "text/plain": [
       "   age        job  marital    education  default housing loan    contact  \\\n",
       "0   56  housemaid  married     basic.4y       no      no   no  telephone   \n",
       "1   57   services  married  high.school  unknown      no   no  telephone   \n",
       "2   37   services  married  high.school       no     yes   no  telephone   \n",
       "3   40     admin.  married     basic.6y       no      no   no  telephone   \n",
       "4   56   services  married  high.school       no      no  yes  telephone   \n",
       "\n",
       "  month day_of_week ...  campaign  pdays  previous     poutcome emp.var.rate  \\\n",
       "0   may         mon ...         1    999         0  nonexistent          1.1   \n",
       "1   may         mon ...         1    999         0  nonexistent          1.1   \n",
       "2   may         mon ...         1    999         0  nonexistent          1.1   \n",
       "3   may         mon ...         1    999         0  nonexistent          1.1   \n",
       "4   may         mon ...         1    999         0  nonexistent          1.1   \n",
       "\n",
       "   cons.price.idx  cons.conf.idx  euribor3m  nr.employed   y  \n",
       "0          93.994          -36.4      4.857       5191.0  no  \n",
       "1          93.994          -36.4      4.857       5191.0  no  \n",
       "2          93.994          -36.4      4.857       5191.0  no  \n",
       "3          93.994          -36.4      4.857       5191.0  no  \n",
       "4          93.994          -36.4      4.857       5191.0  no  \n",
       "\n",
       "[5 rows x 21 columns]"
      ]
     },
     "execution_count": 2,
     "metadata": {},
     "output_type": "execute_result"
    }
   ],
   "source": [
    "bank_df = pd.read_csv('bank-additional-full.csv', sep = ';')\n",
    "bank_df.head()\n",
    "\n"
   ]
  },
  {
   "cell_type": "code",
   "execution_count": 3,
   "metadata": {},
   "outputs": [
    {
     "data": {
      "text/plain": [
       "(41188, 21)"
      ]
     },
     "execution_count": 3,
     "metadata": {},
     "output_type": "execute_result"
    }
   ],
   "source": [
    "# checking the shape of the dataframe\n",
    "\n",
    "bank_df.shape"
   ]
  },
  {
   "cell_type": "code",
   "execution_count": 4,
   "metadata": {},
   "outputs": [
    {
     "name": "stdout",
     "output_type": "stream",
     "text": [
      "<class 'pandas.core.frame.DataFrame'>\n",
      "RangeIndex: 41188 entries, 0 to 41187\n",
      "Data columns (total 21 columns):\n",
      "age               41188 non-null int64\n",
      "job               41188 non-null object\n",
      "marital           41188 non-null object\n",
      "education         41188 non-null object\n",
      "default           41188 non-null object\n",
      "housing           41188 non-null object\n",
      "loan              41188 non-null object\n",
      "contact           41188 non-null object\n",
      "month             41188 non-null object\n",
      "day_of_week       41188 non-null object\n",
      "duration          41188 non-null int64\n",
      "campaign          41188 non-null int64\n",
      "pdays             41188 non-null int64\n",
      "previous          41188 non-null int64\n",
      "poutcome          41188 non-null object\n",
      "emp.var.rate      41188 non-null float64\n",
      "cons.price.idx    41188 non-null float64\n",
      "cons.conf.idx     41188 non-null float64\n",
      "euribor3m         41188 non-null float64\n",
      "nr.employed       41188 non-null float64\n",
      "y                 41188 non-null object\n",
      "dtypes: float64(5), int64(5), object(11)\n",
      "memory usage: 6.6+ MB\n"
     ]
    }
   ],
   "source": [
    "bank_df.info()"
   ]
  },
  {
   "cell_type": "markdown",
   "metadata": {},
   "source": [
    "# Bivarite Analysis"
   ]
  },
  {
   "cell_type": "code",
   "execution_count": 73,
   "metadata": {},
   "outputs": [
    {
     "data": {
      "text/plain": [
       "<matplotlib.axes._subplots.AxesSubplot at 0x258f04df550>"
      ]
     },
     "execution_count": 73,
     "metadata": {},
     "output_type": "execute_result"
    },
    {
     "data": {
      "image/png": "[encoded data removed]",
      "text/plain": [
       "<Figure size 432x288 with 1 Axes>"
      ]
     },
     "metadata": {},
     "output_type": "display_data"
    }
   ],
   "source": [
    "sns.countplot(x='marital',hue='y',data=bank_df)"
   ]
  },
  {
   "cell_type": "code",
   "execution_count": 74,
   "metadata": {},
   "outputs": [
    {
     "data": {
      "text/plain": [
       "Text(0.5,1,'Duration V.S. Term Deposit')"
      ]
     },
     "execution_count": 74,
     "metadata": {},
     "output_type": "execute_result"
    },
    {
     "data": {
      "image/png": "[encoded data removed]",
      "text/plain": [
       "<Figure size 1080x288 with 1 Axes>"
      ]
     },
     "metadata": {},
     "output_type": "display_data"
    }
   ],
   "source": [
    "# Kernel Density Plot\n",
    "fig = plt.figure(figsize=(15,4),)\n",
    "ax=sns.kdeplot(bank_df.loc[(bank_df['y'] == 'yes'),'duration'] , color='b',shade=True,label='Yes')\n",
    "ax=sns.kdeplot(bank_df.loc[(bank_df['y'] == 'no'),'duration'] , color='r',shade=True, label='No')\n",
    "ax.set(xlabel='Duration Distribution', ylabel='Duration of Call')\n",
    "plt.title('Duration V.S. Term Deposit')\n"
   ]
  },
  {
   "cell_type": "code",
   "execution_count": 76,
   "metadata": {},
   "outputs": [
    {
     "data": {
      "text/plain": [
       "<matplotlib.axes._subplots.AxesSubplot at 0x258f1391978>"
      ]
     },
     "execution_count": 76,
     "metadata": {},
     "output_type": "execute_result"
    },
    {
     "data": {
      "image/png": "[encoded data removed]",
      "text/plain": [
       "<Figure size 432x288 with 1 Axes>"
      ]
     },
     "metadata": {},
     "output_type": "display_data"
    }
   ],
   "source": [
    "sns.countplot(x='month',hue='y',data=bank_df)"
   ]
  },
  {
   "cell_type": "code",
   "execution_count": 77,
   "metadata": {},
   "outputs": [
    {
     "data": {
      "text/plain": [
       "<matplotlib.axes._subplots.AxesSubplot at 0x258f13e47f0>"
      ]
     },
     "execution_count": 77,
     "metadata": {},
     "output_type": "execute_result"
    },
    {
     "data": {
      "image/png": "[encoded data removed]",
      "text/plain": [
       "<Figure size 432x288 with 1 Axes>"
      ]
     },
     "metadata": {},
     "output_type": "display_data"
    }
   ],
   "source": [
    "sns.countplot(x='day_of_week',hue='y',data=bank_df)"
   ]
  },
  {
   "cell_type": "code",
   "execution_count": 78,
   "metadata": {},
   "outputs": [
    {
     "data": {
      "text/plain": [
       "<matplotlib.axes._subplots.AxesSubplot at 0x258f0a5bdd8>"
      ]
     },
     "execution_count": 78,
     "metadata": {},
     "output_type": "execute_result"
    },
    {
     "data": {
      "image/png": "[encoded data removed]",
      "text/plain": [
       "<Figure size 432x288 with 1 Axes>"
      ]
     },
     "metadata": {},
     "output_type": "display_data"
    }
   ],
   "source": [
    "sns.countplot(x='poutcome',hue='y',data=bank_df)"
   ]
  },
  {
   "cell_type": "markdown",
   "metadata": {},
   "source": [
    "# We decided to seperate the data into 3 parts\n",
    "   - Client specific\n",
    "   - Marketing specific\n",
    "   - Economic index specific"
   ]
  },
  {
   "cell_type": "markdown",
   "metadata": {},
   "source": [
    "# Client specific data processing"
   ]
  },
  {
   "cell_type": "code",
   "execution_count": 5,
   "metadata": {},
   "outputs": [
    {
     "data": {
      "text/html": [
       "<div>\n",
       "<style scoped>\n",
       "    .dataframe tbody tr th:only-of-type {\n",
       "        vertical-align: middle;\n",
       "    }\n",
       "\n",
       "    .dataframe tbody tr th {\n",
       "        vertical-align: top;\n",
       "    }\n",
       "\n",
       "    .dataframe thead th {\n",
       "        text-align: right;\n",
       "    }\n",
       "</style>\n",
       "<table border=\"1\" class=\"dataframe\">\n",
       "  <thead>\n",
       "    <tr style=\"text-align: right;\">\n",
       "      <th></th>\n",
       "      <th>age</th>\n",
       "      <th>job</th>\n",
       "      <th>marital</th>\n",
       "      <th>education</th>\n",
       "      <th>default</th>\n",
       "      <th>housing</th>\n",
       "      <th>loan</th>\n",
       "    </tr>\n",
       "  </thead>\n",
       "  <tbody>\n",
       "    <tr>\n",
       "      <th>0</th>\n",
       "      <td>56</td>\n",
       "      <td>housemaid</td>\n",
       "      <td>married</td>\n",
       "      <td>basic.4y</td>\n",
       "      <td>no</td>\n",
       "      <td>no</td>\n",
       "      <td>no</td>\n",
       "    </tr>\n",
       "    <tr>\n",
       "      <th>1</th>\n",
       "      <td>57</td>\n",
       "      <td>services</td>\n",
       "      <td>married</td>\n",
       "      <td>high.school</td>\n",
       "      <td>unknown</td>\n",
       "      <td>no</td>\n",
       "      <td>no</td>\n",
       "    </tr>\n",
       "    <tr>\n",
       "      <th>2</th>\n",
       "      <td>37</td>\n",
       "      <td>services</td>\n",
       "      <td>married</td>\n",
       "      <td>high.school</td>\n",
       "      <td>no</td>\n",
       "      <td>yes</td>\n",
       "      <td>no</td>\n",
       "    </tr>\n",
       "    <tr>\n",
       "      <th>3</th>\n",
       "      <td>40</td>\n",
       "      <td>admin.</td>\n",
       "      <td>married</td>\n",
       "      <td>basic.6y</td>\n",
       "      <td>no</td>\n",
       "      <td>no</td>\n",
       "      <td>no</td>\n",
       "    </tr>\n",
       "    <tr>\n",
       "      <th>4</th>\n",
       "      <td>56</td>\n",
       "      <td>services</td>\n",
       "      <td>married</td>\n",
       "      <td>high.school</td>\n",
       "      <td>no</td>\n",
       "      <td>no</td>\n",
       "      <td>yes</td>\n",
       "    </tr>\n",
       "  </tbody>\n",
       "</table>\n",
       "</div>"
      ],
      "text/plain": [
       "   age        job  marital    education  default housing loan\n",
       "0   56  housemaid  married     basic.4y       no      no   no\n",
       "1   57   services  married  high.school  unknown      no   no\n",
       "2   37   services  married  high.school       no     yes   no\n",
       "3   40     admin.  married     basic.6y       no      no   no\n",
       "4   56   services  married  high.school       no      no  yes"
      ]
     },
     "execution_count": 5,
     "metadata": {},
     "output_type": "execute_result"
    }
   ],
   "source": [
    "client_df = bank_df.iloc[: , 0:7]\n",
    "client_df.head()"
   ]
  },
  {
   "cell_type": "markdown",
   "metadata": {},
   "source": [
    "# Checking the spread of each categorical columns\n",
    "\n",
    "# Univarite Analysis"
   ]
  },
  {
   "cell_type": "code",
   "execution_count": 6,
   "metadata": {},
   "outputs": [
    {
     "data": {
      "image/png": "[encoded data removed]",
      "text/plain": [
       "<Figure size 1440x576 with 1 Axes>"
      ]
     },
     "metadata": {},
     "output_type": "display_data"
    }
   ],
   "source": [
    "\n",
    "fig, ax = plt.subplots()\n",
    "fig.set_size_inches(20, 8)\n",
    "sns.countplot(x = 'job', data = client_df)\n",
    "ax.set_xlabel('Job', fontsize=15)\n",
    "ax.set_ylabel('Count', fontsize=15)\n",
    "ax.set_title('Job Count Distribution', fontsize=15)\n",
    "ax.tick_params(labelsize=15)\n"
   ]
  },
  {
   "cell_type": "code",
   "execution_count": 7,
   "metadata": {},
   "outputs": [
    {
     "data": {
      "image/png": "[encoded data removed]",
      "text/plain": [
       "<Figure size 1440x576 with 1 Axes>"
      ]
     },
     "metadata": {},
     "output_type": "display_data"
    }
   ],
   "source": [
    "\n",
    "fig, ax = plt.subplots()\n",
    "fig.set_size_inches(20, 8)\n",
    "sns.countplot(x = 'marital', data = client_df)\n",
    "ax.set_xlabel('Marital status', fontsize=15)\n",
    "ax.set_ylabel('Count', fontsize=15)\n",
    "ax.set_title('Marriage Count Distribution', fontsize=15)\n",
    "ax.tick_params(labelsize=15)\n"
   ]
  },
  {
   "cell_type": "code",
   "execution_count": 8,
   "metadata": {},
   "outputs": [
    {
     "data": {
      "image/png": "[encoded data removed]",
      "text/plain": [
       "<Figure size 1440x576 with 1 Axes>"
      ]
     },
     "metadata": {},
     "output_type": "display_data"
    }
   ],
   "source": [
    "\n",
    "fig, ax = plt.subplots()\n",
    "fig.set_size_inches(20, 8)\n",
    "sns.countplot(x = 'education', data = client_df)\n",
    "ax.set_xlabel('Education', fontsize=15)\n",
    "ax.set_ylabel('Count', fontsize=15)\n",
    "ax.set_title('Education Count Distribution', fontsize=15)\n",
    "ax.tick_params(labelsize=15)\n"
   ]
  },
  {
   "cell_type": "code",
   "execution_count": 9,
   "metadata": {},
   "outputs": [
    {
     "data": {
      "image/png": "[encoded data removed]",
      "text/plain": [
       "<Figure size 1440x576 with 3 Axes>"
      ]
     },
     "metadata": {},
     "output_type": "display_data"
    }
   ],
   "source": [
    "# Is credit in default ?\n",
    "fig, (ax1, ax2, ax3) = plt.subplots(nrows = 1, ncols = 3, figsize = (20,8))\n",
    "sns.countplot(x = 'default', data = client_df, ax = ax1, order = ['no', 'unknown', 'yes'])\n",
    "ax1.set_title('Any Defaults ?', fontsize=15)\n",
    "ax1.set_xlabel('')\n",
    "ax1.set_ylabel('Count', fontsize=15)\n",
    "ax1.tick_params(labelsize=15)\n",
    "\n",
    "# Has housing loan ?\n",
    "sns.countplot(x = 'housing', data = client_df, ax = ax2, order = ['no', 'unknown', 'yes'])\n",
    "ax2.set_title('Has Housing Loan ?', fontsize=15)\n",
    "ax2.set_xlabel('')\n",
    "ax2.set_ylabel('Count', fontsize=15)\n",
    "ax2.tick_params(labelsize=15)\n",
    "\n",
    "# Has Personal loan ?\n",
    "sns.countplot(x = 'loan', data = client_df, ax = ax3, order = ['no', 'unknown', 'yes'])\n",
    "ax3.set_title('Any Personal Loan ?', fontsize=15)\n",
    "ax3.set_xlabel('')\n",
    "ax3.set_ylabel('Count', fontsize=15)\n",
    "ax3.tick_params(labelsize=15)\n",
    "\n",
    "plt.subplots_adjust(wspace=0.5)\n"
   ]
  },
  {
   "cell_type": "markdown",
   "metadata": {},
   "source": [
    "# Checking the distribution of Age"
   ]
  },
  {
   "cell_type": "code",
   "execution_count": 10,
   "metadata": {},
   "outputs": [
    {
     "data": {
      "image/png": "[encoded data removed]",
      "text/plain": [
       "<Figure size 1440x576 with 1 Axes>"
      ]
     },
     "metadata": {},
     "output_type": "display_data"
    }
   ],
   "source": [
    "fig, ax = plt.subplots()\n",
    "fig.set_size_inches(20, 8)\n",
    "sns.countplot(x = 'age', data = client_df)\n",
    "ax.set_xlabel('Age', fontsize=15)\n",
    "ax.set_ylabel('Count', fontsize=15)\n",
    "ax.set_title('Age Wise Distribution', fontsize=15)\n",
    "sns.despine()\n"
   ]
  },
  {
   "cell_type": "markdown",
   "metadata": {},
   "source": [
    "# Checking the outliers in Age"
   ]
  },
  {
   "cell_type": "code",
   "execution_count": 11,
   "metadata": {},
   "outputs": [
    {
     "data": {
      "image/png": "[encoded data removed]",
      "text/plain": [
       "<Figure size 720x360 with 1 Axes>"
      ]
     },
     "metadata": {},
     "output_type": "display_data"
    }
   ],
   "source": [
    "fig, (ax1) = plt.subplots(nrows = 1, ncols = 1, figsize = (10, 5))\n",
    "sns.boxplot(x = 'age', data = client_df, orient = 'v', ax = ax1)\n",
    "ax1.set_xlabel('People Age', fontsize=15)\n",
    "ax1.set_ylabel('Age', fontsize=15)\n",
    "ax1.set_title('Age Distribution', fontsize=15)\n",
    "ax1.tick_params(labelsize=15)\n"
   ]
  },
  {
   "cell_type": "code",
   "execution_count": 12,
   "metadata": {},
   "outputs": [],
   "source": [
    "# Calculate the outliers using:\n",
    "\n",
    "  # Interquartile range, IQR = Q3 - Q1\n",
    "  # lower 1.5*IQR whisker = Q1 - 1.5 * IQR \n",
    "  # Upper 1.5*IQR whisker = Q3 + 1.5 * IQR\n",
    " "
   ]
  },
  {
   "cell_type": "code",
   "execution_count": 13,
   "metadata": {},
   "outputs": [
    {
     "name": "stdout",
     "output_type": "stream",
     "text": [
      "1st Quartile:  32.0\n",
      "2nd Quartile:  38.0\n",
      "3rd Quartile:  47.0\n",
      "4th Quartile:  98.0\n",
      "IQR:  15.0\n",
      "Ages above:  69.5 are outliers\n",
      "Ages below:  9.5 are outliers\n"
     ]
    }
   ],
   "source": [
    "Q1=client_df['age'].quantile(q = 0.25)\n",
    "Q2=client_df['age'].quantile(q = 0.50)\n",
    "Q3=client_df['age'].quantile(q = 0.75)\n",
    "Q4=client_df['age'].quantile(q = 1.00)                        \n",
    "\n",
    "IQR= Q3-Q1\n",
    "\n",
    "print('1st Quartile: ', Q1)\n",
    "print('2nd Quartile: ', Q2)\n",
    "print('3rd Quartile: ', Q3)\n",
    "print('4th Quartile: ', Q4)\n",
    "print('IQR: ',IQR)\n",
    "\n",
    "\n",
    "print('Ages above: ', Q3 + 1.5*(IQR), 'are outliers')\n",
    "print('Ages below: ', Q1 - 1.5*(IQR), 'are outliers')\n",
    "\n"
   ]
  },
  {
   "cell_type": "code",
   "execution_count": 14,
   "metadata": {},
   "outputs": [
    {
     "data": {
      "text/plain": [
       "count    41188.00000\n",
       "mean        40.02406\n",
       "std         10.42125\n",
       "min         17.00000\n",
       "25%         32.00000\n",
       "50%         38.00000\n",
       "75%         47.00000\n",
       "max         98.00000\n",
       "Name: age, dtype: float64"
      ]
     },
     "execution_count": 14,
     "metadata": {},
     "output_type": "execute_result"
    }
   ],
   "source": [
    "# checking other details of age\n",
    "client_df['age'].describe()"
   ]
  },
  {
   "cell_type": "markdown",
   "metadata": {},
   "source": [
    "# Age data has quite dispersion , we will divide it into buckets"
   ]
  },
  {
   "cell_type": "code",
   "execution_count": 15,
   "metadata": {},
   "outputs": [],
   "source": [
    "# functions to create bucketing in age\n",
    "\n",
    "def age(df):\n",
    "    df.loc[df['age'] <= 32, 'age'] = 1\n",
    "    df.loc[(df['age'] > 32) & (df['age'] <= 47), 'age'] = 2\n",
    "    df.loc[(df['age'] > 47) & (df['age'] <= 70), 'age'] = 3\n",
    "    df.loc[(df['age'] > 70), 'age']=4\n",
    "           \n",
    "    return df\n",
    "\n",
    "age(client_df);"
   ]
  },
  {
   "cell_type": "markdown",
   "metadata": {},
   "source": [
    "# Checking the categorical data"
   ]
  },
  {
   "cell_type": "code",
   "execution_count": 16,
   "metadata": {},
   "outputs": [
    {
     "data": {
      "text/plain": [
       "\"\\nclient_df['job'].replace(['housemaid' , 'services' , 'admin.' , 'blue-collar' , 'technician', 'retired' , 'management', 'unemployed', 'self-employed', 'unknown' , 'entrepreneur', 'student'] , [1, 2, 3, 4, 5, 6, 7, 8, 9, 10, 11, 12], inplace=True)\\n\\n\\nclient_df['education'].replace(['basic.4y' , 'high.school', 'basic.6y', 'basic.9y', 'professional.course', 'unknown' , 'university.degree' , 'illiterate'], [1, 2, 3, 4, 5, 6, 7, 8], inplace=True)\\n\\nclient_df['marital'].replace(['married', 'single', 'divorced', 'unknown'], [1, 2, 3, 4], inplace=True)\\n\\nclient_df['default'].replace(['yes', 'no', 'unknown'],[1, 2, 3], inplace=True)\\n\\nclient_df['housing'].replace(['yes', 'no', 'unknown'],[1, 2, 3], inplace=True)\\n\\nclient_df['loan'].replace(['yes', 'no', 'unknown'],[1, 2, 3], inplace=True)\\n\""
      ]
     },
     "execution_count": 16,
     "metadata": {},
     "output_type": "execute_result"
    }
   ],
   "source": [
    "# converting categorical columns to numerical values\n",
    "\"\"\"\n",
    "client_df['job'].replace(['housemaid' , 'services' , 'admin.' , 'blue-collar' , 'technician', 'retired' , 'management', 'unemployed', 'self-employed', 'unknown' , 'entrepreneur', 'student'] , [1, 2, 3, 4, 5, 6, 7, 8, 9, 10, 11, 12], inplace=True)\n",
    "\n",
    "\n",
    "client_df['education'].replace(['basic.4y' , 'high.school', 'basic.6y', 'basic.9y', 'professional.course', 'unknown' , 'university.degree' , 'illiterate'], [1, 2, 3, 4, 5, 6, 7, 8], inplace=True)\n",
    "\n",
    "client_df['marital'].replace(['married', 'single', 'divorced', 'unknown'], [1, 2, 3, 4], inplace=True)\n",
    "\n",
    "client_df['default'].replace(['yes', 'no', 'unknown'],[1, 2, 3], inplace=True)\n",
    "\n",
    "client_df['housing'].replace(['yes', 'no', 'unknown'],[1, 2, 3], inplace=True)\n",
    "\n",
    "client_df['loan'].replace(['yes', 'no', 'unknown'],[1, 2, 3], inplace=True)\n",
    "\"\"\"\n"
   ]
  },
  {
   "cell_type": "markdown",
   "metadata": {},
   "source": [
    "# One hot encoding for all categorical values"
   ]
  },
  {
   "cell_type": "code",
   "execution_count": 17,
   "metadata": {},
   "outputs": [
    {
     "data": {
      "text/html": [
       "<div>\n",
       "<style scoped>\n",
       "    .dataframe tbody tr th:only-of-type {\n",
       "        vertical-align: middle;\n",
       "    }\n",
       "\n",
       "    .dataframe tbody tr th {\n",
       "        vertical-align: top;\n",
       "    }\n",
       "\n",
       "    .dataframe thead th {\n",
       "        text-align: right;\n",
       "    }\n",
       "</style>\n",
       "<table border=\"1\" class=\"dataframe\">\n",
       "  <thead>\n",
       "    <tr style=\"text-align: right;\">\n",
       "      <th></th>\n",
       "      <th>age</th>\n",
       "      <th>job_admin.</th>\n",
       "      <th>job_blue-collar</th>\n",
       "      <th>job_entrepreneur</th>\n",
       "      <th>job_housemaid</th>\n",
       "      <th>job_management</th>\n",
       "      <th>job_retired</th>\n",
       "      <th>job_self-employed</th>\n",
       "      <th>job_services</th>\n",
       "      <th>job_student</th>\n",
       "      <th>...</th>\n",
       "      <th>education_unknown</th>\n",
       "      <th>default_no</th>\n",
       "      <th>default_unknown</th>\n",
       "      <th>default_yes</th>\n",
       "      <th>housing_no</th>\n",
       "      <th>housing_unknown</th>\n",
       "      <th>housing_yes</th>\n",
       "      <th>loan_no</th>\n",
       "      <th>loan_unknown</th>\n",
       "      <th>loan_yes</th>\n",
       "    </tr>\n",
       "  </thead>\n",
       "  <tbody>\n",
       "    <tr>\n",
       "      <th>0</th>\n",
       "      <td>3</td>\n",
       "      <td>0</td>\n",
       "      <td>0</td>\n",
       "      <td>0</td>\n",
       "      <td>1</td>\n",
       "      <td>0</td>\n",
       "      <td>0</td>\n",
       "      <td>0</td>\n",
       "      <td>0</td>\n",
       "      <td>0</td>\n",
       "      <td>...</td>\n",
       "      <td>0</td>\n",
       "      <td>1</td>\n",
       "      <td>0</td>\n",
       "      <td>0</td>\n",
       "      <td>1</td>\n",
       "      <td>0</td>\n",
       "      <td>0</td>\n",
       "      <td>1</td>\n",
       "      <td>0</td>\n",
       "      <td>0</td>\n",
       "    </tr>\n",
       "    <tr>\n",
       "      <th>1</th>\n",
       "      <td>3</td>\n",
       "      <td>0</td>\n",
       "      <td>0</td>\n",
       "      <td>0</td>\n",
       "      <td>0</td>\n",
       "      <td>0</td>\n",
       "      <td>0</td>\n",
       "      <td>0</td>\n",
       "      <td>1</td>\n",
       "      <td>0</td>\n",
       "      <td>...</td>\n",
       "      <td>0</td>\n",
       "      <td>0</td>\n",
       "      <td>1</td>\n",
       "      <td>0</td>\n",
       "      <td>1</td>\n",
       "      <td>0</td>\n",
       "      <td>0</td>\n",
       "      <td>1</td>\n",
       "      <td>0</td>\n",
       "      <td>0</td>\n",
       "    </tr>\n",
       "    <tr>\n",
       "      <th>2</th>\n",
       "      <td>2</td>\n",
       "      <td>0</td>\n",
       "      <td>0</td>\n",
       "      <td>0</td>\n",
       "      <td>0</td>\n",
       "      <td>0</td>\n",
       "      <td>0</td>\n",
       "      <td>0</td>\n",
       "      <td>1</td>\n",
       "      <td>0</td>\n",
       "      <td>...</td>\n",
       "      <td>0</td>\n",
       "      <td>1</td>\n",
       "      <td>0</td>\n",
       "      <td>0</td>\n",
       "      <td>0</td>\n",
       "      <td>0</td>\n",
       "      <td>1</td>\n",
       "      <td>1</td>\n",
       "      <td>0</td>\n",
       "      <td>0</td>\n",
       "    </tr>\n",
       "    <tr>\n",
       "      <th>3</th>\n",
       "      <td>2</td>\n",
       "      <td>1</td>\n",
       "      <td>0</td>\n",
       "      <td>0</td>\n",
       "      <td>0</td>\n",
       "      <td>0</td>\n",
       "      <td>0</td>\n",
       "      <td>0</td>\n",
       "      <td>0</td>\n",
       "      <td>0</td>\n",
       "      <td>...</td>\n",
       "      <td>0</td>\n",
       "      <td>1</td>\n",
       "      <td>0</td>\n",
       "      <td>0</td>\n",
       "      <td>1</td>\n",
       "      <td>0</td>\n",
       "      <td>0</td>\n",
       "      <td>1</td>\n",
       "      <td>0</td>\n",
       "      <td>0</td>\n",
       "    </tr>\n",
       "    <tr>\n",
       "      <th>4</th>\n",
       "      <td>3</td>\n",
       "      <td>0</td>\n",
       "      <td>0</td>\n",
       "      <td>0</td>\n",
       "      <td>0</td>\n",
       "      <td>0</td>\n",
       "      <td>0</td>\n",
       "      <td>0</td>\n",
       "      <td>1</td>\n",
       "      <td>0</td>\n",
       "      <td>...</td>\n",
       "      <td>0</td>\n",
       "      <td>1</td>\n",
       "      <td>0</td>\n",
       "      <td>0</td>\n",
       "      <td>1</td>\n",
       "      <td>0</td>\n",
       "      <td>0</td>\n",
       "      <td>0</td>\n",
       "      <td>0</td>\n",
       "      <td>1</td>\n",
       "    </tr>\n",
       "  </tbody>\n",
       "</table>\n",
       "<p>5 rows × 34 columns</p>\n",
       "</div>"
      ],
      "text/plain": [
       "   age  job_admin.  job_blue-collar  job_entrepreneur  job_housemaid  \\\n",
       "0    3           0                0                 0              1   \n",
       "1    3           0                0                 0              0   \n",
       "2    2           0                0                 0              0   \n",
       "3    2           1                0                 0              0   \n",
       "4    3           0                0                 0              0   \n",
       "\n",
       "   job_management  job_retired  job_self-employed  job_services  job_student  \\\n",
       "0               0            0                  0             0            0   \n",
       "1               0            0                  0             1            0   \n",
       "2               0            0                  0             1            0   \n",
       "3               0            0                  0             0            0   \n",
       "4               0            0                  0             1            0   \n",
       "\n",
       "     ...     education_unknown  default_no  default_unknown  default_yes  \\\n",
       "0    ...                     0           1                0            0   \n",
       "1    ...                     0           0                1            0   \n",
       "2    ...                     0           1                0            0   \n",
       "3    ...                     0           1                0            0   \n",
       "4    ...                     0           1                0            0   \n",
       "\n",
       "   housing_no  housing_unknown  housing_yes  loan_no  loan_unknown  loan_yes  \n",
       "0           1                0            0        1             0         0  \n",
       "1           1                0            0        1             0         0  \n",
       "2           0                0            1        1             0         0  \n",
       "3           1                0            0        1             0         0  \n",
       "4           1                0            0        0             0         1  \n",
       "\n",
       "[5 rows x 34 columns]"
      ]
     },
     "execution_count": 17,
     "metadata": {},
     "output_type": "execute_result"
    }
   ],
   "source": [
    "client_df=pd.get_dummies(client_df)\n",
    "client_df.head()"
   ]
  },
  {
   "cell_type": "markdown",
   "metadata": {},
   "source": []
  },
  {
   "cell_type": "markdown",
   "metadata": {},
   "source": [
    "# Marketing Data Analysis"
   ]
  },
  {
   "cell_type": "code",
   "execution_count": 18,
   "metadata": {},
   "outputs": [
    {
     "data": {
      "text/html": [
       "<div>\n",
       "<style scoped>\n",
       "    .dataframe tbody tr th:only-of-type {\n",
       "        vertical-align: middle;\n",
       "    }\n",
       "\n",
       "    .dataframe tbody tr th {\n",
       "        vertical-align: top;\n",
       "    }\n",
       "\n",
       "    .dataframe thead th {\n",
       "        text-align: right;\n",
       "    }\n",
       "</style>\n",
       "<table border=\"1\" class=\"dataframe\">\n",
       "  <thead>\n",
       "    <tr style=\"text-align: right;\">\n",
       "      <th></th>\n",
       "      <th>contact</th>\n",
       "      <th>month</th>\n",
       "      <th>day_of_week</th>\n",
       "      <th>duration</th>\n",
       "      <th>campaign</th>\n",
       "      <th>pdays</th>\n",
       "      <th>previous</th>\n",
       "      <th>poutcome</th>\n",
       "    </tr>\n",
       "  </thead>\n",
       "  <tbody>\n",
       "    <tr>\n",
       "      <th>0</th>\n",
       "      <td>telephone</td>\n",
       "      <td>may</td>\n",
       "      <td>mon</td>\n",
       "      <td>261</td>\n",
       "      <td>1</td>\n",
       "      <td>999</td>\n",
       "      <td>0</td>\n",
       "      <td>nonexistent</td>\n",
       "    </tr>\n",
       "    <tr>\n",
       "      <th>1</th>\n",
       "      <td>telephone</td>\n",
       "      <td>may</td>\n",
       "      <td>mon</td>\n",
       "      <td>149</td>\n",
       "      <td>1</td>\n",
       "      <td>999</td>\n",
       "      <td>0</td>\n",
       "      <td>nonexistent</td>\n",
       "    </tr>\n",
       "    <tr>\n",
       "      <th>2</th>\n",
       "      <td>telephone</td>\n",
       "      <td>may</td>\n",
       "      <td>mon</td>\n",
       "      <td>226</td>\n",
       "      <td>1</td>\n",
       "      <td>999</td>\n",
       "      <td>0</td>\n",
       "      <td>nonexistent</td>\n",
       "    </tr>\n",
       "    <tr>\n",
       "      <th>3</th>\n",
       "      <td>telephone</td>\n",
       "      <td>may</td>\n",
       "      <td>mon</td>\n",
       "      <td>151</td>\n",
       "      <td>1</td>\n",
       "      <td>999</td>\n",
       "      <td>0</td>\n",
       "      <td>nonexistent</td>\n",
       "    </tr>\n",
       "    <tr>\n",
       "      <th>4</th>\n",
       "      <td>telephone</td>\n",
       "      <td>may</td>\n",
       "      <td>mon</td>\n",
       "      <td>307</td>\n",
       "      <td>1</td>\n",
       "      <td>999</td>\n",
       "      <td>0</td>\n",
       "      <td>nonexistent</td>\n",
       "    </tr>\n",
       "  </tbody>\n",
       "</table>\n",
       "</div>"
      ],
      "text/plain": [
       "     contact month day_of_week  duration  campaign  pdays  previous  \\\n",
       "0  telephone   may         mon       261         1    999         0   \n",
       "1  telephone   may         mon       149         1    999         0   \n",
       "2  telephone   may         mon       226         1    999         0   \n",
       "3  telephone   may         mon       151         1    999         0   \n",
       "4  telephone   may         mon       307         1    999         0   \n",
       "\n",
       "      poutcome  \n",
       "0  nonexistent  \n",
       "1  nonexistent  \n",
       "2  nonexistent  \n",
       "3  nonexistent  \n",
       "4  nonexistent  "
      ]
     },
     "execution_count": 18,
     "metadata": {},
     "output_type": "execute_result"
    }
   ],
   "source": [
    "# Creating seperate datasets for marketing related data\n",
    "marketing_df = bank_df.iloc[: , 7:15]\n",
    "marketing_df.head()\n"
   ]
  },
  {
   "cell_type": "code",
   "execution_count": 19,
   "metadata": {},
   "outputs": [
    {
     "data": {
      "image/png": "[encoded data removed]",
      "text/plain": [
       "<Figure size 288x288 with 1 Axes>"
      ]
     },
     "metadata": {},
     "output_type": "display_data"
    }
   ],
   "source": [
    "\n",
    "fig, ax = plt.subplots()\n",
    "fig.set_size_inches(4, 4)\n",
    "sns.countplot(x = 'contact', data = marketing_df)\n",
    "ax.set_xlabel('Contact Mode', fontsize=15)\n",
    "ax.set_ylabel('Count', fontsize=15)\n",
    "ax.set_title('Contact Count Distribution', fontsize=15)\n",
    "ax.tick_params(labelsize=15)\n"
   ]
  },
  {
   "cell_type": "code",
   "execution_count": 20,
   "metadata": {},
   "outputs": [
    {
     "data": {
      "image/png": "[encoded data removed]",
      "text/plain": [
       "<Figure size 576x576 with 1 Axes>"
      ]
     },
     "metadata": {},
     "output_type": "display_data"
    }
   ],
   "source": [
    "\n",
    "fig, ax = plt.subplots()\n",
    "fig.set_size_inches(8, 8)\n",
    "sns.countplot(x = 'month', data = marketing_df)\n",
    "ax.set_xlabel('Month wise campaigns', fontsize=15)\n",
    "ax.set_ylabel('Count', fontsize=15)\n",
    "ax.set_title('Month Count Distribution', fontsize=15)\n",
    "ax.tick_params(labelsize=15)\n"
   ]
  },
  {
   "cell_type": "code",
   "execution_count": 21,
   "metadata": {},
   "outputs": [
    {
     "data": {
      "image/png": "[encoded data removed]",
      "text/plain": [
       "<Figure size 576x576 with 1 Axes>"
      ]
     },
     "metadata": {},
     "output_type": "display_data"
    }
   ],
   "source": [
    "\n",
    "fig, ax = plt.subplots()\n",
    "fig.set_size_inches(8, 8)\n",
    "sns.countplot(x = 'day_of_week', data = marketing_df)\n",
    "ax.set_xlabel('Week wise campaigns', fontsize=15)\n",
    "ax.set_ylabel('Count', fontsize=15)\n",
    "ax.set_title('Week Count Distribution', fontsize=15)\n",
    "ax.tick_params(labelsize=15)\n"
   ]
  },
  {
   "cell_type": "code",
   "execution_count": 22,
   "metadata": {},
   "outputs": [
    {
     "data": {
      "image/png": "[encoded data removed]",
      "text/plain": [
       "<Figure size 720x360 with 1 Axes>"
      ]
     },
     "metadata": {},
     "output_type": "display_data"
    }
   ],
   "source": [
    "# checking the duration column\n",
    "\n",
    "fig, (ax1) = plt.subplots(nrows = 1, ncols = 1, figsize = (10, 5))\n",
    "sns.boxplot(x = 'duration', data = marketing_df, orient = 'h', ax = ax1)\n",
    "ax1.set_xlabel('Call duration', fontsize=15)\n",
    "ax1.set_ylabel('Duration', fontsize=15)\n",
    "ax1.set_title('Call duration Distribution', fontsize=15)\n",
    "ax1.tick_params(labelsize=15)\n"
   ]
  },
  {
   "cell_type": "code",
   "execution_count": 23,
   "metadata": {},
   "outputs": [
    {
     "name": "stdout",
     "output_type": "stream",
     "text": [
      "1st Quartile:  102.0\n",
      "2nd Quartile:  180.0\n",
      "3rd Quartile:  319.0\n",
      "4th Quartile:  4918.0\n",
      "IQR:  217.0\n",
      "Duration above:  644.5 are outliers\n",
      "Duration below:  -223.5 are outliers\n"
     ]
    }
   ],
   "source": [
    "# finding the outliers\n",
    "\n",
    "Q1=marketing_df['duration'].quantile(q = 0.25)\n",
    "Q2=marketing_df['duration'].quantile(q = 0.50)\n",
    "Q3=marketing_df['duration'].quantile(q = 0.75)\n",
    "Q4=marketing_df['duration'].quantile(q = 1.00)                        \n",
    "\n",
    "IQR= Q3-Q1\n",
    "\n",
    "print('1st Quartile: ', Q1)\n",
    "print('2nd Quartile: ', Q2)\n",
    "print('3rd Quartile: ', Q3)\n",
    "print('4th Quartile: ', Q4)\n",
    "print('IQR: ',IQR)\n",
    "\n",
    "\n",
    "print('Duration above: ', Q3 + 1.5*(IQR), 'are outliers')\n",
    "print('Duration below: ', Q1 - 1.5*(IQR), 'are outliers')\n",
    "\n"
   ]
  },
  {
   "cell_type": "markdown",
   "metadata": {},
   "source": [
    "# Dividing the duration into buckets"
   ]
  },
  {
   "cell_type": "code",
   "execution_count": 24,
   "metadata": {},
   "outputs": [
    {
     "data": {
      "text/html": [
       "<div>\n",
       "<style scoped>\n",
       "    .dataframe tbody tr th:only-of-type {\n",
       "        vertical-align: middle;\n",
       "    }\n",
       "\n",
       "    .dataframe tbody tr th {\n",
       "        vertical-align: top;\n",
       "    }\n",
       "\n",
       "    .dataframe thead th {\n",
       "        text-align: right;\n",
       "    }\n",
       "</style>\n",
       "<table border=\"1\" class=\"dataframe\">\n",
       "  <thead>\n",
       "    <tr style=\"text-align: right;\">\n",
       "      <th></th>\n",
       "      <th>contact</th>\n",
       "      <th>month</th>\n",
       "      <th>day_of_week</th>\n",
       "      <th>duration</th>\n",
       "      <th>campaign</th>\n",
       "      <th>pdays</th>\n",
       "      <th>previous</th>\n",
       "      <th>poutcome</th>\n",
       "    </tr>\n",
       "  </thead>\n",
       "  <tbody>\n",
       "    <tr>\n",
       "      <th>0</th>\n",
       "      <td>telephone</td>\n",
       "      <td>may</td>\n",
       "      <td>mon</td>\n",
       "      <td>3</td>\n",
       "      <td>1</td>\n",
       "      <td>999</td>\n",
       "      <td>0</td>\n",
       "      <td>nonexistent</td>\n",
       "    </tr>\n",
       "    <tr>\n",
       "      <th>1</th>\n",
       "      <td>telephone</td>\n",
       "      <td>may</td>\n",
       "      <td>mon</td>\n",
       "      <td>2</td>\n",
       "      <td>1</td>\n",
       "      <td>999</td>\n",
       "      <td>0</td>\n",
       "      <td>nonexistent</td>\n",
       "    </tr>\n",
       "    <tr>\n",
       "      <th>2</th>\n",
       "      <td>telephone</td>\n",
       "      <td>may</td>\n",
       "      <td>mon</td>\n",
       "      <td>3</td>\n",
       "      <td>1</td>\n",
       "      <td>999</td>\n",
       "      <td>0</td>\n",
       "      <td>nonexistent</td>\n",
       "    </tr>\n",
       "    <tr>\n",
       "      <th>3</th>\n",
       "      <td>telephone</td>\n",
       "      <td>may</td>\n",
       "      <td>mon</td>\n",
       "      <td>2</td>\n",
       "      <td>1</td>\n",
       "      <td>999</td>\n",
       "      <td>0</td>\n",
       "      <td>nonexistent</td>\n",
       "    </tr>\n",
       "    <tr>\n",
       "      <th>4</th>\n",
       "      <td>telephone</td>\n",
       "      <td>may</td>\n",
       "      <td>mon</td>\n",
       "      <td>3</td>\n",
       "      <td>1</td>\n",
       "      <td>999</td>\n",
       "      <td>0</td>\n",
       "      <td>nonexistent</td>\n",
       "    </tr>\n",
       "  </tbody>\n",
       "</table>\n",
       "</div>"
      ],
      "text/plain": [
       "     contact month day_of_week  duration  campaign  pdays  previous  \\\n",
       "0  telephone   may         mon         3         1    999         0   \n",
       "1  telephone   may         mon         2         1    999         0   \n",
       "2  telephone   may         mon         3         1    999         0   \n",
       "3  telephone   may         mon         2         1    999         0   \n",
       "4  telephone   may         mon         3         1    999         0   \n",
       "\n",
       "      poutcome  \n",
       "0  nonexistent  \n",
       "1  nonexistent  \n",
       "2  nonexistent  \n",
       "3  nonexistent  \n",
       "4  nonexistent  "
      ]
     },
     "execution_count": 24,
     "metadata": {},
     "output_type": "execute_result"
    }
   ],
   "source": [
    "def duration(df):\n",
    "\n",
    "    df.loc[df['duration'] <= 102, 'duration'] = 1\n",
    "    df.loc[(df['duration'] > 102) & (df['duration'] <= 180)  , 'duration']    = 2\n",
    "    df.loc[(df['duration'] > 180) & (df['duration'] <= 319)  , 'duration']   = 3\n",
    "    df.loc[(df['duration'] > 319) & (df['duration'] <= 644.5), 'duration'] = 4\n",
    "    df.loc[df['duration']  > 644.5, 'duration'] = 5\n",
    "\n",
    "    return df\n",
    "\n",
    "duration(marketing_df).head()"
   ]
  },
  {
   "cell_type": "markdown",
   "metadata": {},
   "source": [
    "### Enconding - Month"
   ]
  },
  {
   "cell_type": "code",
   "execution_count": 25,
   "metadata": {},
   "outputs": [],
   "source": [
    "\n",
    "d_mons = {'jan':1, 'feb':2, 'mar':3, 'apr':4, 'may':5, \n",
    "    'jun':6, 'jul':7, 'aug':8, 'sep':9, 'oct':10,\n",
    "    'nov':11, 'dec':12}\n",
    "\n",
    "marketing_df.month=marketing_df.month.map(d_mons)\n"
   ]
  },
  {
   "cell_type": "code",
   "execution_count": 26,
   "metadata": {},
   "outputs": [],
   "source": [
    "# converting datatype to int\n",
    "marketing_df['month'] =marketing_df['month'].astype(str).astype(int)"
   ]
  },
  {
   "cell_type": "markdown",
   "metadata": {},
   "source": [
    "### Correlation - Marketing Data"
   ]
  },
  {
   "cell_type": "code",
   "execution_count": 27,
   "metadata": {},
   "outputs": [
    {
     "data": {
      "text/html": [
       "<div>\n",
       "<style scoped>\n",
       "    .dataframe tbody tr th:only-of-type {\n",
       "        vertical-align: middle;\n",
       "    }\n",
       "\n",
       "    .dataframe tbody tr th {\n",
       "        vertical-align: top;\n",
       "    }\n",
       "\n",
       "    .dataframe thead th {\n",
       "        text-align: right;\n",
       "    }\n",
       "</style>\n",
       "<table border=\"1\" class=\"dataframe\">\n",
       "  <thead>\n",
       "    <tr style=\"text-align: right;\">\n",
       "      <th></th>\n",
       "      <th>month</th>\n",
       "      <th>duration</th>\n",
       "      <th>campaign</th>\n",
       "      <th>pdays</th>\n",
       "      <th>previous</th>\n",
       "    </tr>\n",
       "  </thead>\n",
       "  <tbody>\n",
       "    <tr>\n",
       "      <th>month</th>\n",
       "      <td>1.000000</td>\n",
       "      <td>-0.044550</td>\n",
       "      <td>-0.030635</td>\n",
       "      <td>-0.079556</td>\n",
       "      <td>0.063754</td>\n",
       "    </tr>\n",
       "    <tr>\n",
       "      <th>duration</th>\n",
       "      <td>-0.044550</td>\n",
       "      <td>1.000000</td>\n",
       "      <td>-0.116664</td>\n",
       "      <td>-0.075945</td>\n",
       "      <td>0.045537</td>\n",
       "    </tr>\n",
       "    <tr>\n",
       "      <th>campaign</th>\n",
       "      <td>-0.030635</td>\n",
       "      <td>-0.116664</td>\n",
       "      <td>1.000000</td>\n",
       "      <td>0.052584</td>\n",
       "      <td>-0.079141</td>\n",
       "    </tr>\n",
       "    <tr>\n",
       "      <th>pdays</th>\n",
       "      <td>-0.079556</td>\n",
       "      <td>-0.075945</td>\n",
       "      <td>0.052584</td>\n",
       "      <td>1.000000</td>\n",
       "      <td>-0.587514</td>\n",
       "    </tr>\n",
       "    <tr>\n",
       "      <th>previous</th>\n",
       "      <td>0.063754</td>\n",
       "      <td>0.045537</td>\n",
       "      <td>-0.079141</td>\n",
       "      <td>-0.587514</td>\n",
       "      <td>1.000000</td>\n",
       "    </tr>\n",
       "  </tbody>\n",
       "</table>\n",
       "</div>"
      ],
      "text/plain": [
       "             month  duration  campaign     pdays  previous\n",
       "month     1.000000 -0.044550 -0.030635 -0.079556  0.063754\n",
       "duration -0.044550  1.000000 -0.116664 -0.075945  0.045537\n",
       "campaign -0.030635 -0.116664  1.000000  0.052584 -0.079141\n",
       "pdays    -0.079556 -0.075945  0.052584  1.000000 -0.587514\n",
       "previous  0.063754  0.045537 -0.079141 -0.587514  1.000000"
      ]
     },
     "execution_count": 27,
     "metadata": {},
     "output_type": "execute_result"
    }
   ],
   "source": [
    "corr=marketing_df.corr()\n",
    "corr"
   ]
  },
  {
   "cell_type": "code",
   "execution_count": 28,
   "metadata": {
    "scrolled": false
   },
   "outputs": [
    {
     "data": {
      "image/png": "[encoded data removed]",
      "text/plain": [
       "<Figure size 936x504 with 2 Axes>"
      ]
     },
     "metadata": {},
     "output_type": "display_data"
    }
   ],
   "source": [
    "sns.set_context(\"notebook\",font_scale = 1.0, rc = {\"lines.linewidth\":2.5})\n",
    "plt.figure(figsize = (13,7))\n",
    "a = sns.heatmap(corr, annot = True, fmt = \".2f\")"
   ]
  },
  {
   "cell_type": "markdown",
   "metadata": {},
   "source": [
    "### OneHotEncoding"
   ]
  },
  {
   "cell_type": "code",
   "execution_count": 29,
   "metadata": {},
   "outputs": [],
   "source": [
    "#marketing_df['contact']=pd.get_dummies(marketing_df['contact'])\n",
    "#marketing_df['poutcome']=pd.get_dummies(marketing_df['poutcome'])\n",
    "\n",
    "from sklearn.preprocessing import LabelEncoder\n",
    "le = LabelEncoder()\n",
    "marketing_df['contact'] = le.fit_transform(marketing_df['contact'])\n",
    "marketing_df['poutcome'] = le.fit_transform(marketing_df['poutcome'])"
   ]
  },
  {
   "cell_type": "code",
   "execution_count": 30,
   "metadata": {},
   "outputs": [],
   "source": [
    "#marketing_df= marketing_df.loc[:, marketing_df.columns != 'day_of_week']\n",
    "#marketing_df= marketing_df.loc[:, marketing_df.columns != 'previous']\n",
    "d_week = {'mon':1, 'tue':2, 'wed':3, 'thu':4, 'fri':5, \n",
    "    'sat':6, 'sun':7}\n",
    "\n",
    "marketing_df.day_of_week=marketing_df.day_of_week.map(d_week)"
   ]
  },
  {
   "cell_type": "code",
   "execution_count": 31,
   "metadata": {},
   "outputs": [],
   "source": [
    "# converting datatype to int\n",
    "\n",
    "marketing_df['contact'] =marketing_df['contact'].astype(str).astype(int)\n",
    "marketing_df['month'] =marketing_df['month'].astype(str).astype(int)\n",
    "marketing_df['day_of_week'] =marketing_df['day_of_week'].astype(str).astype(int)\n",
    "marketing_df['poutcome'] =marketing_df['poutcome'].astype(str).astype(int)"
   ]
  },
  {
   "cell_type": "code",
   "execution_count": 32,
   "metadata": {},
   "outputs": [
    {
     "data": {
      "text/html": [
       "<div>\n",
       "<style scoped>\n",
       "    .dataframe tbody tr th:only-of-type {\n",
       "        vertical-align: middle;\n",
       "    }\n",
       "\n",
       "    .dataframe tbody tr th {\n",
       "        vertical-align: top;\n",
       "    }\n",
       "\n",
       "    .dataframe thead th {\n",
       "        text-align: right;\n",
       "    }\n",
       "</style>\n",
       "<table border=\"1\" class=\"dataframe\">\n",
       "  <thead>\n",
       "    <tr style=\"text-align: right;\">\n",
       "      <th></th>\n",
       "      <th>contact</th>\n",
       "      <th>month</th>\n",
       "      <th>day_of_week</th>\n",
       "      <th>duration</th>\n",
       "      <th>campaign</th>\n",
       "      <th>pdays</th>\n",
       "      <th>previous</th>\n",
       "      <th>poutcome</th>\n",
       "    </tr>\n",
       "  </thead>\n",
       "  <tbody>\n",
       "    <tr>\n",
       "      <th>0</th>\n",
       "      <td>1</td>\n",
       "      <td>5</td>\n",
       "      <td>1</td>\n",
       "      <td>3</td>\n",
       "      <td>1</td>\n",
       "      <td>999</td>\n",
       "      <td>0</td>\n",
       "      <td>1</td>\n",
       "    </tr>\n",
       "    <tr>\n",
       "      <th>1</th>\n",
       "      <td>1</td>\n",
       "      <td>5</td>\n",
       "      <td>1</td>\n",
       "      <td>2</td>\n",
       "      <td>1</td>\n",
       "      <td>999</td>\n",
       "      <td>0</td>\n",
       "      <td>1</td>\n",
       "    </tr>\n",
       "    <tr>\n",
       "      <th>2</th>\n",
       "      <td>1</td>\n",
       "      <td>5</td>\n",
       "      <td>1</td>\n",
       "      <td>3</td>\n",
       "      <td>1</td>\n",
       "      <td>999</td>\n",
       "      <td>0</td>\n",
       "      <td>1</td>\n",
       "    </tr>\n",
       "    <tr>\n",
       "      <th>3</th>\n",
       "      <td>1</td>\n",
       "      <td>5</td>\n",
       "      <td>1</td>\n",
       "      <td>2</td>\n",
       "      <td>1</td>\n",
       "      <td>999</td>\n",
       "      <td>0</td>\n",
       "      <td>1</td>\n",
       "    </tr>\n",
       "    <tr>\n",
       "      <th>4</th>\n",
       "      <td>1</td>\n",
       "      <td>5</td>\n",
       "      <td>1</td>\n",
       "      <td>3</td>\n",
       "      <td>1</td>\n",
       "      <td>999</td>\n",
       "      <td>0</td>\n",
       "      <td>1</td>\n",
       "    </tr>\n",
       "  </tbody>\n",
       "</table>\n",
       "</div>"
      ],
      "text/plain": [
       "   contact  month  day_of_week  duration  campaign  pdays  previous  poutcome\n",
       "0        1      5            1         3         1    999         0         1\n",
       "1        1      5            1         2         1    999         0         1\n",
       "2        1      5            1         3         1    999         0         1\n",
       "3        1      5            1         2         1    999         0         1\n",
       "4        1      5            1         3         1    999         0         1"
      ]
     },
     "execution_count": 32,
     "metadata": {},
     "output_type": "execute_result"
    }
   ],
   "source": [
    "marketing_df.head()"
   ]
  },
  {
   "cell_type": "markdown",
   "metadata": {},
   "source": [
    "# Economic Index data"
   ]
  },
  {
   "cell_type": "code",
   "execution_count": 33,
   "metadata": {},
   "outputs": [
    {
     "data": {
      "text/html": [
       "<div>\n",
       "<style scoped>\n",
       "    .dataframe tbody tr th:only-of-type {\n",
       "        vertical-align: middle;\n",
       "    }\n",
       "\n",
       "    .dataframe tbody tr th {\n",
       "        vertical-align: top;\n",
       "    }\n",
       "\n",
       "    .dataframe thead th {\n",
       "        text-align: right;\n",
       "    }\n",
       "</style>\n",
       "<table border=\"1\" class=\"dataframe\">\n",
       "  <thead>\n",
       "    <tr style=\"text-align: right;\">\n",
       "      <th></th>\n",
       "      <th>emp.var.rate</th>\n",
       "      <th>cons.price.idx</th>\n",
       "      <th>cons.conf.idx</th>\n",
       "      <th>euribor3m</th>\n",
       "      <th>nr.employed</th>\n",
       "      <th>y</th>\n",
       "    </tr>\n",
       "  </thead>\n",
       "  <tbody>\n",
       "    <tr>\n",
       "      <th>0</th>\n",
       "      <td>1.1</td>\n",
       "      <td>93.994</td>\n",
       "      <td>-36.4</td>\n",
       "      <td>4.857</td>\n",
       "      <td>5191.0</td>\n",
       "      <td>no</td>\n",
       "    </tr>\n",
       "    <tr>\n",
       "      <th>1</th>\n",
       "      <td>1.1</td>\n",
       "      <td>93.994</td>\n",
       "      <td>-36.4</td>\n",
       "      <td>4.857</td>\n",
       "      <td>5191.0</td>\n",
       "      <td>no</td>\n",
       "    </tr>\n",
       "    <tr>\n",
       "      <th>2</th>\n",
       "      <td>1.1</td>\n",
       "      <td>93.994</td>\n",
       "      <td>-36.4</td>\n",
       "      <td>4.857</td>\n",
       "      <td>5191.0</td>\n",
       "      <td>no</td>\n",
       "    </tr>\n",
       "    <tr>\n",
       "      <th>3</th>\n",
       "      <td>1.1</td>\n",
       "      <td>93.994</td>\n",
       "      <td>-36.4</td>\n",
       "      <td>4.857</td>\n",
       "      <td>5191.0</td>\n",
       "      <td>no</td>\n",
       "    </tr>\n",
       "    <tr>\n",
       "      <th>4</th>\n",
       "      <td>1.1</td>\n",
       "      <td>93.994</td>\n",
       "      <td>-36.4</td>\n",
       "      <td>4.857</td>\n",
       "      <td>5191.0</td>\n",
       "      <td>no</td>\n",
       "    </tr>\n",
       "  </tbody>\n",
       "</table>\n",
       "</div>"
      ],
      "text/plain": [
       "   emp.var.rate  cons.price.idx  cons.conf.idx  euribor3m  nr.employed   y\n",
       "0           1.1          93.994          -36.4      4.857       5191.0  no\n",
       "1           1.1          93.994          -36.4      4.857       5191.0  no\n",
       "2           1.1          93.994          -36.4      4.857       5191.0  no\n",
       "3           1.1          93.994          -36.4      4.857       5191.0  no\n",
       "4           1.1          93.994          -36.4      4.857       5191.0  no"
      ]
     },
     "execution_count": 33,
     "metadata": {},
     "output_type": "execute_result"
    }
   ],
   "source": [
    "# Slicing market economic index data \n",
    "index_df = bank_df.iloc[: , 15:21]\n",
    "index_df.head()"
   ]
  },
  {
   "cell_type": "code",
   "execution_count": 34,
   "metadata": {},
   "outputs": [
    {
     "data": {
      "text/html": [
       "<div>\n",
       "<style scoped>\n",
       "    .dataframe tbody tr th:only-of-type {\n",
       "        vertical-align: middle;\n",
       "    }\n",
       "\n",
       "    .dataframe tbody tr th {\n",
       "        vertical-align: top;\n",
       "    }\n",
       "\n",
       "    .dataframe thead th {\n",
       "        text-align: right;\n",
       "    }\n",
       "</style>\n",
       "<table border=\"1\" class=\"dataframe\">\n",
       "  <thead>\n",
       "    <tr style=\"text-align: right;\">\n",
       "      <th></th>\n",
       "      <th>emp.var.rate</th>\n",
       "      <th>cons.price.idx</th>\n",
       "      <th>cons.conf.idx</th>\n",
       "      <th>euribor3m</th>\n",
       "      <th>nr.employed</th>\n",
       "    </tr>\n",
       "  </thead>\n",
       "  <tbody>\n",
       "    <tr>\n",
       "      <th>emp.var.rate</th>\n",
       "      <td>1.000000</td>\n",
       "      <td>0.775334</td>\n",
       "      <td>0.196041</td>\n",
       "      <td>0.972245</td>\n",
       "      <td>0.906970</td>\n",
       "    </tr>\n",
       "    <tr>\n",
       "      <th>cons.price.idx</th>\n",
       "      <td>0.775334</td>\n",
       "      <td>1.000000</td>\n",
       "      <td>0.058986</td>\n",
       "      <td>0.688230</td>\n",
       "      <td>0.522034</td>\n",
       "    </tr>\n",
       "    <tr>\n",
       "      <th>cons.conf.idx</th>\n",
       "      <td>0.196041</td>\n",
       "      <td>0.058986</td>\n",
       "      <td>1.000000</td>\n",
       "      <td>0.277686</td>\n",
       "      <td>0.100513</td>\n",
       "    </tr>\n",
       "    <tr>\n",
       "      <th>euribor3m</th>\n",
       "      <td>0.972245</td>\n",
       "      <td>0.688230</td>\n",
       "      <td>0.277686</td>\n",
       "      <td>1.000000</td>\n",
       "      <td>0.945154</td>\n",
       "    </tr>\n",
       "    <tr>\n",
       "      <th>nr.employed</th>\n",
       "      <td>0.906970</td>\n",
       "      <td>0.522034</td>\n",
       "      <td>0.100513</td>\n",
       "      <td>0.945154</td>\n",
       "      <td>1.000000</td>\n",
       "    </tr>\n",
       "  </tbody>\n",
       "</table>\n",
       "</div>"
      ],
      "text/plain": [
       "                emp.var.rate  cons.price.idx  cons.conf.idx  euribor3m  \\\n",
       "emp.var.rate        1.000000        0.775334       0.196041   0.972245   \n",
       "cons.price.idx      0.775334        1.000000       0.058986   0.688230   \n",
       "cons.conf.idx       0.196041        0.058986       1.000000   0.277686   \n",
       "euribor3m           0.972245        0.688230       0.277686   1.000000   \n",
       "nr.employed         0.906970        0.522034       0.100513   0.945154   \n",
       "\n",
       "                nr.employed  \n",
       "emp.var.rate       0.906970  \n",
       "cons.price.idx     0.522034  \n",
       "cons.conf.idx      0.100513  \n",
       "euribor3m          0.945154  \n",
       "nr.employed        1.000000  "
      ]
     },
     "execution_count": 34,
     "metadata": {},
     "output_type": "execute_result"
    }
   ],
   "source": [
    "idx_corr=index_df.corr()\n",
    "idx_corr"
   ]
  },
  {
   "cell_type": "code",
   "execution_count": 35,
   "metadata": {},
   "outputs": [
    {
     "data": {
      "image/png": "[encoded data removed]",
      "text/plain": [
       "<Figure size 720x504 with 2 Axes>"
      ]
     },
     "metadata": {},
     "output_type": "display_data"
    }
   ],
   "source": [
    "sns.set_context(\"notebook\",font_scale = 1.0, rc = {\"lines.linewidth\":2.5})\n",
    "plt.figure(figsize = (10,7))\n",
    "a = sns.heatmap(idx_corr, annot = True, fmt = \".2f\")"
   ]
  },
  {
   "cell_type": "markdown",
   "metadata": {},
   "source": [
    "###  High correlation \n",
    "\n",
    "euribor3m variable is highly correlated with 3 variables such as emp.var.rate, cons.price.idx & nr.employed variables so we can straight away remove these variables"
   ]
  },
  {
   "cell_type": "code",
   "execution_count": 36,
   "metadata": {},
   "outputs": [],
   "source": [
    "index_df= index_df.loc[:, index_df.columns != 'emp.var.rate']\n",
    "index_df= index_df.loc[:, index_df.columns != 'cons.price.idx']\n",
    "index_df= index_df.loc[:, index_df.columns != 'nr.employed']"
   ]
  },
  {
   "cell_type": "markdown",
   "metadata": {},
   "source": [
    "### Combining 3 dataframes"
   ]
  },
  {
   "cell_type": "code",
   "execution_count": 37,
   "metadata": {},
   "outputs": [
    {
     "data": {
      "text/plain": [
       "(41188, 45)"
      ]
     },
     "execution_count": 37,
     "metadata": {},
     "output_type": "execute_result"
    }
   ],
   "source": [
    "bank_final_df= pd.concat([client_df, marketing_df, index_df], axis = 1)\n",
    "bank_final_df.shape"
   ]
  },
  {
   "cell_type": "code",
   "execution_count": 38,
   "metadata": {},
   "outputs": [
    {
     "name": "stdout",
     "output_type": "stream",
     "text": [
      "<class 'pandas.core.frame.DataFrame'>\n",
      "RangeIndex: 41188 entries, 0 to 41187\n",
      "Data columns (total 45 columns):\n",
      "age                              41188 non-null int64\n",
      "job_admin.                       41188 non-null uint8\n",
      "job_blue-collar                  41188 non-null uint8\n",
      "job_entrepreneur                 41188 non-null uint8\n",
      "job_housemaid                    41188 non-null uint8\n",
      "job_management                   41188 non-null uint8\n",
      "job_retired                      41188 non-null uint8\n",
      "job_self-employed                41188 non-null uint8\n",
      "job_services                     41188 non-null uint8\n",
      "job_student                      41188 non-null uint8\n",
      "job_technician                   41188 non-null uint8\n",
      "job_unemployed                   41188 non-null uint8\n",
      "job_unknown                      41188 non-null uint8\n",
      "marital_divorced                 41188 non-null uint8\n",
      "marital_married                  41188 non-null uint8\n",
      "marital_single                   41188 non-null uint8\n",
      "marital_unknown                  41188 non-null uint8\n",
      "education_basic.4y               41188 non-null uint8\n",
      "education_basic.6y               41188 non-null uint8\n",
      "education_basic.9y               41188 non-null uint8\n",
      "education_high.school            41188 non-null uint8\n",
      "education_illiterate             41188 non-null uint8\n",
      "education_professional.course    41188 non-null uint8\n",
      "education_university.degree      41188 non-null uint8\n",
      "education_unknown                41188 non-null uint8\n",
      "default_no                       41188 non-null uint8\n",
      "default_unknown                  41188 non-null uint8\n",
      "default_yes                      41188 non-null uint8\n",
      "housing_no                       41188 non-null uint8\n",
      "housing_unknown                  41188 non-null uint8\n",
      "housing_yes                      41188 non-null uint8\n",
      "loan_no                          41188 non-null uint8\n",
      "loan_unknown                     41188 non-null uint8\n",
      "loan_yes                         41188 non-null uint8\n",
      "contact                          41188 non-null int32\n",
      "month                            41188 non-null int32\n",
      "day_of_week                      41188 non-null int32\n",
      "duration                         41188 non-null int64\n",
      "campaign                         41188 non-null int64\n",
      "pdays                            41188 non-null int64\n",
      "previous                         41188 non-null int64\n",
      "poutcome                         41188 non-null int32\n",
      "cons.conf.idx                    41188 non-null float64\n",
      "euribor3m                        41188 non-null float64\n",
      "y                                41188 non-null object\n",
      "dtypes: float64(2), int32(4), int64(5), object(1), uint8(33)\n",
      "memory usage: 4.4+ MB\n"
     ]
    }
   ],
   "source": [
    "bank_final_df.info()"
   ]
  },
  {
   "cell_type": "markdown",
   "metadata": {},
   "source": [
    "### Feature Importance"
   ]
  },
  {
   "cell_type": "code",
   "execution_count": 39,
   "metadata": {},
   "outputs": [],
   "source": [
    "#from sklearn.model_selection import train_test_split\n",
    "X = bank_final_df.loc[:, bank_final_df.columns != 'y']\n",
    "Y = bank_final_df.loc[:, bank_final_df.columns == 'y']"
   ]
  },
  {
   "cell_type": "code",
   "execution_count": 40,
   "metadata": {},
   "outputs": [
    {
     "name": "stderr",
     "output_type": "stream",
     "text": [
      "C:\\Users\\Mahesh.Sharma\\AppData\\Local\\Continuum\\anaconda3\\lib\\site-packages\\ipykernel_launcher.py:6: DataConversionWarning: A column-vector y was passed when a 1d array was expected. Please change the shape of y to (n_samples,), for example using ravel().\n",
      "  \n"
     ]
    }
   ],
   "source": [
    "## Import the random forest model.\n",
    "from sklearn.ensemble import RandomForestClassifier \n",
    "## This line instantiates the model. \n",
    "rf = RandomForestClassifier() \n",
    "## Fit the model on your training data.\n",
    "rf.fit(X, Y) \n",
    "## And score it on your testing data.\n",
    "rf.score(X, Y)\n",
    "\n",
    "feature_importances = pd.DataFrame(rf.feature_importances_,\n",
    "                                   index = X.columns,\n",
    "                                    columns=['importance']).sort_values('importance',ascending=False)"
   ]
  },
  {
   "cell_type": "code",
   "execution_count": 41,
   "metadata": {},
   "outputs": [],
   "source": [
    "feature_importances.to_csv('feature_importance_4.csv')"
   ]
  },
  {
   "cell_type": "markdown",
   "metadata": {},
   "source": [
    "### Based on the feature importance given by random forest, we have taken all the variable which gave more than 1% of imporantce"
   ]
  },
  {
   "cell_type": "markdown",
   "metadata": {},
   "source": [
    "# Seperating X and Y"
   ]
  },
  {
   "cell_type": "code",
   "execution_count": 42,
   "metadata": {},
   "outputs": [],
   "source": [
    "bank_final_df['y'].replace(['yes', 'no'],[1,0 ], inplace=True)"
   ]
  },
  {
   "cell_type": "code",
   "execution_count": 43,
   "metadata": {},
   "outputs": [
    {
     "data": {
      "text/plain": [
       "Index(['age', 'job_admin.', 'job_blue-collar', 'job_entrepreneur',\n",
       "       'job_housemaid', 'job_management', 'job_retired', 'job_self-employed',\n",
       "       'job_services', 'job_student', 'job_technician', 'job_unemployed',\n",
       "       'job_unknown', 'marital_divorced', 'marital_married', 'marital_single',\n",
       "       'marital_unknown', 'education_basic.4y', 'education_basic.6y',\n",
       "       'education_basic.9y', 'education_high.school', 'education_illiterate',\n",
       "       'education_professional.course', 'education_university.degree',\n",
       "       'education_unknown', 'default_no', 'default_unknown', 'default_yes',\n",
       "       'housing_no', 'housing_unknown', 'housing_yes', 'loan_no',\n",
       "       'loan_unknown', 'loan_yes', 'contact', 'month', 'day_of_week',\n",
       "       'duration', 'campaign', 'pdays', 'previous', 'poutcome',\n",
       "       'cons.conf.idx', 'euribor3m', 'y'],\n",
       "      dtype='object')"
      ]
     },
     "execution_count": 43,
     "metadata": {},
     "output_type": "execute_result"
    }
   ],
   "source": [
    "bank_final_df.columns"
   ]
  },
  {
   "cell_type": "code",
   "execution_count": 44,
   "metadata": {},
   "outputs": [],
   "source": [
    "bank_final_df = bank_final_df[['y','duration',\n",
    "'euribor3m',\n",
    "'cons.conf.idx',\n",
    "'campaign',\n",
    "'day_of_week',\n",
    "'month',\n",
    "'age',\n",
    "'previous',\n",
    "'pdays',\n",
    "'housing_yes',\n",
    "'housing_no',\n",
    "'contact',\n",
    "'marital_married',\n",
    "'job_admin.']]"
   ]
  },
  {
   "cell_type": "code",
   "execution_count": 45,
   "metadata": {},
   "outputs": [],
   "source": [
    "X = bank_final_df.loc[:, bank_final_df.columns != 'y']\n",
    "Y = bank_final_df.loc[:, bank_final_df.columns == 'y']"
   ]
  },
  {
   "cell_type": "code",
   "execution_count": 46,
   "metadata": {},
   "outputs": [
    {
     "data": {
      "text/plain": [
       "Index(['duration', 'euribor3m', 'cons.conf.idx', 'campaign', 'day_of_week',\n",
       "       'month', 'age', 'previous', 'pdays', 'housing_yes', 'housing_no',\n",
       "       'contact', 'marital_married', 'job_admin.'],\n",
       "      dtype='object')"
      ]
     },
     "execution_count": 46,
     "metadata": {},
     "output_type": "execute_result"
    }
   ],
   "source": [
    "X.columns"
   ]
  },
  {
   "cell_type": "markdown",
   "metadata": {},
   "source": [
    "# Splitting the data into Test and Train"
   ]
  },
  {
   "cell_type": "code",
   "execution_count": 47,
   "metadata": {},
   "outputs": [],
   "source": [
    "from sklearn.model_selection import train_test_split\n",
    "from sklearn.model_selection import KFold\n",
    "from sklearn.model_selection import cross_val_score\n",
    "from sklearn.metrics import confusion_matrix, accuracy_score"
   ]
  },
  {
   "cell_type": "code",
   "execution_count": 48,
   "metadata": {},
   "outputs": [],
   "source": [
    "X_train, X_test, y_train, y_test = train_test_split(X, Y, test_size=0.3, random_state=0)\n",
    "columns = X_train.columns"
   ]
  },
  {
   "cell_type": "markdown",
   "metadata": {},
   "source": [
    "# SMOTE"
   ]
  },
  {
   "cell_type": "code",
   "execution_count": 50,
   "metadata": {},
   "outputs": [],
   "source": [
    "from imblearn.over_sampling import SMOTE\n",
    "os = SMOTE(random_state=0)"
   ]
  },
  {
   "cell_type": "code",
   "execution_count": 51,
   "metadata": {},
   "outputs": [
    {
     "name": "stderr",
     "output_type": "stream",
     "text": [
      "C:\\Users\\Mahesh.Sharma\\AppData\\Local\\Continuum\\anaconda3\\lib\\site-packages\\sklearn\\utils\\validation.py:578: DataConversionWarning: A column-vector y was passed when a 1d array was expected. Please change the shape of y to (n_samples, ), for example using ravel().\n",
      "  y = column_or_1d(y, warn=True)\n",
      "C:\\Users\\Mahesh.Sharma\\AppData\\Local\\Continuum\\anaconda3\\lib\\site-packages\\sklearn\\utils\\validation.py:578: DataConversionWarning: A column-vector y was passed when a 1d array was expected. Please change the shape of y to (n_samples, ), for example using ravel().\n",
      "  y = column_or_1d(y, warn=True)\n"
     ]
    },
    {
     "name": "stdout",
     "output_type": "stream",
     "text": [
      "length of oversampled data is  51158\n",
      "Number of no subscription in oversampled data 25579\n",
      "Number of subscription 25579\n",
      "Proportion of no subscription data in oversampled data is  0.5\n",
      "Proportion of subscription data in oversampled data is  0.5\n"
     ]
    }
   ],
   "source": [
    "os_data_X,os_data_y=os.fit_sample(X_train, y_train)\n",
    "os_data_X = pd.DataFrame(data=os_data_X,columns=columns )\n",
    "os_data_y= pd.DataFrame(data=os_data_y,columns=['y'])\n",
    "# we can Check the numbers of our data\n",
    "print(\"length of oversampled data is \",len(os_data_X))\n",
    "print(\"Number of no subscription in oversampled data\",len(os_data_y[os_data_y['y']==0]))\n",
    "print(\"Number of subscription\",len(os_data_y[os_data_y['y']==1]))\n",
    "print(\"Proportion of no subscription data in oversampled data is \",len(os_data_y[os_data_y['y']==0])/len(os_data_X))\n",
    "print(\"Proportion of subscription data in oversampled data is \",len(os_data_y[os_data_y['y']==1])/len(os_data_X))"
   ]
  },
  {
   "cell_type": "code",
   "execution_count": 52,
   "metadata": {},
   "outputs": [],
   "source": [
    "X=os_data_X\n",
    "Y=os_data_y"
   ]
  },
  {
   "cell_type": "code",
   "execution_count": 53,
   "metadata": {},
   "outputs": [],
   "source": [
    "X_train, X_test, y_train, y_test = train_test_split(X, Y, test_size=0.3, random_state=0)\n",
    "columns = X_train.columns"
   ]
  },
  {
   "cell_type": "markdown",
   "metadata": {},
   "source": [
    "# Model Selection"
   ]
  },
  {
   "cell_type": "markdown",
   "metadata": {},
   "source": [
    "### Random Forest"
   ]
  },
  {
   "cell_type": "code",
   "execution_count": 100,
   "metadata": {},
   "outputs": [
    {
     "name": "stderr",
     "output_type": "stream",
     "text": [
      "C:\\Users\\Mahesh.Sharma\\AppData\\Local\\Continuum\\anaconda3\\lib\\site-packages\\ipykernel_launcher.py:3: DataConversionWarning: A column-vector y was passed when a 1d array was expected. Please change the shape of y to (n_samples,), for example using ravel().\n",
      "  This is separate from the ipykernel package so we can avoid doing imports until\n"
     ]
    },
    {
     "name": "stdout",
     "output_type": "stream",
     "text": [
      "99.4 %\n",
      "lr_cm is  [[7175  476]\n",
      " [ 317 7380]]\n",
      "Report Entropy:               precision    recall  f1-score   support\n",
      "\n",
      "          0       0.88      0.89      0.89      7651\n",
      "          1       0.89      0.88      0.89      7697\n",
      "\n",
      "avg / total       0.89      0.89      0.89     15348\n",
      "\n"
     ]
    }
   ],
   "source": [
    "# Random Forest\n",
    "random_forest = RandomForestClassifier(n_estimators=100)\n",
    "random_forest.fit(X_train, y_train)\n",
    "\n",
    "y_pred = random_forest.predict(X_test)\n",
    "\n",
    "random_forest.score(X_train, y_train)\n",
    "acc_random_forest = round(random_forest.score(X_train, y_train) * 100, 2)\n",
    "print(round(acc_random_forest,2,), \"%\")\n",
    "\n",
    "cm_rf = confusion_matrix(y_test, y_pred)\n",
    "print('lr_cm is ', lr_cm)\n",
    "print(\"Report Entropy: \", classification_report(y_test, y_pred_gini))"
   ]
  },
  {
   "cell_type": "markdown",
   "metadata": {},
   "source": [
    "### Logistic Regression"
   ]
  },
  {
   "cell_type": "code",
   "execution_count": 101,
   "metadata": {},
   "outputs": [
    {
     "name": "stderr",
     "output_type": "stream",
     "text": [
      "C:\\Users\\Mahesh.Sharma\\AppData\\Local\\Continuum\\anaconda3\\lib\\site-packages\\sklearn\\utils\\validation.py:578: DataConversionWarning: A column-vector y was passed when a 1d array was expected. Please change the shape of y to (n_samples, ), for example using ravel().\n",
      "  y = column_or_1d(y, warn=True)\n"
     ]
    },
    {
     "name": "stdout",
     "output_type": "stream",
     "text": [
      "84.98 %\n",
      "lr_cm is  [[7175  476]\n",
      " [ 317 7380]]\n",
      "Report Entropy:               precision    recall  f1-score   support\n",
      "\n",
      "          0       0.88      0.89      0.89      7651\n",
      "          1       0.89      0.88      0.89      7697\n",
      "\n",
      "avg / total       0.89      0.89      0.89     15348\n",
      "\n"
     ]
    }
   ],
   "source": [
    "# Logistic Regression\n",
    "logreg = LogisticRegression()\n",
    "logreg.fit(X_train, y_train)\n",
    "\n",
    "y_pred = logreg.predict(X_test)\n",
    "\n",
    "acc_log = round(logreg.score(X_train, y_train) * 100, 2)\n",
    "print(round(acc_log,2,), \"%\")\n",
    "\n",
    "cm_lr = confusion_matrix(y_test, y_pred)\n",
    "print('lr_cm is ', lr_cm)\n",
    "print(\"Report Entropy: \", classification_report(y_test, y_pred_gini))"
   ]
  },
  {
   "cell_type": "markdown",
   "metadata": {},
   "source": [
    "### Naive Bayes"
   ]
  },
  {
   "cell_type": "code",
   "execution_count": 102,
   "metadata": {},
   "outputs": [
    {
     "name": "stdout",
     "output_type": "stream",
     "text": [
      "75.07 %\n",
      "lr_cm is  [[7175  476]\n",
      " [ 317 7380]]\n",
      "Report Entropy:               precision    recall  f1-score   support\n",
      "\n",
      "          0       0.88      0.89      0.89      7651\n",
      "          1       0.89      0.88      0.89      7697\n",
      "\n",
      "avg / total       0.89      0.89      0.89     15348\n",
      "\n"
     ]
    },
    {
     "name": "stderr",
     "output_type": "stream",
     "text": [
      "C:\\Users\\Mahesh.Sharma\\AppData\\Local\\Continuum\\anaconda3\\lib\\site-packages\\sklearn\\utils\\validation.py:578: DataConversionWarning: A column-vector y was passed when a 1d array was expected. Please change the shape of y to (n_samples, ), for example using ravel().\n",
      "  y = column_or_1d(y, warn=True)\n"
     ]
    }
   ],
   "source": [
    "# Gaussian Naive Bayes\n",
    "gaussian = GaussianNB()\n",
    "gaussian.fit(X_train, y_train)\n",
    "\n",
    "y_pred = gaussian.predict(X_test)\n",
    "\n",
    "acc_gaussian = round(gaussian.score(X_train, y_train) * 100, 2)\n",
    "print(round(acc_gaussian,2,), \"%\")\n",
    "\n",
    "cm_nv = confusion_matrix(y_test, y_pred)\n",
    "print('lr_cm is ', lr_cm)\n",
    "print(\"Report Entropy: \", classification_report(y_test, y_pred_gini))"
   ]
  },
  {
   "cell_type": "markdown",
   "metadata": {},
   "source": [
    "### SVM"
   ]
  },
  {
   "cell_type": "code",
   "execution_count": 103,
   "metadata": {},
   "outputs": [
    {
     "name": "stderr",
     "output_type": "stream",
     "text": [
      "C:\\Users\\Mahesh.Sharma\\AppData\\Local\\Continuum\\anaconda3\\lib\\site-packages\\sklearn\\utils\\validation.py:578: DataConversionWarning: A column-vector y was passed when a 1d array was expected. Please change the shape of y to (n_samples, ), for example using ravel().\n",
      "  y = column_or_1d(y, warn=True)\n"
     ]
    },
    {
     "name": "stdout",
     "output_type": "stream",
     "text": [
      "84.97 %\n",
      "lr_cm is  [[7175  476]\n",
      " [ 317 7380]]\n",
      "Report Entropy:               precision    recall  f1-score   support\n",
      "\n",
      "          0       0.88      0.89      0.89      7651\n",
      "          1       0.89      0.88      0.89      7697\n",
      "\n",
      "avg / total       0.89      0.89      0.89     15348\n",
      "\n"
     ]
    }
   ],
   "source": [
    "# Linear SVC\n",
    "linear_svc = LinearSVC()\n",
    "linear_svc.fit(X_train, y_train)\n",
    "\n",
    "y_pred = linear_svc.predict(X_test)\n",
    "\n",
    "acc_linear_svc = round(linear_svc.score(X_train, y_train) * 100, 2)\n",
    "print(round(acc_linear_svc,2,), \"%\")\n",
    "\n",
    "cm_svm = confusion_matrix(y_test, y_pred)\n",
    "print('lr_cm is ', lr_cm)\n",
    "print(\"Report Entropy: \", classification_report(y_test, y_pred_gini))"
   ]
  },
  {
   "cell_type": "markdown",
   "metadata": {},
   "source": [
    "### Decision Tree"
   ]
  },
  {
   "cell_type": "code",
   "execution_count": 104,
   "metadata": {},
   "outputs": [
    {
     "name": "stdout",
     "output_type": "stream",
     "text": [
      "99.4 %\n",
      "lr_cm is  [[7175  476]\n",
      " [ 317 7380]]\n",
      "Report Entropy:               precision    recall  f1-score   support\n",
      "\n",
      "          0       0.88      0.89      0.89      7651\n",
      "          1       0.89      0.88      0.89      7697\n",
      "\n",
      "avg / total       0.89      0.89      0.89     15348\n",
      "\n"
     ]
    }
   ],
   "source": [
    "# Decision Tree\n",
    "decision_tree = DecisionTreeClassifier()\n",
    "decision_tree.fit(X_train, y_train)\n",
    "\n",
    "y_pred = decision_tree.predict(X_test)\n",
    "\n",
    "acc_decision_tree = round(decision_tree.score(X_train, y_train) * 100, 2)\n",
    "print(round(acc_decision_tree,2,), \"%\")\n",
    "\n",
    "cm_dt = confusion_matrix(y_test, y_pred)\n",
    "print('lr_cm is ', lr_cm)\n",
    "print(\"Report Entropy: \", classification_report(y_test, y_pred_gini))"
   ]
  },
  {
   "cell_type": "code",
   "execution_count": 93,
   "metadata": {},
   "outputs": [
    {
     "data": {
      "text/html": [
       "<div>\n",
       "<style scoped>\n",
       "    .dataframe tbody tr th:only-of-type {\n",
       "        vertical-align: middle;\n",
       "    }\n",
       "\n",
       "    .dataframe tbody tr th {\n",
       "        vertical-align: top;\n",
       "    }\n",
       "\n",
       "    .dataframe thead th {\n",
       "        text-align: right;\n",
       "    }\n",
       "</style>\n",
       "<table border=\"1\" class=\"dataframe\">\n",
       "  <thead>\n",
       "    <tr style=\"text-align: right;\">\n",
       "      <th></th>\n",
       "      <th>Model</th>\n",
       "    </tr>\n",
       "    <tr>\n",
       "      <th>Score</th>\n",
       "      <th></th>\n",
       "    </tr>\n",
       "  </thead>\n",
       "  <tbody>\n",
       "    <tr>\n",
       "      <th>99.40</th>\n",
       "      <td>Random Forest</td>\n",
       "    </tr>\n",
       "    <tr>\n",
       "      <th>99.40</th>\n",
       "      <td>Decision Tree</td>\n",
       "    </tr>\n",
       "    <tr>\n",
       "      <th>84.98</th>\n",
       "      <td>Logistic Regression</td>\n",
       "    </tr>\n",
       "    <tr>\n",
       "      <th>84.97</th>\n",
       "      <td>Support Vector Machines</td>\n",
       "    </tr>\n",
       "    <tr>\n",
       "      <th>75.07</th>\n",
       "      <td>Naive Bayes</td>\n",
       "    </tr>\n",
       "  </tbody>\n",
       "</table>\n",
       "</div>"
      ],
      "text/plain": [
       "                         Model\n",
       "Score                         \n",
       "99.40            Random Forest\n",
       "99.40            Decision Tree\n",
       "84.98      Logistic Regression\n",
       "84.97  Support Vector Machines\n",
       "75.07              Naive Bayes"
      ]
     },
     "execution_count": 93,
     "metadata": {},
     "output_type": "execute_result"
    }
   ],
   "source": [
    "results = pd.DataFrame({\n",
    "    'Model': ['Support Vector Machines', \n",
    "              'Logistic Regression', \n",
    "              'Random Forest', \n",
    "              'Naive Bayes', \n",
    "              'Decision Tree'],\n",
    "    'Score': [acc_linear_svc, \n",
    "              acc_log, \n",
    "              acc_random_forest, \n",
    "              acc_gaussian, \n",
    "              acc_decision_tree]})\n",
    "result_df = results.sort_values(by='Score', ascending=False)\n",
    "result_df = result_df.set_index('Score')\n",
    "result_df.head(9)"
   ]
  },
  {
   "cell_type": "markdown",
   "metadata": {},
   "source": [
    "# Decision Tree"
   ]
  },
  {
   "cell_type": "markdown",
   "metadata": {},
   "source": [
    "### Hyper Parameter Tuning"
   ]
  },
  {
   "cell_type": "code",
   "execution_count": 56,
   "metadata": {},
   "outputs": [],
   "source": [
    "from sklearn.metrics import roc_auc_score\n",
    "param_grid = {'max_depth': np.arange(1, 10)}\n",
    "\n",
    "grid_tree = GridSearchCV(DecisionTreeClassifier(), param_grid)\n",
    "grid_tree.fit(X_train, y_train)\n",
    "\n",
    "tree_preds = grid_tree.predict_proba(X_test)[:, 1]\n",
    "tree_performance = roc_auc_score(y_test, tree_preds)"
   ]
  },
  {
   "cell_type": "code",
   "execution_count": 95,
   "metadata": {},
   "outputs": [
    {
     "name": "stdout",
     "output_type": "stream",
     "text": [
      "DecisionTreeClassifier(class_weight=None, criterion='gini', max_depth=9,\n",
      "            max_features=None, max_leaf_nodes=None,\n",
      "            min_impurity_decrease=0.0, min_impurity_split=None,\n",
      "            min_samples_leaf=1, min_samples_split=2,\n",
      "            min_weight_fraction_leaf=0.0, presort=False, random_state=None,\n",
      "            splitter='best')\n",
      "DecisionTree: Area under the ROC curve = 0.9685962651529136\n",
      "Best CV Score:\n",
      "0.9149678860653448\n"
     ]
    }
   ],
   "source": [
    "print(grid_tree.best_estimator_)\n",
    "print('DecisionTree: Area under the ROC curve = {}'.format(tree_performance))\n",
    "print('Best CV Score:')\n",
    "print(grid_tree.best_score_)"
   ]
  },
  {
   "cell_type": "code",
   "execution_count": 96,
   "metadata": {},
   "outputs": [
    {
     "name": "stdout",
     "output_type": "stream",
     "text": [
      "Gini Scores: [0.88916806 0.89949749 0.89388439 0.8950014  0.88857861 0.88494834\n",
      " 0.89304664 0.89472214 0.88072626 0.88463687]\n",
      "Gini Mean: 0.8904210192007407\n",
      "Gini Standard Deviation: 0.005505542593192228\n"
     ]
    }
   ],
   "source": [
    "scores = cross_val_score(clf_gini, X_train, y_train, cv=10, scoring = \"accuracy\")\n",
    "print(\"Gini Scores:\", scores)\n",
    "print(\"Gini Mean:\", scores.mean())\n",
    "print(\"Gini Standard Deviation:\", scores.std())"
   ]
  },
  {
   "cell_type": "code",
   "execution_count": 97,
   "metadata": {},
   "outputs": [
    {
     "data": {
      "image/png": "[encoded data removed]",
      "text/plain": [
       "<Figure size 432x288 with 1 Axes>"
      ]
     },
     "metadata": {},
     "output_type": "display_data"
    }
   ],
   "source": [
    "from sklearn.metrics import roc_curve, auc\n",
    "max_depths = np.linspace(1, 32, 32, endpoint=True)\n",
    "train_results = []\n",
    "test_results = []\n",
    "for max_depth in max_depths:\n",
    "    dt = DecisionTreeClassifier(max_depth=max_depth)\n",
    "    dt.fit(X_train, y_train)\n",
    "    train_pred = dt.predict(X_train)\n",
    "    false_positive_rate, true_positive_rate, thresholds = roc_curve(y_train, train_pred)\n",
    "    roc_auc = auc(false_positive_rate, true_positive_rate)\n",
    "    # Add auc score to previous train results\n",
    "    train_results.append(roc_auc)\n",
    "    y_pred = dt.predict(X_test)\n",
    "    false_positive_rate, true_positive_rate, thresholds = roc_curve(y_test, y_pred)\n",
    "    roc_auc = auc(false_positive_rate, true_positive_rate)\n",
    "    # Add auc score to previous test results\n",
    "    test_results.append(roc_auc)\n",
    "from matplotlib.legend_handler import HandlerLine2D\n",
    "line1, = plt.plot(max_depths, train_results, 'b', label=\"Train AUC\")\n",
    "line2, = plt.plot(max_depths, test_results, 'r', label=\"Test AUC\")\n",
    "plt.legend(handler_map={line1: HandlerLine2D(numpoints=2)})\n",
    "plt.ylabel('AUC score')\n",
    "plt.xlabel('Tree depth')\n",
    "plt.show()"
   ]
  },
  {
   "cell_type": "code",
   "execution_count": 66,
   "metadata": {},
   "outputs": [
    {
     "data": {
      "text/plain": [
       "DecisionTreeClassifier(class_weight=None, criterion='gini', max_depth=5,\n",
       "            max_features=None, max_leaf_nodes=None,\n",
       "            min_impurity_decrease=0.0, min_impurity_split=None,\n",
       "            min_samples_leaf=1, min_samples_split=2,\n",
       "            min_weight_fraction_leaf=0.0, presort=False, random_state=None,\n",
       "            splitter='best')"
      ]
     },
     "execution_count": 66,
     "metadata": {},
     "output_type": "execute_result"
    }
   ],
   "source": [
    "# Decision tree with entropy \n",
    "clf_gini =DecisionTreeClassifier(class_weight=None, criterion='gini', max_depth=5,\n",
    "            max_features=None, max_leaf_nodes=None,\n",
    "            min_impurity_decrease=0.0, min_impurity_split=None,\n",
    "            min_samples_leaf=1, min_samples_split=2,\n",
    "            min_weight_fraction_leaf=0.0, presort=False, random_state=None,\n",
    "            splitter='best')\n",
    "\n",
    "\n",
    "clf_gini.fit(X, Y) "
   ]
  },
  {
   "cell_type": "code",
   "execution_count": 67,
   "metadata": {},
   "outputs": [
    {
     "name": "stdout",
     "output_type": "stream",
     "text": [
      "Predicted values:\n",
      "[1 1 1 ... 0 0 1]\n"
     ]
    }
   ],
   "source": [
    "# Predicton on test with entropy \n",
    "y_pred_gini = clf_gini.predict(X_test) \n",
    "print(\"Predicted values:\") \n",
    "print(y_pred_gini) "
   ]
  },
  {
   "cell_type": "code",
   "execution_count": 68,
   "metadata": {},
   "outputs": [
    {
     "name": "stdout",
     "output_type": "stream",
     "text": [
      "Confusion Matrix Entropy:  [[6831  820]\n",
      " [ 910 6787]]\n",
      "Accuracy Entropy:  88.72817305186344\n",
      "Report Entropy:               precision    recall  f1-score   support\n",
      "\n",
      "          0       0.88      0.89      0.89      7651\n",
      "          1       0.89      0.88      0.89      7697\n",
      "\n",
      "avg / total       0.89      0.89      0.89     15348\n",
      "\n"
     ]
    }
   ],
   "source": [
    "print(\"Confusion Matrix Entropy: \", confusion_matrix(y_test, y_pred_gini)) \n",
    "print (\"Accuracy Entropy: \", accuracy_score(y_test,y_pred_gini)*100) \n",
    "print(\"Report Entropy: \", classification_report(y_test, y_pred_gini))"
   ]
  },
  {
   "cell_type": "code",
   "execution_count": 98,
   "metadata": {},
   "outputs": [
    {
     "data": {
      "image/svg+xml": [
       "<?xml version=\"1.0\" encoding=\"UTF-8\" standalone=\"no\"?>\r\n",
       "<!DOCTYPE svg PUBLIC \"-//W3C//DTD SVG 1.1//EN\"\r\n",
       " \"http://www.w3.org/Graphics/SVG/1.1/DTD/svg11.dtd\">\r\n",
       "<!-- Generated by graphviz version 2.38.0 (20140413.2041)\r\n",
       " -->\r\n",
       "<!-- Title: Tree Pages: 1 -->\r\n",
       "<svg width=\"3948pt\" height=\"671pt\"\r\n",
       " viewBox=\"0.00 0.00 3947.50 671.00\" xmlns=\"http://www.w3.org/2000/svg\" xmlns:xlink=\"http://www.w3.org/1999/xlink\">\r\n",
       "<g id=\"graph0\" class=\"graph\" transform=\"scale(1 1) rotate(0) translate(4 667)\">\r\n",
       "<title>Tree</title>\r\n",
       "<polygon fill=\"white\" stroke=\"none\" points=\"-4,4 -4,-667 3943.5,-667 3943.5,4 -4,4\"/>\r\n",
       "<!-- 0 -->\r\n",
       "<g id=\"node1\" class=\"node\"><title>0</title>\r\n",
       "<path fill=\"none\" stroke=\"black\" d=\"M1958,-663C1958,-663 1819,-663 1819,-663 1813,-663 1807,-657 1807,-651 1807,-651 1807,-592 1807,-592 1807,-586 1813,-580 1819,-580 1819,-580 1958,-580 1958,-580 1964,-580 1970,-586 1970,-592 1970,-592 1970,-651 1970,-651 1970,-657 1964,-663 1958,-663\"/>\r\n",
       "<text text-anchor=\"middle\" x=\"1888.5\" y=\"-647.8\" font-family=\"Helvetica,sans-Serif\" font-size=\"14.00\">duration &lt;= 0.25</text>\r\n",
       "<text text-anchor=\"middle\" x=\"1888.5\" y=\"-632.8\" font-family=\"Helvetica,sans-Serif\" font-size=\"14.00\">gini = 0.5</text>\r\n",
       "<text text-anchor=\"middle\" x=\"1888.5\" y=\"-617.8\" font-family=\"Helvetica,sans-Serif\" font-size=\"14.00\">samples = 51158</text>\r\n",
       "<text text-anchor=\"middle\" x=\"1888.5\" y=\"-602.8\" font-family=\"Helvetica,sans-Serif\" font-size=\"14.00\">value = [25579, 25579]</text>\r\n",
       "<text text-anchor=\"middle\" x=\"1888.5\" y=\"-587.8\" font-family=\"Helvetica,sans-Serif\" font-size=\"14.00\">class = I</text>\r\n",
       "</g>\r\n",
       "<!-- 1 -->\r\n",
       "<g id=\"node2\" class=\"node\"><title>1</title>\r\n",
       "<path fill=\"#e58139\" fill-opacity=\"0.866667\" stroke=\"black\" d=\"M1432,-544C1432,-544 1301,-544 1301,-544 1295,-544 1289,-538 1289,-532 1289,-532 1289,-473 1289,-473 1289,-467 1295,-461 1301,-461 1301,-461 1432,-461 1432,-461 1438,-461 1444,-467 1444,-473 1444,-473 1444,-532 1444,-532 1444,-538 1438,-544 1432,-544\"/>\r\n",
       "<text text-anchor=\"middle\" x=\"1366.5\" y=\"-528.8\" font-family=\"Helvetica,sans-Serif\" font-size=\"14.00\">euribor3m &lt;= 0.138</text>\r\n",
       "<text text-anchor=\"middle\" x=\"1366.5\" y=\"-513.8\" font-family=\"Helvetica,sans-Serif\" font-size=\"14.00\">gini = 0.21</text>\r\n",
       "<text text-anchor=\"middle\" x=\"1366.5\" y=\"-498.8\" font-family=\"Helvetica,sans-Serif\" font-size=\"14.00\">samples = 16043</text>\r\n",
       "<text text-anchor=\"middle\" x=\"1366.5\" y=\"-483.8\" font-family=\"Helvetica,sans-Serif\" font-size=\"14.00\">value = [14135, 1908]</text>\r\n",
       "<text text-anchor=\"middle\" x=\"1366.5\" y=\"-468.8\" font-family=\"Helvetica,sans-Serif\" font-size=\"14.00\">class = I</text>\r\n",
       "</g>\r\n",
       "<!-- 0&#45;&gt;1 -->\r\n",
       "<g id=\"edge1\" class=\"edge\"><title>0&#45;&gt;1</title>\r\n",
       "<path fill=\"none\" stroke=\"black\" d=\"M1806.94,-602.219C1711.02,-580.72 1552.43,-545.174 1454.01,-523.114\"/>\r\n",
       "<polygon fill=\"black\" stroke=\"black\" points=\"1454.61,-519.662 1444.09,-520.89 1453.08,-526.492 1454.61,-519.662\"/>\r\n",
       "<text text-anchor=\"middle\" x=\"1457.47\" y=\"-538.306\" font-family=\"Helvetica,sans-Serif\" font-size=\"14.00\">True</text>\r\n",
       "</g>\r\n",
       "<!-- 30 -->\r\n",
       "<g id=\"node31\" class=\"node\"><title>30</title>\r\n",
       "<path fill=\"#399de5\" fill-opacity=\"0.517647\" stroke=\"black\" d=\"M2535,-544C2535,-544 2396,-544 2396,-544 2390,-544 2384,-538 2384,-532 2384,-532 2384,-473 2384,-473 2384,-467 2390,-461 2396,-461 2396,-461 2535,-461 2535,-461 2541,-461 2547,-467 2547,-473 2547,-473 2547,-532 2547,-532 2547,-538 2541,-544 2535,-544\"/>\r\n",
       "<text text-anchor=\"middle\" x=\"2465.5\" y=\"-528.8\" font-family=\"Helvetica,sans-Serif\" font-size=\"14.00\">euribor3m &lt;= 0.175</text>\r\n",
       "<text text-anchor=\"middle\" x=\"2465.5\" y=\"-513.8\" font-family=\"Helvetica,sans-Serif\" font-size=\"14.00\">gini = 0.439</text>\r\n",
       "<text text-anchor=\"middle\" x=\"2465.5\" y=\"-498.8\" font-family=\"Helvetica,sans-Serif\" font-size=\"14.00\">samples = 35115</text>\r\n",
       "<text text-anchor=\"middle\" x=\"2465.5\" y=\"-483.8\" font-family=\"Helvetica,sans-Serif\" font-size=\"14.00\">value = [11444, 23671]</text>\r\n",
       "<text text-anchor=\"middle\" x=\"2465.5\" y=\"-468.8\" font-family=\"Helvetica,sans-Serif\" font-size=\"14.00\">class = n</text>\r\n",
       "</g>\r\n",
       "<!-- 0&#45;&gt;30 -->\r\n",
       "<g id=\"edge30\" class=\"edge\"><title>0&#45;&gt;30</title>\r\n",
       "<path fill=\"none\" stroke=\"black\" d=\"M1970.25,-603.923C2076.78,-582.322 2262.54,-544.654 2373.77,-522.101\"/>\r\n",
       "<polygon fill=\"black\" stroke=\"black\" points=\"2374.53,-525.518 2383.63,-520.101 2373.13,-518.658 2374.53,-525.518\"/>\r\n",
       "<text text-anchor=\"middle\" x=\"2369.82\" y=\"-537.239\" font-family=\"Helvetica,sans-Serif\" font-size=\"14.00\">False</text>\r\n",
       "</g>\r\n",
       "<!-- 2 -->\r\n",
       "<g id=\"node3\" class=\"node\"><title>2</title>\r\n",
       "<path fill=\"#399de5\" fill-opacity=\"0.098039\" stroke=\"black\" d=\"M703.5,-425C703.5,-425 589.5,-425 589.5,-425 583.5,-425 577.5,-419 577.5,-413 577.5,-413 577.5,-354 577.5,-354 577.5,-348 583.5,-342 589.5,-342 589.5,-342 703.5,-342 703.5,-342 709.5,-342 715.5,-348 715.5,-354 715.5,-354 715.5,-413 715.5,-413 715.5,-419 709.5,-425 703.5,-425\"/>\r\n",
       "<text text-anchor=\"middle\" x=\"646.5\" y=\"-409.8\" font-family=\"Helvetica,sans-Serif\" font-size=\"14.00\">duration &lt;= 0.0</text>\r\n",
       "<text text-anchor=\"middle\" x=\"646.5\" y=\"-394.8\" font-family=\"Helvetica,sans-Serif\" font-size=\"14.00\">gini = 0.499</text>\r\n",
       "<text text-anchor=\"middle\" x=\"646.5\" y=\"-379.8\" font-family=\"Helvetica,sans-Serif\" font-size=\"14.00\">samples = 2078</text>\r\n",
       "<text text-anchor=\"middle\" x=\"646.5\" y=\"-364.8\" font-family=\"Helvetica,sans-Serif\" font-size=\"14.00\">value = [985, 1093]</text>\r\n",
       "<text text-anchor=\"middle\" x=\"646.5\" y=\"-349.8\" font-family=\"Helvetica,sans-Serif\" font-size=\"14.00\">class = n</text>\r\n",
       "</g>\r\n",
       "<!-- 1&#45;&gt;2 -->\r\n",
       "<g id=\"edge2\" class=\"edge\"><title>1&#45;&gt;2</title>\r\n",
       "<path fill=\"none\" stroke=\"black\" d=\"M1288.76,-488.868C1150.86,-466.458 864.848,-419.982 725.817,-397.389\"/>\r\n",
       "<polygon fill=\"black\" stroke=\"black\" points=\"726.092,-393.888 715.66,-395.739 724.969,-400.797 726.092,-393.888\"/>\r\n",
       "</g>\r\n",
       "<!-- 15 -->\r\n",
       "<g id=\"node16\" class=\"node\"><title>15</title>\r\n",
       "<path fill=\"#e58139\" fill-opacity=\"0.937255\" stroke=\"black\" d=\"M1435,-425C1435,-425 1298,-425 1298,-425 1292,-425 1286,-419 1286,-413 1286,-413 1286,-354 1286,-354 1286,-348 1292,-342 1298,-342 1298,-342 1435,-342 1435,-342 1441,-342 1447,-348 1447,-354 1447,-354 1447,-413 1447,-413 1447,-419 1441,-425 1435,-425\"/>\r\n",
       "<text text-anchor=\"middle\" x=\"1366.5\" y=\"-409.8\" font-family=\"Helvetica,sans-Serif\" font-size=\"14.00\">cons.conf.idx &lt;= 0.154</text>\r\n",
       "<text text-anchor=\"middle\" x=\"1366.5\" y=\"-394.8\" font-family=\"Helvetica,sans-Serif\" font-size=\"14.00\">gini = 0.11</text>\r\n",
       "<text text-anchor=\"middle\" x=\"1366.5\" y=\"-379.8\" font-family=\"Helvetica,sans-Serif\" font-size=\"14.00\">samples = 13965</text>\r\n",
       "<text text-anchor=\"middle\" x=\"1366.5\" y=\"-364.8\" font-family=\"Helvetica,sans-Serif\" font-size=\"14.00\">value = [13150, 815]</text>\r\n",
       "<text text-anchor=\"middle\" x=\"1366.5\" y=\"-349.8\" font-family=\"Helvetica,sans-Serif\" font-size=\"14.00\">class = I</text>\r\n",
       "</g>\r\n",
       "<!-- 1&#45;&gt;15 -->\r\n",
       "<g id=\"edge15\" class=\"edge\"><title>1&#45;&gt;15</title>\r\n",
       "<path fill=\"none\" stroke=\"black\" d=\"M1366.5,-460.907C1366.5,-452.649 1366.5,-443.864 1366.5,-435.302\"/>\r\n",
       "<polygon fill=\"black\" stroke=\"black\" points=\"1370,-435.021 1366.5,-425.021 1363,-435.021 1370,-435.021\"/>\r\n",
       "</g>\r\n",
       "<!-- 3 -->\r\n",
       "<g id=\"node4\" class=\"node\"><title>3</title>\r\n",
       "<path fill=\"#e58139\" fill-opacity=\"0.811765\" stroke=\"black\" d=\"M425.5,-306C425.5,-306 327.5,-306 327.5,-306 321.5,-306 315.5,-300 315.5,-294 315.5,-294 315.5,-235 315.5,-235 315.5,-229 321.5,-223 327.5,-223 327.5,-223 425.5,-223 425.5,-223 431.5,-223 437.5,-229 437.5,-235 437.5,-235 437.5,-294 437.5,-294 437.5,-300 431.5,-306 425.5,-306\"/>\r\n",
       "<text text-anchor=\"middle\" x=\"376.5\" y=\"-290.8\" font-family=\"Helvetica,sans-Serif\" font-size=\"14.00\">pdays &lt;= 0.007</text>\r\n",
       "<text text-anchor=\"middle\" x=\"376.5\" y=\"-275.8\" font-family=\"Helvetica,sans-Serif\" font-size=\"14.00\">gini = 0.267</text>\r\n",
       "<text text-anchor=\"middle\" x=\"376.5\" y=\"-260.8\" font-family=\"Helvetica,sans-Serif\" font-size=\"14.00\">samples = 511</text>\r\n",
       "<text text-anchor=\"middle\" x=\"376.5\" y=\"-245.8\" font-family=\"Helvetica,sans-Serif\" font-size=\"14.00\">value = [430, 81]</text>\r\n",
       "<text text-anchor=\"middle\" x=\"376.5\" y=\"-230.8\" font-family=\"Helvetica,sans-Serif\" font-size=\"14.00\">class = I</text>\r\n",
       "</g>\r\n",
       "<!-- 2&#45;&gt;3 -->\r\n",
       "<g id=\"edge3\" class=\"edge\"><title>2&#45;&gt;3</title>\r\n",
       "<path fill=\"none\" stroke=\"black\" d=\"M577.319,-352.522C537.312,-335.185 487.094,-313.424 446.885,-296\"/>\r\n",
       "<polygon fill=\"black\" stroke=\"black\" points=\"448.247,-292.776 437.68,-292.011 445.464,-299.199 448.247,-292.776\"/>\r\n",
       "</g>\r\n",
       "<!-- 10 -->\r\n",
       "<g id=\"node11\" class=\"node\"><title>10</title>\r\n",
       "<path fill=\"#399de5\" fill-opacity=\"0.450980\" stroke=\"black\" d=\"M703.5,-306C703.5,-306 589.5,-306 589.5,-306 583.5,-306 577.5,-300 577.5,-294 577.5,-294 577.5,-235 577.5,-235 577.5,-229 583.5,-223 589.5,-223 589.5,-223 703.5,-223 703.5,-223 709.5,-223 715.5,-229 715.5,-235 715.5,-235 715.5,-294 715.5,-294 715.5,-300 709.5,-306 703.5,-306\"/>\r\n",
       "<text text-anchor=\"middle\" x=\"646.5\" y=\"-290.8\" font-family=\"Helvetica,sans-Serif\" font-size=\"14.00\">duration &lt;= 0.249</text>\r\n",
       "<text text-anchor=\"middle\" x=\"646.5\" y=\"-275.8\" font-family=\"Helvetica,sans-Serif\" font-size=\"14.00\">gini = 0.457</text>\r\n",
       "<text text-anchor=\"middle\" x=\"646.5\" y=\"-260.8\" font-family=\"Helvetica,sans-Serif\" font-size=\"14.00\">samples = 1567</text>\r\n",
       "<text text-anchor=\"middle\" x=\"646.5\" y=\"-245.8\" font-family=\"Helvetica,sans-Serif\" font-size=\"14.00\">value = [555, 1012]</text>\r\n",
       "<text text-anchor=\"middle\" x=\"646.5\" y=\"-230.8\" font-family=\"Helvetica,sans-Serif\" font-size=\"14.00\">class = n</text>\r\n",
       "</g>\r\n",
       "<!-- 2&#45;&gt;10 -->\r\n",
       "<g id=\"edge10\" class=\"edge\"><title>2&#45;&gt;10</title>\r\n",
       "<path fill=\"none\" stroke=\"black\" d=\"M646.5,-341.907C646.5,-333.649 646.5,-324.864 646.5,-316.302\"/>\r\n",
       "<polygon fill=\"black\" stroke=\"black\" points=\"650,-316.021 646.5,-306.021 643,-316.021 650,-316.021\"/>\r\n",
       "</g>\r\n",
       "<!-- 4 -->\r\n",
       "<g id=\"node5\" class=\"node\"><title>4</title>\r\n",
       "<path fill=\"#e58139\" fill-opacity=\"0.188235\" stroke=\"black\" d=\"M242.5,-187C242.5,-187 124.5,-187 124.5,-187 118.5,-187 112.5,-181 112.5,-175 112.5,-175 112.5,-116 112.5,-116 112.5,-110 118.5,-104 124.5,-104 124.5,-104 242.5,-104 242.5,-104 248.5,-104 254.5,-110 254.5,-116 254.5,-116 254.5,-175 254.5,-175 254.5,-181 248.5,-187 242.5,-187\"/>\r\n",
       "<text text-anchor=\"middle\" x=\"183.5\" y=\"-171.8\" font-family=\"Helvetica,sans-Serif\" font-size=\"14.00\">euribor3m &lt;= 0.051</text>\r\n",
       "<text text-anchor=\"middle\" x=\"183.5\" y=\"-156.8\" font-family=\"Helvetica,sans-Serif\" font-size=\"14.00\">gini = 0.495</text>\r\n",
       "<text text-anchor=\"middle\" x=\"183.5\" y=\"-141.8\" font-family=\"Helvetica,sans-Serif\" font-size=\"14.00\">samples = 67</text>\r\n",
       "<text text-anchor=\"middle\" x=\"183.5\" y=\"-126.8\" font-family=\"Helvetica,sans-Serif\" font-size=\"14.00\">value = [37, 30]</text>\r\n",
       "<text text-anchor=\"middle\" x=\"183.5\" y=\"-111.8\" font-family=\"Helvetica,sans-Serif\" font-size=\"14.00\">class = I</text>\r\n",
       "</g>\r\n",
       "<!-- 3&#45;&gt;4 -->\r\n",
       "<g id=\"edge4\" class=\"edge\"><title>3&#45;&gt;4</title>\r\n",
       "<path fill=\"none\" stroke=\"black\" d=\"M315.434,-226.48C297.606,-215.673 277.904,-203.729 259.282,-192.441\"/>\r\n",
       "<polygon fill=\"black\" stroke=\"black\" points=\"260.894,-189.325 250.528,-187.134 257.265,-195.311 260.894,-189.325\"/>\r\n",
       "</g>\r\n",
       "<!-- 7 -->\r\n",
       "<g id=\"node8\" class=\"node\"><title>7</title>\r\n",
       "<path fill=\"#e58139\" fill-opacity=\"0.870588\" stroke=\"black\" d=\"M445,-187C445,-187 308,-187 308,-187 302,-187 296,-181 296,-175 296,-175 296,-116 296,-116 296,-110 302,-104 308,-104 308,-104 445,-104 445,-104 451,-104 457,-110 457,-116 457,-116 457,-175 457,-175 457,-181 451,-187 445,-187\"/>\r\n",
       "<text text-anchor=\"middle\" x=\"376.5\" y=\"-171.8\" font-family=\"Helvetica,sans-Serif\" font-size=\"14.00\">cons.conf.idx &lt;= 0.812</text>\r\n",
       "<text text-anchor=\"middle\" x=\"376.5\" y=\"-156.8\" font-family=\"Helvetica,sans-Serif\" font-size=\"14.00\">gini = 0.203</text>\r\n",
       "<text text-anchor=\"middle\" x=\"376.5\" y=\"-141.8\" font-family=\"Helvetica,sans-Serif\" font-size=\"14.00\">samples = 444</text>\r\n",
       "<text text-anchor=\"middle\" x=\"376.5\" y=\"-126.8\" font-family=\"Helvetica,sans-Serif\" font-size=\"14.00\">value = [393, 51]</text>\r\n",
       "<text text-anchor=\"middle\" x=\"376.5\" y=\"-111.8\" font-family=\"Helvetica,sans-Serif\" font-size=\"14.00\">class = I</text>\r\n",
       "</g>\r\n",
       "<!-- 3&#45;&gt;7 -->\r\n",
       "<g id=\"edge7\" class=\"edge\"><title>3&#45;&gt;7</title>\r\n",
       "<path fill=\"none\" stroke=\"black\" d=\"M376.5,-222.907C376.5,-214.649 376.5,-205.864 376.5,-197.302\"/>\r\n",
       "<polygon fill=\"black\" stroke=\"black\" points=\"380,-197.021 376.5,-187.021 373,-197.021 380,-197.021\"/>\r\n",
       "</g>\r\n",
       "<!-- 5 -->\r\n",
       "<g id=\"node6\" class=\"node\"><title>5</title>\r\n",
       "<path fill=\"#399de5\" fill-opacity=\"0.400000\" stroke=\"black\" d=\"M101,-68C101,-68 12,-68 12,-68 6,-68 0,-62 0,-56 0,-56 0,-12 0,-12 0,-6 6,-0 12,-0 12,-0 101,-0 101,-0 107,-0 113,-6 113,-12 113,-12 113,-56 113,-56 113,-62 107,-68 101,-68\"/>\r\n",
       "<text text-anchor=\"middle\" x=\"56.5\" y=\"-52.8\" font-family=\"Helvetica,sans-Serif\" font-size=\"14.00\">gini = 0.469</text>\r\n",
       "<text text-anchor=\"middle\" x=\"56.5\" y=\"-37.8\" font-family=\"Helvetica,sans-Serif\" font-size=\"14.00\">samples = 48</text>\r\n",
       "<text text-anchor=\"middle\" x=\"56.5\" y=\"-22.8\" font-family=\"Helvetica,sans-Serif\" font-size=\"14.00\">value = [18, 30]</text>\r\n",
       "<text text-anchor=\"middle\" x=\"56.5\" y=\"-7.8\" font-family=\"Helvetica,sans-Serif\" font-size=\"14.00\">class = n</text>\r\n",
       "</g>\r\n",
       "<!-- 4&#45;&gt;5 -->\r\n",
       "<g id=\"edge5\" class=\"edge\"><title>4&#45;&gt;5</title>\r\n",
       "<path fill=\"none\" stroke=\"black\" d=\"M136.21,-103.726C125.314,-94.3318 113.736,-84.349 102.879,-74.9883\"/>\r\n",
       "<polygon fill=\"black\" stroke=\"black\" points=\"104.981,-72.1789 95.1215,-68.2996 100.41,-77.4804 104.981,-72.1789\"/>\r\n",
       "</g>\r\n",
       "<!-- 6 -->\r\n",
       "<g id=\"node7\" class=\"node\"><title>6</title>\r\n",
       "<path fill=\"#e58139\" stroke=\"black\" d=\"M224,-68C224,-68 143,-68 143,-68 137,-68 131,-62 131,-56 131,-56 131,-12 131,-12 131,-6 137,-0 143,-0 143,-0 224,-0 224,-0 230,-0 236,-6 236,-12 236,-12 236,-56 236,-56 236,-62 230,-68 224,-68\"/>\r\n",
       "<text text-anchor=\"middle\" x=\"183.5\" y=\"-52.8\" font-family=\"Helvetica,sans-Serif\" font-size=\"14.00\">gini = 0.0</text>\r\n",
       "<text text-anchor=\"middle\" x=\"183.5\" y=\"-37.8\" font-family=\"Helvetica,sans-Serif\" font-size=\"14.00\">samples = 19</text>\r\n",
       "<text text-anchor=\"middle\" x=\"183.5\" y=\"-22.8\" font-family=\"Helvetica,sans-Serif\" font-size=\"14.00\">value = [19, 0]</text>\r\n",
       "<text text-anchor=\"middle\" x=\"183.5\" y=\"-7.8\" font-family=\"Helvetica,sans-Serif\" font-size=\"14.00\">class = I</text>\r\n",
       "</g>\r\n",
       "<!-- 4&#45;&gt;6 -->\r\n",
       "<g id=\"edge6\" class=\"edge\"><title>4&#45;&gt;6</title>\r\n",
       "<path fill=\"none\" stroke=\"black\" d=\"M183.5,-103.726C183.5,-95.5175 183.5,-86.8595 183.5,-78.56\"/>\r\n",
       "<polygon fill=\"black\" stroke=\"black\" points=\"187,-78.2996 183.5,-68.2996 180,-78.2996 187,-78.2996\"/>\r\n",
       "</g>\r\n",
       "<!-- 8 -->\r\n",
       "<g id=\"node9\" class=\"node\"><title>8</title>\r\n",
       "<path fill=\"#e58139\" fill-opacity=\"0.937255\" stroke=\"black\" d=\"M364.5,-68C364.5,-68 266.5,-68 266.5,-68 260.5,-68 254.5,-62 254.5,-56 254.5,-56 254.5,-12 254.5,-12 254.5,-6 260.5,-0 266.5,-0 266.5,-0 364.5,-0 364.5,-0 370.5,-0 376.5,-6 376.5,-12 376.5,-12 376.5,-56 376.5,-56 376.5,-62 370.5,-68 364.5,-68\"/>\r\n",
       "<text text-anchor=\"middle\" x=\"315.5\" y=\"-52.8\" font-family=\"Helvetica,sans-Serif\" font-size=\"14.00\">gini = 0.109</text>\r\n",
       "<text text-anchor=\"middle\" x=\"315.5\" y=\"-37.8\" font-family=\"Helvetica,sans-Serif\" font-size=\"14.00\">samples = 294</text>\r\n",
       "<text text-anchor=\"middle\" x=\"315.5\" y=\"-22.8\" font-family=\"Helvetica,sans-Serif\" font-size=\"14.00\">value = [277, 17]</text>\r\n",
       "<text text-anchor=\"middle\" x=\"315.5\" y=\"-7.8\" font-family=\"Helvetica,sans-Serif\" font-size=\"14.00\">class = I</text>\r\n",
       "</g>\r\n",
       "<!-- 7&#45;&gt;8 -->\r\n",
       "<g id=\"edge8\" class=\"edge\"><title>7&#45;&gt;8</title>\r\n",
       "<path fill=\"none\" stroke=\"black\" d=\"M353.786,-103.726C348.959,-95.0615 343.853,-85.8962 338.998,-77.1802\"/>\r\n",
       "<polygon fill=\"black\" stroke=\"black\" points=\"341.975,-75.3322 334.05,-68.2996 335.86,-78.7389 341.975,-75.3322\"/>\r\n",
       "</g>\r\n",
       "<!-- 9 -->\r\n",
       "<g id=\"node10\" class=\"node\"><title>9</title>\r\n",
       "<path fill=\"#e58139\" fill-opacity=\"0.705882\" stroke=\"black\" d=\"M504.5,-68C504.5,-68 406.5,-68 406.5,-68 400.5,-68 394.5,-62 394.5,-56 394.5,-56 394.5,-12 394.5,-12 394.5,-6 400.5,-0 406.5,-0 406.5,-0 504.5,-0 504.5,-0 510.5,-0 516.5,-6 516.5,-12 516.5,-12 516.5,-56 516.5,-56 516.5,-62 510.5,-68 504.5,-68\"/>\r\n",
       "<text text-anchor=\"middle\" x=\"455.5\" y=\"-52.8\" font-family=\"Helvetica,sans-Serif\" font-size=\"14.00\">gini = 0.351</text>\r\n",
       "<text text-anchor=\"middle\" x=\"455.5\" y=\"-37.8\" font-family=\"Helvetica,sans-Serif\" font-size=\"14.00\">samples = 150</text>\r\n",
       "<text text-anchor=\"middle\" x=\"455.5\" y=\"-22.8\" font-family=\"Helvetica,sans-Serif\" font-size=\"14.00\">value = [116, 34]</text>\r\n",
       "<text text-anchor=\"middle\" x=\"455.5\" y=\"-7.8\" font-family=\"Helvetica,sans-Serif\" font-size=\"14.00\">class = I</text>\r\n",
       "</g>\r\n",
       "<!-- 7&#45;&gt;9 -->\r\n",
       "<g id=\"edge9\" class=\"edge\"><title>7&#45;&gt;9</title>\r\n",
       "<path fill=\"none\" stroke=\"black\" d=\"M405.917,-103.726C412.3,-94.879 419.059,-85.51 425.465,-76.6303\"/>\r\n",
       "<polygon fill=\"black\" stroke=\"black\" points=\"428.463,-78.4571 431.476,-68.2996 422.786,-74.3615 428.463,-78.4571\"/>\r\n",
       "</g>\r\n",
       "<!-- 11 -->\r\n",
       "<g id=\"node12\" class=\"node\"><title>11</title>\r\n",
       "<path fill=\"#399de5\" stroke=\"black\" d=\"M621,-179.5C621,-179.5 532,-179.5 532,-179.5 526,-179.5 520,-173.5 520,-167.5 520,-167.5 520,-123.5 520,-123.5 520,-117.5 526,-111.5 532,-111.5 532,-111.5 621,-111.5 621,-111.5 627,-111.5 633,-117.5 633,-123.5 633,-123.5 633,-167.5 633,-167.5 633,-173.5 627,-179.5 621,-179.5\"/>\r\n",
       "<text text-anchor=\"middle\" x=\"576.5\" y=\"-164.3\" font-family=\"Helvetica,sans-Serif\" font-size=\"14.00\">gini = 0.0</text>\r\n",
       "<text text-anchor=\"middle\" x=\"576.5\" y=\"-149.3\" font-family=\"Helvetica,sans-Serif\" font-size=\"14.00\">samples = 283</text>\r\n",
       "<text text-anchor=\"middle\" x=\"576.5\" y=\"-134.3\" font-family=\"Helvetica,sans-Serif\" font-size=\"14.00\">value = [0, 283]</text>\r\n",
       "<text text-anchor=\"middle\" x=\"576.5\" y=\"-119.3\" font-family=\"Helvetica,sans-Serif\" font-size=\"14.00\">class = n</text>\r\n",
       "</g>\r\n",
       "<!-- 10&#45;&gt;11 -->\r\n",
       "<g id=\"edge11\" class=\"edge\"><title>10&#45;&gt;11</title>\r\n",
       "<path fill=\"none\" stroke=\"black\" d=\"M622.214,-222.907C615.546,-211.763 608.304,-199.658 601.592,-188.439\"/>\r\n",
       "<polygon fill=\"black\" stroke=\"black\" points=\"604.481,-186.451 596.343,-179.667 598.474,-190.045 604.481,-186.451\"/>\r\n",
       "</g>\r\n",
       "<!-- 12 -->\r\n",
       "<g id=\"node13\" class=\"node\"><title>12</title>\r\n",
       "<path fill=\"#399de5\" fill-opacity=\"0.239216\" stroke=\"black\" d=\"M769.5,-187C769.5,-187 663.5,-187 663.5,-187 657.5,-187 651.5,-181 651.5,-175 651.5,-175 651.5,-116 651.5,-116 651.5,-110 657.5,-104 663.5,-104 663.5,-104 769.5,-104 769.5,-104 775.5,-104 781.5,-110 781.5,-116 781.5,-116 781.5,-175 781.5,-175 781.5,-181 775.5,-187 769.5,-187\"/>\r\n",
       "<text text-anchor=\"middle\" x=\"716.5\" y=\"-171.8\" font-family=\"Helvetica,sans-Serif\" font-size=\"14.00\">pdays &lt;= 0.013</text>\r\n",
       "<text text-anchor=\"middle\" x=\"716.5\" y=\"-156.8\" font-family=\"Helvetica,sans-Serif\" font-size=\"14.00\">gini = 0.491</text>\r\n",
       "<text text-anchor=\"middle\" x=\"716.5\" y=\"-141.8\" font-family=\"Helvetica,sans-Serif\" font-size=\"14.00\">samples = 1284</text>\r\n",
       "<text text-anchor=\"middle\" x=\"716.5\" y=\"-126.8\" font-family=\"Helvetica,sans-Serif\" font-size=\"14.00\">value = [555, 729]</text>\r\n",
       "<text text-anchor=\"middle\" x=\"716.5\" y=\"-111.8\" font-family=\"Helvetica,sans-Serif\" font-size=\"14.00\">class = n</text>\r\n",
       "</g>\r\n",
       "<!-- 10&#45;&gt;12 -->\r\n",
       "<g id=\"edge12\" class=\"edge\"><title>10&#45;&gt;12</title>\r\n",
       "<path fill=\"none\" stroke=\"black\" d=\"M670.786,-222.907C676.053,-214.105 681.678,-204.703 687.117,-195.612\"/>\r\n",
       "<polygon fill=\"black\" stroke=\"black\" points=\"690.126,-197.399 692.257,-187.021 684.119,-193.805 690.126,-197.399\"/>\r\n",
       "</g>\r\n",
       "<!-- 13 -->\r\n",
       "<g id=\"node14\" class=\"node\"><title>13</title>\r\n",
       "<path fill=\"#399de5\" fill-opacity=\"0.764706\" stroke=\"black\" d=\"M644.5,-68C644.5,-68 546.5,-68 546.5,-68 540.5,-68 534.5,-62 534.5,-56 534.5,-56 534.5,-12 534.5,-12 534.5,-6 540.5,-0 546.5,-0 546.5,-0 644.5,-0 644.5,-0 650.5,-0 656.5,-6 656.5,-12 656.5,-12 656.5,-56 656.5,-56 656.5,-62 650.5,-68 644.5,-68\"/>\r\n",
       "<text text-anchor=\"middle\" x=\"595.5\" y=\"-52.8\" font-family=\"Helvetica,sans-Serif\" font-size=\"14.00\">gini = 0.308</text>\r\n",
       "<text text-anchor=\"middle\" x=\"595.5\" y=\"-37.8\" font-family=\"Helvetica,sans-Serif\" font-size=\"14.00\">samples = 420</text>\r\n",
       "<text text-anchor=\"middle\" x=\"595.5\" y=\"-22.8\" font-family=\"Helvetica,sans-Serif\" font-size=\"14.00\">value = [80, 340]</text>\r\n",
       "<text text-anchor=\"middle\" x=\"595.5\" y=\"-7.8\" font-family=\"Helvetica,sans-Serif\" font-size=\"14.00\">class = n</text>\r\n",
       "</g>\r\n",
       "<!-- 12&#45;&gt;13 -->\r\n",
       "<g id=\"edge13\" class=\"edge\"><title>12&#45;&gt;13</title>\r\n",
       "<path fill=\"none\" stroke=\"black\" d=\"M671.444,-103.726C661.164,-94.423 650.246,-84.5428 639.989,-75.2612\"/>\r\n",
       "<polygon fill=\"black\" stroke=\"black\" points=\"642.06,-72.4144 632.297,-68.2996 637.363,-77.6047 642.06,-72.4144\"/>\r\n",
       "</g>\r\n",
       "<!-- 14 -->\r\n",
       "<g id=\"node15\" class=\"node\"><title>14</title>\r\n",
       "<path fill=\"#e58139\" fill-opacity=\"0.180392\" stroke=\"black\" d=\"M792.5,-68C792.5,-68 686.5,-68 686.5,-68 680.5,-68 674.5,-62 674.5,-56 674.5,-56 674.5,-12 674.5,-12 674.5,-6 680.5,-0 686.5,-0 686.5,-0 792.5,-0 792.5,-0 798.5,-0 804.5,-6 804.5,-12 804.5,-12 804.5,-56 804.5,-56 804.5,-62 798.5,-68 792.5,-68\"/>\r\n",
       "<text text-anchor=\"middle\" x=\"739.5\" y=\"-52.8\" font-family=\"Helvetica,sans-Serif\" font-size=\"14.00\">gini = 0.495</text>\r\n",
       "<text text-anchor=\"middle\" x=\"739.5\" y=\"-37.8\" font-family=\"Helvetica,sans-Serif\" font-size=\"14.00\">samples = 864</text>\r\n",
       "<text text-anchor=\"middle\" x=\"739.5\" y=\"-22.8\" font-family=\"Helvetica,sans-Serif\" font-size=\"14.00\">value = [475, 389]</text>\r\n",
       "<text text-anchor=\"middle\" x=\"739.5\" y=\"-7.8\" font-family=\"Helvetica,sans-Serif\" font-size=\"14.00\">class = I</text>\r\n",
       "</g>\r\n",
       "<!-- 12&#45;&gt;14 -->\r\n",
       "<g id=\"edge14\" class=\"edge\"><title>12&#45;&gt;14</title>\r\n",
       "<path fill=\"none\" stroke=\"black\" d=\"M725.064,-103.726C726.808,-95.4263 728.648,-86.6671 730.409,-78.2834\"/>\r\n",
       "<polygon fill=\"black\" stroke=\"black\" points=\"733.875,-78.8055 732.506,-68.2996 727.025,-77.3666 733.875,-78.8055\"/>\r\n",
       "</g>\r\n",
       "<!-- 16 -->\r\n",
       "<g id=\"node17\" class=\"node\"><title>16</title>\r\n",
       "<path fill=\"#399de5\" fill-opacity=\"0.662745\" stroke=\"black\" d=\"M1264.5,-306C1264.5,-306 1160.5,-306 1160.5,-306 1154.5,-306 1148.5,-300 1148.5,-294 1148.5,-294 1148.5,-235 1148.5,-235 1148.5,-229 1154.5,-223 1160.5,-223 1160.5,-223 1264.5,-223 1264.5,-223 1270.5,-223 1276.5,-229 1276.5,-235 1276.5,-235 1276.5,-294 1276.5,-294 1276.5,-300 1270.5,-306 1264.5,-306\"/>\r\n",
       "<text text-anchor=\"middle\" x=\"1212.5\" y=\"-290.8\" font-family=\"Helvetica,sans-Serif\" font-size=\"14.00\">duration &lt;= 0.003</text>\r\n",
       "<text text-anchor=\"middle\" x=\"1212.5\" y=\"-275.8\" font-family=\"Helvetica,sans-Serif\" font-size=\"14.00\">gini = 0.377</text>\r\n",
       "<text text-anchor=\"middle\" x=\"1212.5\" y=\"-260.8\" font-family=\"Helvetica,sans-Serif\" font-size=\"14.00\">samples = 341</text>\r\n",
       "<text text-anchor=\"middle\" x=\"1212.5\" y=\"-245.8\" font-family=\"Helvetica,sans-Serif\" font-size=\"14.00\">value = [86, 255]</text>\r\n",
       "<text text-anchor=\"middle\" x=\"1212.5\" y=\"-230.8\" font-family=\"Helvetica,sans-Serif\" font-size=\"14.00\">class = n</text>\r\n",
       "</g>\r\n",
       "<!-- 15&#45;&gt;16 -->\r\n",
       "<g id=\"edge16\" class=\"edge\"><title>15&#45;&gt;16</title>\r\n",
       "<path fill=\"none\" stroke=\"black\" d=\"M1313.07,-341.907C1300.41,-332.288 1286.81,-321.953 1273.82,-312.09\"/>\r\n",
       "<polygon fill=\"black\" stroke=\"black\" points=\"1275.92,-309.283 1265.84,-306.021 1271.68,-314.857 1275.92,-309.283\"/>\r\n",
       "</g>\r\n",
       "<!-- 23 -->\r\n",
       "<g id=\"node24\" class=\"node\"><title>23</title>\r\n",
       "<path fill=\"#e58139\" fill-opacity=\"0.956863\" stroke=\"black\" d=\"M1535.5,-306C1535.5,-306 1413.5,-306 1413.5,-306 1407.5,-306 1401.5,-300 1401.5,-294 1401.5,-294 1401.5,-235 1401.5,-235 1401.5,-229 1407.5,-223 1413.5,-223 1413.5,-223 1535.5,-223 1535.5,-223 1541.5,-223 1547.5,-229 1547.5,-235 1547.5,-235 1547.5,-294 1547.5,-294 1547.5,-300 1541.5,-306 1535.5,-306\"/>\r\n",
       "<text text-anchor=\"middle\" x=\"1474.5\" y=\"-290.8\" font-family=\"Helvetica,sans-Serif\" font-size=\"14.00\">euribor3m &lt;= 0.192</text>\r\n",
       "<text text-anchor=\"middle\" x=\"1474.5\" y=\"-275.8\" font-family=\"Helvetica,sans-Serif\" font-size=\"14.00\">gini = 0.079</text>\r\n",
       "<text text-anchor=\"middle\" x=\"1474.5\" y=\"-260.8\" font-family=\"Helvetica,sans-Serif\" font-size=\"14.00\">samples = 13624</text>\r\n",
       "<text text-anchor=\"middle\" x=\"1474.5\" y=\"-245.8\" font-family=\"Helvetica,sans-Serif\" font-size=\"14.00\">value = [13064, 560]</text>\r\n",
       "<text text-anchor=\"middle\" x=\"1474.5\" y=\"-230.8\" font-family=\"Helvetica,sans-Serif\" font-size=\"14.00\">class = I</text>\r\n",
       "</g>\r\n",
       "<!-- 15&#45;&gt;23 -->\r\n",
       "<g id=\"edge23\" class=\"edge\"><title>15&#45;&gt;23</title>\r\n",
       "<path fill=\"none\" stroke=\"black\" d=\"M1403.97,-341.907C1412.43,-332.742 1421.49,-322.927 1430.2,-313.489\"/>\r\n",
       "<polygon fill=\"black\" stroke=\"black\" points=\"1432.89,-315.743 1437.1,-306.021 1427.74,-310.995 1432.89,-315.743\"/>\r\n",
       "</g>\r\n",
       "<!-- 17 -->\r\n",
       "<g id=\"node18\" class=\"node\"><title>17</title>\r\n",
       "<path fill=\"#e58139\" fill-opacity=\"0.647059\" stroke=\"black\" d=\"M1067,-187C1067,-187 930,-187 930,-187 924,-187 918,-181 918,-175 918,-175 918,-116 918,-116 918,-110 924,-104 930,-104 930,-104 1067,-104 1067,-104 1073,-104 1079,-110 1079,-116 1079,-116 1079,-175 1079,-175 1079,-181 1073,-187 1067,-187\"/>\r\n",
       "<text text-anchor=\"middle\" x=\"998.5\" y=\"-171.8\" font-family=\"Helvetica,sans-Serif\" font-size=\"14.00\">cons.conf.idx &lt;= 0.043</text>\r\n",
       "<text text-anchor=\"middle\" x=\"998.5\" y=\"-156.8\" font-family=\"Helvetica,sans-Serif\" font-size=\"14.00\">gini = 0.385</text>\r\n",
       "<text text-anchor=\"middle\" x=\"998.5\" y=\"-141.8\" font-family=\"Helvetica,sans-Serif\" font-size=\"14.00\">samples = 73</text>\r\n",
       "<text text-anchor=\"middle\" x=\"998.5\" y=\"-126.8\" font-family=\"Helvetica,sans-Serif\" font-size=\"14.00\">value = [54, 19]</text>\r\n",
       "<text text-anchor=\"middle\" x=\"998.5\" y=\"-111.8\" font-family=\"Helvetica,sans-Serif\" font-size=\"14.00\">class = I</text>\r\n",
       "</g>\r\n",
       "<!-- 16&#45;&gt;17 -->\r\n",
       "<g id=\"edge17\" class=\"edge\"><title>16&#45;&gt;17</title>\r\n",
       "<path fill=\"none\" stroke=\"black\" d=\"M1148.29,-228.396C1127.41,-216.978 1103.92,-204.137 1081.85,-192.068\"/>\r\n",
       "<polygon fill=\"black\" stroke=\"black\" points=\"1083.27,-188.856 1072.81,-187.13 1079.91,-194.998 1083.27,-188.856\"/>\r\n",
       "</g>\r\n",
       "<!-- 20 -->\r\n",
       "<g id=\"node21\" class=\"node\"><title>20</title>\r\n",
       "<path fill=\"#399de5\" fill-opacity=\"0.862745\" stroke=\"black\" d=\"M1270,-187C1270,-187 1155,-187 1155,-187 1149,-187 1143,-181 1143,-175 1143,-175 1143,-116 1143,-116 1143,-110 1149,-104 1155,-104 1155,-104 1270,-104 1270,-104 1276,-104 1282,-110 1282,-116 1282,-116 1282,-175 1282,-175 1282,-181 1276,-187 1270,-187\"/>\r\n",
       "<text text-anchor=\"middle\" x=\"1212.5\" y=\"-171.8\" font-family=\"Helvetica,sans-Serif\" font-size=\"14.00\">campaign &lt;= 0.072</text>\r\n",
       "<text text-anchor=\"middle\" x=\"1212.5\" y=\"-156.8\" font-family=\"Helvetica,sans-Serif\" font-size=\"14.00\">gini = 0.21</text>\r\n",
       "<text text-anchor=\"middle\" x=\"1212.5\" y=\"-141.8\" font-family=\"Helvetica,sans-Serif\" font-size=\"14.00\">samples = 268</text>\r\n",
       "<text text-anchor=\"middle\" x=\"1212.5\" y=\"-126.8\" font-family=\"Helvetica,sans-Serif\" font-size=\"14.00\">value = [32, 236]</text>\r\n",
       "<text text-anchor=\"middle\" x=\"1212.5\" y=\"-111.8\" font-family=\"Helvetica,sans-Serif\" font-size=\"14.00\">class = n</text>\r\n",
       "</g>\r\n",
       "<!-- 16&#45;&gt;20 -->\r\n",
       "<g id=\"edge20\" class=\"edge\"><title>16&#45;&gt;20</title>\r\n",
       "<path fill=\"none\" stroke=\"black\" d=\"M1212.5,-222.907C1212.5,-214.649 1212.5,-205.864 1212.5,-197.302\"/>\r\n",
       "<polygon fill=\"black\" stroke=\"black\" points=\"1216,-197.021 1212.5,-187.021 1209,-197.021 1216,-197.021\"/>\r\n",
       "</g>\r\n",
       "<!-- 18 -->\r\n",
       "<g id=\"node19\" class=\"node\"><title>18</title>\r\n",
       "<path fill=\"#e58139\" fill-opacity=\"0.831373\" stroke=\"black\" d=\"M916,-68C916,-68 835,-68 835,-68 829,-68 823,-62 823,-56 823,-56 823,-12 823,-12 823,-6 829,-0 835,-0 835,-0 916,-0 916,-0 922,-0 928,-6 928,-12 928,-12 928,-56 928,-56 928,-62 922,-68 916,-68\"/>\r\n",
       "<text text-anchor=\"middle\" x=\"875.5\" y=\"-52.8\" font-family=\"Helvetica,sans-Serif\" font-size=\"14.00\">gini = 0.245</text>\r\n",
       "<text text-anchor=\"middle\" x=\"875.5\" y=\"-37.8\" font-family=\"Helvetica,sans-Serif\" font-size=\"14.00\">samples = 63</text>\r\n",
       "<text text-anchor=\"middle\" x=\"875.5\" y=\"-22.8\" font-family=\"Helvetica,sans-Serif\" font-size=\"14.00\">value = [54, 9]</text>\r\n",
       "<text text-anchor=\"middle\" x=\"875.5\" y=\"-7.8\" font-family=\"Helvetica,sans-Serif\" font-size=\"14.00\">class = I</text>\r\n",
       "</g>\r\n",
       "<!-- 17&#45;&gt;18 -->\r\n",
       "<g id=\"edge18\" class=\"edge\"><title>17&#45;&gt;18</title>\r\n",
       "<path fill=\"none\" stroke=\"black\" d=\"M952.699,-103.726C942.147,-94.3318 930.933,-84.349 920.418,-74.9883\"/>\r\n",
       "<polygon fill=\"black\" stroke=\"black\" points=\"922.701,-72.3347 912.905,-68.2996 918.047,-77.5631 922.701,-72.3347\"/>\r\n",
       "</g>\r\n",
       "<!-- 19 -->\r\n",
       "<g id=\"node20\" class=\"node\"><title>19</title>\r\n",
       "<path fill=\"#399de5\" stroke=\"black\" d=\"M1039,-68C1039,-68 958,-68 958,-68 952,-68 946,-62 946,-56 946,-56 946,-12 946,-12 946,-6 952,-0 958,-0 958,-0 1039,-0 1039,-0 1045,-0 1051,-6 1051,-12 1051,-12 1051,-56 1051,-56 1051,-62 1045,-68 1039,-68\"/>\r\n",
       "<text text-anchor=\"middle\" x=\"998.5\" y=\"-52.8\" font-family=\"Helvetica,sans-Serif\" font-size=\"14.00\">gini = 0.0</text>\r\n",
       "<text text-anchor=\"middle\" x=\"998.5\" y=\"-37.8\" font-family=\"Helvetica,sans-Serif\" font-size=\"14.00\">samples = 10</text>\r\n",
       "<text text-anchor=\"middle\" x=\"998.5\" y=\"-22.8\" font-family=\"Helvetica,sans-Serif\" font-size=\"14.00\">value = [0, 10]</text>\r\n",
       "<text text-anchor=\"middle\" x=\"998.5\" y=\"-7.8\" font-family=\"Helvetica,sans-Serif\" font-size=\"14.00\">class = n</text>\r\n",
       "</g>\r\n",
       "<!-- 17&#45;&gt;19 -->\r\n",
       "<g id=\"edge19\" class=\"edge\"><title>17&#45;&gt;19</title>\r\n",
       "<path fill=\"none\" stroke=\"black\" d=\"M998.5,-103.726C998.5,-95.5175 998.5,-86.8595 998.5,-78.56\"/>\r\n",
       "<polygon fill=\"black\" stroke=\"black\" points=\"1002,-78.2996 998.5,-68.2996 995,-78.2996 1002,-78.2996\"/>\r\n",
       "</g>\r\n",
       "<!-- 21 -->\r\n",
       "<g id=\"node22\" class=\"node\"><title>21</title>\r\n",
       "<path fill=\"#399de5\" fill-opacity=\"0.890196\" stroke=\"black\" d=\"M1179.5,-68C1179.5,-68 1081.5,-68 1081.5,-68 1075.5,-68 1069.5,-62 1069.5,-56 1069.5,-56 1069.5,-12 1069.5,-12 1069.5,-6 1075.5,-0 1081.5,-0 1081.5,-0 1179.5,-0 1179.5,-0 1185.5,-0 1191.5,-6 1191.5,-12 1191.5,-12 1191.5,-56 1191.5,-56 1191.5,-62 1185.5,-68 1179.5,-68\"/>\r\n",
       "<text text-anchor=\"middle\" x=\"1130.5\" y=\"-52.8\" font-family=\"Helvetica,sans-Serif\" font-size=\"14.00\">gini = 0.179</text>\r\n",
       "<text text-anchor=\"middle\" x=\"1130.5\" y=\"-37.8\" font-family=\"Helvetica,sans-Serif\" font-size=\"14.00\">samples = 262</text>\r\n",
       "<text text-anchor=\"middle\" x=\"1130.5\" y=\"-22.8\" font-family=\"Helvetica,sans-Serif\" font-size=\"14.00\">value = [26, 236]</text>\r\n",
       "<text text-anchor=\"middle\" x=\"1130.5\" y=\"-7.8\" font-family=\"Helvetica,sans-Serif\" font-size=\"14.00\">class = n</text>\r\n",
       "</g>\r\n",
       "<!-- 20&#45;&gt;21 -->\r\n",
       "<g id=\"edge21\" class=\"edge\"><title>20&#45;&gt;21</title>\r\n",
       "<path fill=\"none\" stroke=\"black\" d=\"M1181.97,-103.726C1175.27,-94.7878 1168.18,-85.3168 1161.47,-76.3558\"/>\r\n",
       "<polygon fill=\"black\" stroke=\"black\" points=\"1164.23,-74.206 1155.44,-68.2996 1158.63,-78.402 1164.23,-74.206\"/>\r\n",
       "</g>\r\n",
       "<!-- 22 -->\r\n",
       "<g id=\"node23\" class=\"node\"><title>22</title>\r\n",
       "<path fill=\"#e58139\" stroke=\"black\" d=\"M1295,-68C1295,-68 1222,-68 1222,-68 1216,-68 1210,-62 1210,-56 1210,-56 1210,-12 1210,-12 1210,-6 1216,-0 1222,-0 1222,-0 1295,-0 1295,-0 1301,-0 1307,-6 1307,-12 1307,-12 1307,-56 1307,-56 1307,-62 1301,-68 1295,-68\"/>\r\n",
       "<text text-anchor=\"middle\" x=\"1258.5\" y=\"-52.8\" font-family=\"Helvetica,sans-Serif\" font-size=\"14.00\">gini = 0.0</text>\r\n",
       "<text text-anchor=\"middle\" x=\"1258.5\" y=\"-37.8\" font-family=\"Helvetica,sans-Serif\" font-size=\"14.00\">samples = 6</text>\r\n",
       "<text text-anchor=\"middle\" x=\"1258.5\" y=\"-22.8\" font-family=\"Helvetica,sans-Serif\" font-size=\"14.00\">value = [6, 0]</text>\r\n",
       "<text text-anchor=\"middle\" x=\"1258.5\" y=\"-7.8\" font-family=\"Helvetica,sans-Serif\" font-size=\"14.00\">class = I</text>\r\n",
       "</g>\r\n",
       "<!-- 20&#45;&gt;22 -->\r\n",
       "<g id=\"edge22\" class=\"edge\"><title>20&#45;&gt;22</title>\r\n",
       "<path fill=\"none\" stroke=\"black\" d=\"M1229.63,-103.726C1233.19,-95.2439 1236.96,-86.2819 1240.55,-77.7312\"/>\r\n",
       "<polygon fill=\"black\" stroke=\"black\" points=\"1243.86,-78.8747 1244.51,-68.2996 1237.41,-76.1635 1243.86,-78.8747\"/>\r\n",
       "</g>\r\n",
       "<!-- 24 -->\r\n",
       "<g id=\"node25\" class=\"node\"><title>24</title>\r\n",
       "<path fill=\"#e58139\" fill-opacity=\"0.835294\" stroke=\"black\" d=\"M1543,-187C1543,-187 1406,-187 1406,-187 1400,-187 1394,-181 1394,-175 1394,-175 1394,-116 1394,-116 1394,-110 1400,-104 1406,-104 1406,-104 1543,-104 1543,-104 1549,-104 1555,-110 1555,-116 1555,-116 1555,-175 1555,-175 1555,-181 1549,-187 1543,-187\"/>\r\n",
       "<text text-anchor=\"middle\" x=\"1474.5\" y=\"-171.8\" font-family=\"Helvetica,sans-Serif\" font-size=\"14.00\">cons.conf.idx &lt;= 0.193</text>\r\n",
       "<text text-anchor=\"middle\" x=\"1474.5\" y=\"-156.8\" font-family=\"Helvetica,sans-Serif\" font-size=\"14.00\">gini = 0.244</text>\r\n",
       "<text text-anchor=\"middle\" x=\"1474.5\" y=\"-141.8\" font-family=\"Helvetica,sans-Serif\" font-size=\"14.00\">samples = 3271</text>\r\n",
       "<text text-anchor=\"middle\" x=\"1474.5\" y=\"-126.8\" font-family=\"Helvetica,sans-Serif\" font-size=\"14.00\">value = [2805, 466]</text>\r\n",
       "<text text-anchor=\"middle\" x=\"1474.5\" y=\"-111.8\" font-family=\"Helvetica,sans-Serif\" font-size=\"14.00\">class = I</text>\r\n",
       "</g>\r\n",
       "<!-- 23&#45;&gt;24 -->\r\n",
       "<g id=\"edge24\" class=\"edge\"><title>23&#45;&gt;24</title>\r\n",
       "<path fill=\"none\" stroke=\"black\" d=\"M1474.5,-222.907C1474.5,-214.649 1474.5,-205.864 1474.5,-197.302\"/>\r\n",
       "<polygon fill=\"black\" stroke=\"black\" points=\"1478,-197.021 1474.5,-187.021 1471,-197.021 1478,-197.021\"/>\r\n",
       "</g>\r\n",
       "<!-- 27 -->\r\n",
       "<g id=\"node28\" class=\"node\"><title>27</title>\r\n",
       "<path fill=\"#e58139\" fill-opacity=\"0.992157\" stroke=\"black\" d=\"M1747.5,-187C1747.5,-187 1633.5,-187 1633.5,-187 1627.5,-187 1621.5,-181 1621.5,-175 1621.5,-175 1621.5,-116 1621.5,-116 1621.5,-110 1627.5,-104 1633.5,-104 1633.5,-104 1747.5,-104 1747.5,-104 1753.5,-104 1759.5,-110 1759.5,-116 1759.5,-116 1759.5,-175 1759.5,-175 1759.5,-181 1753.5,-187 1747.5,-187\"/>\r\n",
       "<text text-anchor=\"middle\" x=\"1690.5\" y=\"-171.8\" font-family=\"Helvetica,sans-Serif\" font-size=\"14.00\">month &lt;= 0.59</text>\r\n",
       "<text text-anchor=\"middle\" x=\"1690.5\" y=\"-156.8\" font-family=\"Helvetica,sans-Serif\" font-size=\"14.00\">gini = 0.018</text>\r\n",
       "<text text-anchor=\"middle\" x=\"1690.5\" y=\"-141.8\" font-family=\"Helvetica,sans-Serif\" font-size=\"14.00\">samples = 10353</text>\r\n",
       "<text text-anchor=\"middle\" x=\"1690.5\" y=\"-126.8\" font-family=\"Helvetica,sans-Serif\" font-size=\"14.00\">value = [10259, 94]</text>\r\n",
       "<text text-anchor=\"middle\" x=\"1690.5\" y=\"-111.8\" font-family=\"Helvetica,sans-Serif\" font-size=\"14.00\">class = I</text>\r\n",
       "</g>\r\n",
       "<!-- 23&#45;&gt;27 -->\r\n",
       "<g id=\"edge27\" class=\"edge\"><title>23&#45;&gt;27</title>\r\n",
       "<path fill=\"none\" stroke=\"black\" d=\"M1547.63,-223.889C1568.51,-212.578 1591.34,-200.211 1612.5,-188.748\"/>\r\n",
       "<polygon fill=\"black\" stroke=\"black\" points=\"1614.33,-191.737 1621.46,-183.897 1611,-185.582 1614.33,-191.737\"/>\r\n",
       "</g>\r\n",
       "<!-- 25 -->\r\n",
       "<g id=\"node26\" class=\"node\"><title>25</title>\r\n",
       "<path fill=\"#e58139\" fill-opacity=\"0.917647\" stroke=\"black\" d=\"M1451.5,-68C1451.5,-68 1337.5,-68 1337.5,-68 1331.5,-68 1325.5,-62 1325.5,-56 1325.5,-56 1325.5,-12 1325.5,-12 1325.5,-6 1331.5,-0 1337.5,-0 1337.5,-0 1451.5,-0 1451.5,-0 1457.5,-0 1463.5,-6 1463.5,-12 1463.5,-12 1463.5,-56 1463.5,-56 1463.5,-62 1457.5,-68 1451.5,-68\"/>\r\n",
       "<text text-anchor=\"middle\" x=\"1394.5\" y=\"-52.8\" font-family=\"Helvetica,sans-Serif\" font-size=\"14.00\">gini = 0.141</text>\r\n",
       "<text text-anchor=\"middle\" x=\"1394.5\" y=\"-37.8\" font-family=\"Helvetica,sans-Serif\" font-size=\"14.00\">samples = 2831</text>\r\n",
       "<text text-anchor=\"middle\" x=\"1394.5\" y=\"-22.8\" font-family=\"Helvetica,sans-Serif\" font-size=\"14.00\">value = [2615, 216]</text>\r\n",
       "<text text-anchor=\"middle\" x=\"1394.5\" y=\"-7.8\" font-family=\"Helvetica,sans-Serif\" font-size=\"14.00\">class = I</text>\r\n",
       "</g>\r\n",
       "<!-- 24&#45;&gt;25 -->\r\n",
       "<g id=\"edge25\" class=\"edge\"><title>24&#45;&gt;25</title>\r\n",
       "<path fill=\"none\" stroke=\"black\" d=\"M1444.71,-103.726C1438.25,-94.879 1431.4,-85.51 1424.91,-76.6303\"/>\r\n",
       "<polygon fill=\"black\" stroke=\"black\" points=\"1427.55,-74.3095 1418.83,-68.2996 1421.9,-78.439 1427.55,-74.3095\"/>\r\n",
       "</g>\r\n",
       "<!-- 26 -->\r\n",
       "<g id=\"node27\" class=\"node\"><title>26</title>\r\n",
       "<path fill=\"#399de5\" fill-opacity=\"0.239216\" stroke=\"black\" d=\"M1599.5,-68C1599.5,-68 1493.5,-68 1493.5,-68 1487.5,-68 1481.5,-62 1481.5,-56 1481.5,-56 1481.5,-12 1481.5,-12 1481.5,-6 1487.5,-0 1493.5,-0 1493.5,-0 1599.5,-0 1599.5,-0 1605.5,-0 1611.5,-6 1611.5,-12 1611.5,-12 1611.5,-56 1611.5,-56 1611.5,-62 1605.5,-68 1599.5,-68\"/>\r\n",
       "<text text-anchor=\"middle\" x=\"1546.5\" y=\"-52.8\" font-family=\"Helvetica,sans-Serif\" font-size=\"14.00\">gini = 0.491</text>\r\n",
       "<text text-anchor=\"middle\" x=\"1546.5\" y=\"-37.8\" font-family=\"Helvetica,sans-Serif\" font-size=\"14.00\">samples = 440</text>\r\n",
       "<text text-anchor=\"middle\" x=\"1546.5\" y=\"-22.8\" font-family=\"Helvetica,sans-Serif\" font-size=\"14.00\">value = [190, 250]</text>\r\n",
       "<text text-anchor=\"middle\" x=\"1546.5\" y=\"-7.8\" font-family=\"Helvetica,sans-Serif\" font-size=\"14.00\">class = n</text>\r\n",
       "</g>\r\n",
       "<!-- 24&#45;&gt;26 -->\r\n",
       "<g id=\"edge26\" class=\"edge\"><title>24&#45;&gt;26</title>\r\n",
       "<path fill=\"none\" stroke=\"black\" d=\"M1501.31,-103.726C1507.07,-94.9703 1513.16,-85.7032 1518.95,-76.9051\"/>\r\n",
       "<polygon fill=\"black\" stroke=\"black\" points=\"1522.03,-78.5781 1524.6,-68.2996 1516.19,-74.7322 1522.03,-78.5781\"/>\r\n",
       "</g>\r\n",
       "<!-- 28 -->\r\n",
       "<g id=\"node29\" class=\"node\"><title>28</title>\r\n",
       "<path fill=\"#e58139\" stroke=\"black\" d=\"M1739.5,-68C1739.5,-68 1641.5,-68 1641.5,-68 1635.5,-68 1629.5,-62 1629.5,-56 1629.5,-56 1629.5,-12 1629.5,-12 1629.5,-6 1635.5,-0 1641.5,-0 1641.5,-0 1739.5,-0 1739.5,-0 1745.5,-0 1751.5,-6 1751.5,-12 1751.5,-12 1751.5,-56 1751.5,-56 1751.5,-62 1745.5,-68 1739.5,-68\"/>\r\n",
       "<text text-anchor=\"middle\" x=\"1690.5\" y=\"-52.8\" font-family=\"Helvetica,sans-Serif\" font-size=\"14.00\">gini = 0.0</text>\r\n",
       "<text text-anchor=\"middle\" x=\"1690.5\" y=\"-37.8\" font-family=\"Helvetica,sans-Serif\" font-size=\"14.00\">samples = 8792</text>\r\n",
       "<text text-anchor=\"middle\" x=\"1690.5\" y=\"-22.8\" font-family=\"Helvetica,sans-Serif\" font-size=\"14.00\">value = [8792, 0]</text>\r\n",
       "<text text-anchor=\"middle\" x=\"1690.5\" y=\"-7.8\" font-family=\"Helvetica,sans-Serif\" font-size=\"14.00\">class = I</text>\r\n",
       "</g>\r\n",
       "<!-- 27&#45;&gt;28 -->\r\n",
       "<g id=\"edge28\" class=\"edge\"><title>27&#45;&gt;28</title>\r\n",
       "<path fill=\"none\" stroke=\"black\" d=\"M1690.5,-103.726C1690.5,-95.5175 1690.5,-86.8595 1690.5,-78.56\"/>\r\n",
       "<polygon fill=\"black\" stroke=\"black\" points=\"1694,-78.2996 1690.5,-68.2996 1687,-78.2996 1694,-78.2996\"/>\r\n",
       "</g>\r\n",
       "<!-- 29 -->\r\n",
       "<g id=\"node30\" class=\"node\"><title>29</title>\r\n",
       "<path fill=\"#e58139\" fill-opacity=\"0.937255\" stroke=\"black\" d=\"M1887.5,-68C1887.5,-68 1781.5,-68 1781.5,-68 1775.5,-68 1769.5,-62 1769.5,-56 1769.5,-56 1769.5,-12 1769.5,-12 1769.5,-6 1775.5,-0 1781.5,-0 1781.5,-0 1887.5,-0 1887.5,-0 1893.5,-0 1899.5,-6 1899.5,-12 1899.5,-12 1899.5,-56 1899.5,-56 1899.5,-62 1893.5,-68 1887.5,-68\"/>\r\n",
       "<text text-anchor=\"middle\" x=\"1834.5\" y=\"-52.8\" font-family=\"Helvetica,sans-Serif\" font-size=\"14.00\">gini = 0.113</text>\r\n",
       "<text text-anchor=\"middle\" x=\"1834.5\" y=\"-37.8\" font-family=\"Helvetica,sans-Serif\" font-size=\"14.00\">samples = 1561</text>\r\n",
       "<text text-anchor=\"middle\" x=\"1834.5\" y=\"-22.8\" font-family=\"Helvetica,sans-Serif\" font-size=\"14.00\">value = [1467, 94]</text>\r\n",
       "<text text-anchor=\"middle\" x=\"1834.5\" y=\"-7.8\" font-family=\"Helvetica,sans-Serif\" font-size=\"14.00\">class = I</text>\r\n",
       "</g>\r\n",
       "<!-- 27&#45;&gt;29 -->\r\n",
       "<g id=\"edge29\" class=\"edge\"><title>27&#45;&gt;29</title>\r\n",
       "<path fill=\"none\" stroke=\"black\" d=\"M1744.12,-103.726C1756.71,-94.1494 1770.11,-83.9611 1782.63,-74.4438\"/>\r\n",
       "<polygon fill=\"black\" stroke=\"black\" points=\"1784.87,-77.1386 1790.71,-68.2996 1780.63,-71.5666 1784.87,-77.1386\"/>\r\n",
       "</g>\r\n",
       "<!-- 31 -->\r\n",
       "<g id=\"node32\" class=\"node\"><title>31</title>\r\n",
       "<path fill=\"#399de5\" fill-opacity=\"0.831373\" stroke=\"black\" d=\"M2531,-425C2531,-425 2400,-425 2400,-425 2394,-425 2388,-419 2388,-413 2388,-413 2388,-354 2388,-354 2388,-348 2394,-342 2400,-342 2400,-342 2531,-342 2531,-342 2537,-342 2543,-348 2543,-354 2543,-354 2543,-413 2543,-413 2543,-419 2537,-425 2531,-425\"/>\r\n",
       "<text text-anchor=\"middle\" x=\"2465.5\" y=\"-409.8\" font-family=\"Helvetica,sans-Serif\" font-size=\"14.00\">euribor3m &lt;= 0.138</text>\r\n",
       "<text text-anchor=\"middle\" x=\"2465.5\" y=\"-394.8\" font-family=\"Helvetica,sans-Serif\" font-size=\"14.00\">gini = 0.246</text>\r\n",
       "<text text-anchor=\"middle\" x=\"2465.5\" y=\"-379.8\" font-family=\"Helvetica,sans-Serif\" font-size=\"14.00\">samples = 17651</text>\r\n",
       "<text text-anchor=\"middle\" x=\"2465.5\" y=\"-364.8\" font-family=\"Helvetica,sans-Serif\" font-size=\"14.00\">value = [2531, 15120]</text>\r\n",
       "<text text-anchor=\"middle\" x=\"2465.5\" y=\"-349.8\" font-family=\"Helvetica,sans-Serif\" font-size=\"14.00\">class = n</text>\r\n",
       "</g>\r\n",
       "<!-- 30&#45;&gt;31 -->\r\n",
       "<g id=\"edge31\" class=\"edge\"><title>30&#45;&gt;31</title>\r\n",
       "<path fill=\"none\" stroke=\"black\" d=\"M2465.5,-460.907C2465.5,-452.649 2465.5,-443.864 2465.5,-435.302\"/>\r\n",
       "<polygon fill=\"black\" stroke=\"black\" points=\"2469,-435.021 2465.5,-425.021 2462,-435.021 2469,-435.021\"/>\r\n",
       "</g>\r\n",
       "<!-- 46 -->\r\n",
       "<g id=\"node47\" class=\"node\"><title>46</title>\r\n",
       "<path fill=\"#e58139\" fill-opacity=\"0.039216\" stroke=\"black\" d=\"M3387.5,-425C3387.5,-425 3265.5,-425 3265.5,-425 3259.5,-425 3253.5,-419 3253.5,-413 3253.5,-413 3253.5,-354 3253.5,-354 3253.5,-348 3259.5,-342 3265.5,-342 3265.5,-342 3387.5,-342 3387.5,-342 3393.5,-342 3399.5,-348 3399.5,-354 3399.5,-354 3399.5,-413 3399.5,-413 3399.5,-419 3393.5,-425 3387.5,-425\"/>\r\n",
       "<text text-anchor=\"middle\" x=\"3326.5\" y=\"-409.8\" font-family=\"Helvetica,sans-Serif\" font-size=\"14.00\">duration &lt;= 0.75</text>\r\n",
       "<text text-anchor=\"middle\" x=\"3326.5\" y=\"-394.8\" font-family=\"Helvetica,sans-Serif\" font-size=\"14.00\">gini = 0.5</text>\r\n",
       "<text text-anchor=\"middle\" x=\"3326.5\" y=\"-379.8\" font-family=\"Helvetica,sans-Serif\" font-size=\"14.00\">samples = 17464</text>\r\n",
       "<text text-anchor=\"middle\" x=\"3326.5\" y=\"-364.8\" font-family=\"Helvetica,sans-Serif\" font-size=\"14.00\">value = [8913, 8551]</text>\r\n",
       "<text text-anchor=\"middle\" x=\"3326.5\" y=\"-349.8\" font-family=\"Helvetica,sans-Serif\" font-size=\"14.00\">class = I</text>\r\n",
       "</g>\r\n",
       "<!-- 30&#45;&gt;46 -->\r\n",
       "<g id=\"edge46\" class=\"edge\"><title>30&#45;&gt;46</title>\r\n",
       "<path fill=\"none\" stroke=\"black\" d=\"M2547.28,-490.387C2711.12,-468.123 3078.03,-418.265 3243.16,-395.825\"/>\r\n",
       "<polygon fill=\"black\" stroke=\"black\" points=\"3243.82,-399.267 3253.26,-394.452 3242.88,-392.331 3243.82,-399.267\"/>\r\n",
       "</g>\r\n",
       "<!-- 32 -->\r\n",
       "<g id=\"node33\" class=\"node\"><title>32</title>\r\n",
       "<path fill=\"#399de5\" fill-opacity=\"0.933333\" stroke=\"black\" d=\"M2387.5,-306C2387.5,-306 2265.5,-306 2265.5,-306 2259.5,-306 2253.5,-300 2253.5,-294 2253.5,-294 2253.5,-235 2253.5,-235 2253.5,-229 2259.5,-223 2265.5,-223 2265.5,-223 2387.5,-223 2387.5,-223 2393.5,-223 2399.5,-229 2399.5,-235 2399.5,-235 2399.5,-294 2399.5,-294 2399.5,-300 2393.5,-306 2387.5,-306\"/>\r\n",
       "<text text-anchor=\"middle\" x=\"2326.5\" y=\"-290.8\" font-family=\"Helvetica,sans-Serif\" font-size=\"14.00\">pdays &lt;= 0.017</text>\r\n",
       "<text text-anchor=\"middle\" x=\"2326.5\" y=\"-275.8\" font-family=\"Helvetica,sans-Serif\" font-size=\"14.00\">gini = 0.116</text>\r\n",
       "<text text-anchor=\"middle\" x=\"2326.5\" y=\"-260.8\" font-family=\"Helvetica,sans-Serif\" font-size=\"14.00\">samples = 10942</text>\r\n",
       "<text text-anchor=\"middle\" x=\"2326.5\" y=\"-245.8\" font-family=\"Helvetica,sans-Serif\" font-size=\"14.00\">value = [677, 10265]</text>\r\n",
       "<text text-anchor=\"middle\" x=\"2326.5\" y=\"-230.8\" font-family=\"Helvetica,sans-Serif\" font-size=\"14.00\">class = n</text>\r\n",
       "</g>\r\n",
       "<!-- 31&#45;&gt;32 -->\r\n",
       "<g id=\"edge32\" class=\"edge\"><title>31&#45;&gt;32</title>\r\n",
       "<path fill=\"none\" stroke=\"black\" d=\"M2417.27,-341.907C2406.06,-332.469 2394.03,-322.343 2382.51,-312.649\"/>\r\n",
       "<polygon fill=\"black\" stroke=\"black\" points=\"2384.54,-309.783 2374.64,-306.021 2380.04,-315.138 2384.54,-309.783\"/>\r\n",
       "</g>\r\n",
       "<!-- 39 -->\r\n",
       "<g id=\"node40\" class=\"node\"><title>39</title>\r\n",
       "<path fill=\"#399de5\" fill-opacity=\"0.619608\" stroke=\"black\" d=\"M2671.5,-306C2671.5,-306 2549.5,-306 2549.5,-306 2543.5,-306 2537.5,-300 2537.5,-294 2537.5,-294 2537.5,-235 2537.5,-235 2537.5,-229 2543.5,-223 2549.5,-223 2549.5,-223 2671.5,-223 2671.5,-223 2677.5,-223 2683.5,-229 2683.5,-235 2683.5,-235 2683.5,-294 2683.5,-294 2683.5,-300 2677.5,-306 2671.5,-306\"/>\r\n",
       "<text text-anchor=\"middle\" x=\"2610.5\" y=\"-290.8\" font-family=\"Helvetica,sans-Serif\" font-size=\"14.00\">duration &lt;= 0.5</text>\r\n",
       "<text text-anchor=\"middle\" x=\"2610.5\" y=\"-275.8\" font-family=\"Helvetica,sans-Serif\" font-size=\"14.00\">gini = 0.4</text>\r\n",
       "<text text-anchor=\"middle\" x=\"2610.5\" y=\"-260.8\" font-family=\"Helvetica,sans-Serif\" font-size=\"14.00\">samples = 6709</text>\r\n",
       "<text text-anchor=\"middle\" x=\"2610.5\" y=\"-245.8\" font-family=\"Helvetica,sans-Serif\" font-size=\"14.00\">value = [1854, 4855]</text>\r\n",
       "<text text-anchor=\"middle\" x=\"2610.5\" y=\"-230.8\" font-family=\"Helvetica,sans-Serif\" font-size=\"14.00\">class = n</text>\r\n",
       "</g>\r\n",
       "<!-- 31&#45;&gt;39 -->\r\n",
       "<g id=\"edge39\" class=\"edge\"><title>31&#45;&gt;39</title>\r\n",
       "<path fill=\"none\" stroke=\"black\" d=\"M2515.81,-341.907C2527.62,-332.379 2540.29,-322.148 2552.41,-312.37\"/>\r\n",
       "<polygon fill=\"black\" stroke=\"black\" points=\"2554.7,-315.024 2560.28,-306.021 2550.3,-309.577 2554.7,-315.024\"/>\r\n",
       "</g>\r\n",
       "<!-- 33 -->\r\n",
       "<g id=\"node34\" class=\"node\"><title>33</title>\r\n",
       "<path fill=\"#399de5\" fill-opacity=\"0.980392\" stroke=\"black\" d=\"M2172,-187C2172,-187 2057,-187 2057,-187 2051,-187 2045,-181 2045,-175 2045,-175 2045,-116 2045,-116 2045,-110 2051,-104 2057,-104 2057,-104 2172,-104 2172,-104 2178,-104 2184,-110 2184,-116 2184,-116 2184,-175 2184,-175 2184,-181 2178,-187 2172,-187\"/>\r\n",
       "<text text-anchor=\"middle\" x=\"2114.5\" y=\"-171.8\" font-family=\"Helvetica,sans-Serif\" font-size=\"14.00\">campaign &lt;= 0.164</text>\r\n",
       "<text text-anchor=\"middle\" x=\"2114.5\" y=\"-156.8\" font-family=\"Helvetica,sans-Serif\" font-size=\"14.00\">gini = 0.04</text>\r\n",
       "<text text-anchor=\"middle\" x=\"2114.5\" y=\"-141.8\" font-family=\"Helvetica,sans-Serif\" font-size=\"14.00\">samples = 4425</text>\r\n",
       "<text text-anchor=\"middle\" x=\"2114.5\" y=\"-126.8\" font-family=\"Helvetica,sans-Serif\" font-size=\"14.00\">value = [90, 4335]</text>\r\n",
       "<text text-anchor=\"middle\" x=\"2114.5\" y=\"-111.8\" font-family=\"Helvetica,sans-Serif\" font-size=\"14.00\">class = n</text>\r\n",
       "</g>\r\n",
       "<!-- 32&#45;&gt;33 -->\r\n",
       "<g id=\"edge33\" class=\"edge\"><title>32&#45;&gt;33</title>\r\n",
       "<path fill=\"none\" stroke=\"black\" d=\"M2253.24,-223.071C2233.84,-212.36 2212.8,-200.753 2193.12,-189.891\"/>\r\n",
       "<polygon fill=\"black\" stroke=\"black\" points=\"2194.63,-186.727 2184.19,-184.959 2191.25,-192.855 2194.63,-186.727\"/>\r\n",
       "</g>\r\n",
       "<!-- 36 -->\r\n",
       "<g id=\"node37\" class=\"node\"><title>36</title>\r\n",
       "<path fill=\"#399de5\" fill-opacity=\"0.901961\" stroke=\"black\" d=\"M2383.5,-187C2383.5,-187 2269.5,-187 2269.5,-187 2263.5,-187 2257.5,-181 2257.5,-175 2257.5,-175 2257.5,-116 2257.5,-116 2257.5,-110 2263.5,-104 2269.5,-104 2269.5,-104 2383.5,-104 2383.5,-104 2389.5,-104 2395.5,-110 2395.5,-116 2395.5,-116 2395.5,-175 2395.5,-175 2395.5,-181 2389.5,-187 2383.5,-187\"/>\r\n",
       "<text text-anchor=\"middle\" x=\"2326.5\" y=\"-171.8\" font-family=\"Helvetica,sans-Serif\" font-size=\"14.00\">previous &lt;= 0.143</text>\r\n",
       "<text text-anchor=\"middle\" x=\"2326.5\" y=\"-156.8\" font-family=\"Helvetica,sans-Serif\" font-size=\"14.00\">gini = 0.164</text>\r\n",
       "<text text-anchor=\"middle\" x=\"2326.5\" y=\"-141.8\" font-family=\"Helvetica,sans-Serif\" font-size=\"14.00\">samples = 6517</text>\r\n",
       "<text text-anchor=\"middle\" x=\"2326.5\" y=\"-126.8\" font-family=\"Helvetica,sans-Serif\" font-size=\"14.00\">value = [587, 5930]</text>\r\n",
       "<text text-anchor=\"middle\" x=\"2326.5\" y=\"-111.8\" font-family=\"Helvetica,sans-Serif\" font-size=\"14.00\">class = n</text>\r\n",
       "</g>\r\n",
       "<!-- 32&#45;&gt;36 -->\r\n",
       "<g id=\"edge36\" class=\"edge\"><title>32&#45;&gt;36</title>\r\n",
       "<path fill=\"none\" stroke=\"black\" d=\"M2326.5,-222.907C2326.5,-214.649 2326.5,-205.864 2326.5,-197.302\"/>\r\n",
       "<polygon fill=\"black\" stroke=\"black\" points=\"2330,-197.021 2326.5,-187.021 2323,-197.021 2330,-197.021\"/>\r\n",
       "</g>\r\n",
       "<!-- 34 -->\r\n",
       "<g id=\"node35\" class=\"node\"><title>34</title>\r\n",
       "<path fill=\"#399de5\" fill-opacity=\"0.980392\" stroke=\"black\" d=\"M2035.5,-68C2035.5,-68 1929.5,-68 1929.5,-68 1923.5,-68 1917.5,-62 1917.5,-56 1917.5,-56 1917.5,-12 1917.5,-12 1917.5,-6 1923.5,-0 1929.5,-0 1929.5,-0 2035.5,-0 2035.5,-0 2041.5,-0 2047.5,-6 2047.5,-12 2047.5,-12 2047.5,-56 2047.5,-56 2047.5,-62 2041.5,-68 2035.5,-68\"/>\r\n",
       "<text text-anchor=\"middle\" x=\"1982.5\" y=\"-52.8\" font-family=\"Helvetica,sans-Serif\" font-size=\"14.00\">gini = 0.039</text>\r\n",
       "<text text-anchor=\"middle\" x=\"1982.5\" y=\"-37.8\" font-family=\"Helvetica,sans-Serif\" font-size=\"14.00\">samples = 4424</text>\r\n",
       "<text text-anchor=\"middle\" x=\"1982.5\" y=\"-22.8\" font-family=\"Helvetica,sans-Serif\" font-size=\"14.00\">value = [89, 4335]</text>\r\n",
       "<text text-anchor=\"middle\" x=\"1982.5\" y=\"-7.8\" font-family=\"Helvetica,sans-Serif\" font-size=\"14.00\">class = n</text>\r\n",
       "</g>\r\n",
       "<!-- 33&#45;&gt;34 -->\r\n",
       "<g id=\"edge34\" class=\"edge\"><title>33&#45;&gt;34</title>\r\n",
       "<path fill=\"none\" stroke=\"black\" d=\"M2065.35,-103.726C2053.91,-94.2406 2041.76,-84.1551 2030.38,-74.7159\"/>\r\n",
       "<polygon fill=\"black\" stroke=\"black\" points=\"2032.57,-71.9905 2022.64,-68.2996 2028.1,-77.3781 2032.57,-71.9905\"/>\r\n",
       "</g>\r\n",
       "<!-- 35 -->\r\n",
       "<g id=\"node36\" class=\"node\"><title>35</title>\r\n",
       "<path fill=\"#e58139\" stroke=\"black\" d=\"M2151,-68C2151,-68 2078,-68 2078,-68 2072,-68 2066,-62 2066,-56 2066,-56 2066,-12 2066,-12 2066,-6 2072,-0 2078,-0 2078,-0 2151,-0 2151,-0 2157,-0 2163,-6 2163,-12 2163,-12 2163,-56 2163,-56 2163,-62 2157,-68 2151,-68\"/>\r\n",
       "<text text-anchor=\"middle\" x=\"2114.5\" y=\"-52.8\" font-family=\"Helvetica,sans-Serif\" font-size=\"14.00\">gini = 0.0</text>\r\n",
       "<text text-anchor=\"middle\" x=\"2114.5\" y=\"-37.8\" font-family=\"Helvetica,sans-Serif\" font-size=\"14.00\">samples = 1</text>\r\n",
       "<text text-anchor=\"middle\" x=\"2114.5\" y=\"-22.8\" font-family=\"Helvetica,sans-Serif\" font-size=\"14.00\">value = [1, 0]</text>\r\n",
       "<text text-anchor=\"middle\" x=\"2114.5\" y=\"-7.8\" font-family=\"Helvetica,sans-Serif\" font-size=\"14.00\">class = I</text>\r\n",
       "</g>\r\n",
       "<!-- 33&#45;&gt;35 -->\r\n",
       "<g id=\"edge35\" class=\"edge\"><title>33&#45;&gt;35</title>\r\n",
       "<path fill=\"none\" stroke=\"black\" d=\"M2114.5,-103.726C2114.5,-95.5175 2114.5,-86.8595 2114.5,-78.56\"/>\r\n",
       "<polygon fill=\"black\" stroke=\"black\" points=\"2118,-78.2996 2114.5,-68.2996 2111,-78.2996 2118,-78.2996\"/>\r\n",
       "</g>\r\n",
       "<!-- 37 -->\r\n",
       "<g id=\"node38\" class=\"node\"><title>37</title>\r\n",
       "<path fill=\"#399de5\" fill-opacity=\"0.925490\" stroke=\"black\" d=\"M2307.5,-68C2307.5,-68 2193.5,-68 2193.5,-68 2187.5,-68 2181.5,-62 2181.5,-56 2181.5,-56 2181.5,-12 2181.5,-12 2181.5,-6 2187.5,-0 2193.5,-0 2193.5,-0 2307.5,-0 2307.5,-0 2313.5,-0 2319.5,-6 2319.5,-12 2319.5,-12 2319.5,-56 2319.5,-56 2319.5,-62 2313.5,-68 2307.5,-68\"/>\r\n",
       "<text text-anchor=\"middle\" x=\"2250.5\" y=\"-52.8\" font-family=\"Helvetica,sans-Serif\" font-size=\"14.00\">gini = 0.13</text>\r\n",
       "<text text-anchor=\"middle\" x=\"2250.5\" y=\"-37.8\" font-family=\"Helvetica,sans-Serif\" font-size=\"14.00\">samples = 5468</text>\r\n",
       "<text text-anchor=\"middle\" x=\"2250.5\" y=\"-22.8\" font-family=\"Helvetica,sans-Serif\" font-size=\"14.00\">value = [382, 5086]</text>\r\n",
       "<text text-anchor=\"middle\" x=\"2250.5\" y=\"-7.8\" font-family=\"Helvetica,sans-Serif\" font-size=\"14.00\">class = n</text>\r\n",
       "</g>\r\n",
       "<!-- 36&#45;&gt;37 -->\r\n",
       "<g id=\"edge37\" class=\"edge\"><title>36&#45;&gt;37</title>\r\n",
       "<path fill=\"none\" stroke=\"black\" d=\"M2298.2,-103.726C2292.06,-94.879 2285.56,-85.51 2279.39,-76.6303\"/>\r\n",
       "<polygon fill=\"black\" stroke=\"black\" points=\"2282.19,-74.5191 2273.61,-68.2996 2276.44,-78.5104 2282.19,-74.5191\"/>\r\n",
       "</g>\r\n",
       "<!-- 38 -->\r\n",
       "<g id=\"node39\" class=\"node\"><title>38</title>\r\n",
       "<path fill=\"#399de5\" fill-opacity=\"0.756863\" stroke=\"black\" d=\"M2455.5,-68C2455.5,-68 2349.5,-68 2349.5,-68 2343.5,-68 2337.5,-62 2337.5,-56 2337.5,-56 2337.5,-12 2337.5,-12 2337.5,-6 2343.5,-0 2349.5,-0 2349.5,-0 2455.5,-0 2455.5,-0 2461.5,-0 2467.5,-6 2467.5,-12 2467.5,-12 2467.5,-56 2467.5,-56 2467.5,-62 2461.5,-68 2455.5,-68\"/>\r\n",
       "<text text-anchor=\"middle\" x=\"2402.5\" y=\"-52.8\" font-family=\"Helvetica,sans-Serif\" font-size=\"14.00\">gini = 0.314</text>\r\n",
       "<text text-anchor=\"middle\" x=\"2402.5\" y=\"-37.8\" font-family=\"Helvetica,sans-Serif\" font-size=\"14.00\">samples = 1049</text>\r\n",
       "<text text-anchor=\"middle\" x=\"2402.5\" y=\"-22.8\" font-family=\"Helvetica,sans-Serif\" font-size=\"14.00\">value = [205, 844]</text>\r\n",
       "<text text-anchor=\"middle\" x=\"2402.5\" y=\"-7.8\" font-family=\"Helvetica,sans-Serif\" font-size=\"14.00\">class = n</text>\r\n",
       "</g>\r\n",
       "<!-- 36&#45;&gt;38 -->\r\n",
       "<g id=\"edge38\" class=\"edge\"><title>36&#45;&gt;38</title>\r\n",
       "<path fill=\"none\" stroke=\"black\" d=\"M2354.8,-103.726C2360.94,-94.879 2367.44,-85.51 2373.61,-76.6303\"/>\r\n",
       "<polygon fill=\"black\" stroke=\"black\" points=\"2376.56,-78.5104 2379.39,-68.2996 2370.81,-74.5191 2376.56,-78.5104\"/>\r\n",
       "</g>\r\n",
       "<!-- 40 -->\r\n",
       "<g id=\"node41\" class=\"node\"><title>40</title>\r\n",
       "<path fill=\"#e58139\" fill-opacity=\"0.172549\" stroke=\"black\" d=\"M2679,-187C2679,-187 2542,-187 2542,-187 2536,-187 2530,-181 2530,-175 2530,-175 2530,-116 2530,-116 2530,-110 2536,-104 2542,-104 2542,-104 2679,-104 2679,-104 2685,-104 2691,-110 2691,-116 2691,-116 2691,-175 2691,-175 2691,-181 2685,-187 2679,-187\"/>\r\n",
       "<text text-anchor=\"middle\" x=\"2610.5\" y=\"-171.8\" font-family=\"Helvetica,sans-Serif\" font-size=\"14.00\">cons.conf.idx &lt;= 0.193</text>\r\n",
       "<text text-anchor=\"middle\" x=\"2610.5\" y=\"-156.8\" font-family=\"Helvetica,sans-Serif\" font-size=\"14.00\">gini = 0.495</text>\r\n",
       "<text text-anchor=\"middle\" x=\"2610.5\" y=\"-141.8\" font-family=\"Helvetica,sans-Serif\" font-size=\"14.00\">samples = 1956</text>\r\n",
       "<text text-anchor=\"middle\" x=\"2610.5\" y=\"-126.8\" font-family=\"Helvetica,sans-Serif\" font-size=\"14.00\">value = [1071, 885]</text>\r\n",
       "<text text-anchor=\"middle\" x=\"2610.5\" y=\"-111.8\" font-family=\"Helvetica,sans-Serif\" font-size=\"14.00\">class = I</text>\r\n",
       "</g>\r\n",
       "<!-- 39&#45;&gt;40 -->\r\n",
       "<g id=\"edge40\" class=\"edge\"><title>39&#45;&gt;40</title>\r\n",
       "<path fill=\"none\" stroke=\"black\" d=\"M2610.5,-222.907C2610.5,-214.649 2610.5,-205.864 2610.5,-197.302\"/>\r\n",
       "<polygon fill=\"black\" stroke=\"black\" points=\"2614,-197.021 2610.5,-187.021 2607,-197.021 2614,-197.021\"/>\r\n",
       "</g>\r\n",
       "<!-- 43 -->\r\n",
       "<g id=\"node44\" class=\"node\"><title>43</title>\r\n",
       "<path fill=\"#399de5\" fill-opacity=\"0.803922\" stroke=\"black\" d=\"M2895.5,-187C2895.5,-187 2781.5,-187 2781.5,-187 2775.5,-187 2769.5,-181 2769.5,-175 2769.5,-175 2769.5,-116 2769.5,-116 2769.5,-110 2775.5,-104 2781.5,-104 2781.5,-104 2895.5,-104 2895.5,-104 2901.5,-104 2907.5,-110 2907.5,-116 2907.5,-116 2907.5,-175 2907.5,-175 2907.5,-181 2901.5,-187 2895.5,-187\"/>\r\n",
       "<text text-anchor=\"middle\" x=\"2838.5\" y=\"-171.8\" font-family=\"Helvetica,sans-Serif\" font-size=\"14.00\">month &lt;= 0.222</text>\r\n",
       "<text text-anchor=\"middle\" x=\"2838.5\" y=\"-156.8\" font-family=\"Helvetica,sans-Serif\" font-size=\"14.00\">gini = 0.275</text>\r\n",
       "<text text-anchor=\"middle\" x=\"2838.5\" y=\"-141.8\" font-family=\"Helvetica,sans-Serif\" font-size=\"14.00\">samples = 4753</text>\r\n",
       "<text text-anchor=\"middle\" x=\"2838.5\" y=\"-126.8\" font-family=\"Helvetica,sans-Serif\" font-size=\"14.00\">value = [783, 3970]</text>\r\n",
       "<text text-anchor=\"middle\" x=\"2838.5\" y=\"-111.8\" font-family=\"Helvetica,sans-Serif\" font-size=\"14.00\">class = n</text>\r\n",
       "</g>\r\n",
       "<!-- 39&#45;&gt;43 -->\r\n",
       "<g id=\"edge43\" class=\"edge\"><title>39&#45;&gt;43</title>\r\n",
       "<path fill=\"none\" stroke=\"black\" d=\"M2683.58,-225.998C2708.06,-213.437 2735.44,-199.387 2760.29,-186.634\"/>\r\n",
       "<polygon fill=\"black\" stroke=\"black\" points=\"2762.02,-189.678 2769.32,-181.999 2758.83,-183.45 2762.02,-189.678\"/>\r\n",
       "</g>\r\n",
       "<!-- 41 -->\r\n",
       "<g id=\"node42\" class=\"node\"><title>41</title>\r\n",
       "<path fill=\"#e58139\" fill-opacity=\"0.537255\" stroke=\"black\" d=\"M2603.5,-68C2603.5,-68 2497.5,-68 2497.5,-68 2491.5,-68 2485.5,-62 2485.5,-56 2485.5,-56 2485.5,-12 2485.5,-12 2485.5,-6 2491.5,-0 2497.5,-0 2497.5,-0 2603.5,-0 2603.5,-0 2609.5,-0 2615.5,-6 2615.5,-12 2615.5,-12 2615.5,-56 2615.5,-56 2615.5,-62 2609.5,-68 2603.5,-68\"/>\r\n",
       "<text text-anchor=\"middle\" x=\"2550.5\" y=\"-52.8\" font-family=\"Helvetica,sans-Serif\" font-size=\"14.00\">gini = 0.432</text>\r\n",
       "<text text-anchor=\"middle\" x=\"2550.5\" y=\"-37.8\" font-family=\"Helvetica,sans-Serif\" font-size=\"14.00\">samples = 1459</text>\r\n",
       "<text text-anchor=\"middle\" x=\"2550.5\" y=\"-22.8\" font-family=\"Helvetica,sans-Serif\" font-size=\"14.00\">value = [998, 461]</text>\r\n",
       "<text text-anchor=\"middle\" x=\"2550.5\" y=\"-7.8\" font-family=\"Helvetica,sans-Serif\" font-size=\"14.00\">class = I</text>\r\n",
       "</g>\r\n",
       "<!-- 40&#45;&gt;41 -->\r\n",
       "<g id=\"edge41\" class=\"edge\"><title>40&#45;&gt;41</title>\r\n",
       "<path fill=\"none\" stroke=\"black\" d=\"M2588.16,-103.726C2583.41,-95.0615 2578.39,-85.8962 2573.61,-77.1802\"/>\r\n",
       "<polygon fill=\"black\" stroke=\"black\" points=\"2576.62,-75.3875 2568.75,-68.2996 2570.48,-78.7513 2576.62,-75.3875\"/>\r\n",
       "</g>\r\n",
       "<!-- 42 -->\r\n",
       "<g id=\"node43\" class=\"node\"><title>42</title>\r\n",
       "<path fill=\"#399de5\" fill-opacity=\"0.827451\" stroke=\"black\" d=\"M2743.5,-68C2743.5,-68 2645.5,-68 2645.5,-68 2639.5,-68 2633.5,-62 2633.5,-56 2633.5,-56 2633.5,-12 2633.5,-12 2633.5,-6 2639.5,-0 2645.5,-0 2645.5,-0 2743.5,-0 2743.5,-0 2749.5,-0 2755.5,-6 2755.5,-12 2755.5,-12 2755.5,-56 2755.5,-56 2755.5,-62 2749.5,-68 2743.5,-68\"/>\r\n",
       "<text text-anchor=\"middle\" x=\"2694.5\" y=\"-52.8\" font-family=\"Helvetica,sans-Serif\" font-size=\"14.00\">gini = 0.251</text>\r\n",
       "<text text-anchor=\"middle\" x=\"2694.5\" y=\"-37.8\" font-family=\"Helvetica,sans-Serif\" font-size=\"14.00\">samples = 497</text>\r\n",
       "<text text-anchor=\"middle\" x=\"2694.5\" y=\"-22.8\" font-family=\"Helvetica,sans-Serif\" font-size=\"14.00\">value = [73, 424]</text>\r\n",
       "<text text-anchor=\"middle\" x=\"2694.5\" y=\"-7.8\" font-family=\"Helvetica,sans-Serif\" font-size=\"14.00\">class = n</text>\r\n",
       "</g>\r\n",
       "<!-- 40&#45;&gt;42 -->\r\n",
       "<g id=\"edge42\" class=\"edge\"><title>40&#45;&gt;42</title>\r\n",
       "<path fill=\"none\" stroke=\"black\" d=\"M2641.78,-103.726C2648.64,-94.7878 2655.9,-85.3168 2662.78,-76.3558\"/>\r\n",
       "<polygon fill=\"black\" stroke=\"black\" points=\"2665.65,-78.3643 2668.96,-68.2996 2660.09,-74.1036 2665.65,-78.3643\"/>\r\n",
       "</g>\r\n",
       "<!-- 44 -->\r\n",
       "<g id=\"node45\" class=\"node\"><title>44</title>\r\n",
       "<path fill=\"#399de5\" fill-opacity=\"0.988235\" stroke=\"black\" d=\"M2891.5,-68C2891.5,-68 2785.5,-68 2785.5,-68 2779.5,-68 2773.5,-62 2773.5,-56 2773.5,-56 2773.5,-12 2773.5,-12 2773.5,-6 2779.5,-0 2785.5,-0 2785.5,-0 2891.5,-0 2891.5,-0 2897.5,-0 2903.5,-6 2903.5,-12 2903.5,-12 2903.5,-56 2903.5,-56 2903.5,-62 2897.5,-68 2891.5,-68\"/>\r\n",
       "<text text-anchor=\"middle\" x=\"2838.5\" y=\"-52.8\" font-family=\"Helvetica,sans-Serif\" font-size=\"14.00\">gini = 0.023</text>\r\n",
       "<text text-anchor=\"middle\" x=\"2838.5\" y=\"-37.8\" font-family=\"Helvetica,sans-Serif\" font-size=\"14.00\">samples = 1579</text>\r\n",
       "<text text-anchor=\"middle\" x=\"2838.5\" y=\"-22.8\" font-family=\"Helvetica,sans-Serif\" font-size=\"14.00\">value = [18, 1561]</text>\r\n",
       "<text text-anchor=\"middle\" x=\"2838.5\" y=\"-7.8\" font-family=\"Helvetica,sans-Serif\" font-size=\"14.00\">class = n</text>\r\n",
       "</g>\r\n",
       "<!-- 43&#45;&gt;44 -->\r\n",
       "<g id=\"edge44\" class=\"edge\"><title>43&#45;&gt;44</title>\r\n",
       "<path fill=\"none\" stroke=\"black\" d=\"M2838.5,-103.726C2838.5,-95.5175 2838.5,-86.8595 2838.5,-78.56\"/>\r\n",
       "<polygon fill=\"black\" stroke=\"black\" points=\"2842,-78.2996 2838.5,-68.2996 2835,-78.2996 2842,-78.2996\"/>\r\n",
       "</g>\r\n",
       "<!-- 45 -->\r\n",
       "<g id=\"node46\" class=\"node\"><title>45</title>\r\n",
       "<path fill=\"#399de5\" fill-opacity=\"0.682353\" stroke=\"black\" d=\"M3047.5,-68C3047.5,-68 2933.5,-68 2933.5,-68 2927.5,-68 2921.5,-62 2921.5,-56 2921.5,-56 2921.5,-12 2921.5,-12 2921.5,-6 2927.5,-0 2933.5,-0 2933.5,-0 3047.5,-0 3047.5,-0 3053.5,-0 3059.5,-6 3059.5,-12 3059.5,-12 3059.5,-56 3059.5,-56 3059.5,-62 3053.5,-68 3047.5,-68\"/>\r\n",
       "<text text-anchor=\"middle\" x=\"2990.5\" y=\"-52.8\" font-family=\"Helvetica,sans-Serif\" font-size=\"14.00\">gini = 0.366</text>\r\n",
       "<text text-anchor=\"middle\" x=\"2990.5\" y=\"-37.8\" font-family=\"Helvetica,sans-Serif\" font-size=\"14.00\">samples = 3174</text>\r\n",
       "<text text-anchor=\"middle\" x=\"2990.5\" y=\"-22.8\" font-family=\"Helvetica,sans-Serif\" font-size=\"14.00\">value = [765, 2409]</text>\r\n",
       "<text text-anchor=\"middle\" x=\"2990.5\" y=\"-7.8\" font-family=\"Helvetica,sans-Serif\" font-size=\"14.00\">class = n</text>\r\n",
       "</g>\r\n",
       "<!-- 43&#45;&gt;45 -->\r\n",
       "<g id=\"edge45\" class=\"edge\"><title>43&#45;&gt;45</title>\r\n",
       "<path fill=\"none\" stroke=\"black\" d=\"M2895.1,-103.726C2908.52,-94.0582 2922.81,-83.767 2936.12,-74.172\"/>\r\n",
       "<polygon fill=\"black\" stroke=\"black\" points=\"2938.21,-76.9846 2944.28,-68.2996 2934.12,-71.305 2938.21,-76.9846\"/>\r\n",
       "</g>\r\n",
       "<!-- 47 -->\r\n",
       "<g id=\"node48\" class=\"node\"><title>47</title>\r\n",
       "<path fill=\"#e58139\" fill-opacity=\"0.705882\" stroke=\"black\" d=\"M3395,-306C3395,-306 3258,-306 3258,-306 3252,-306 3246,-300 3246,-294 3246,-294 3246,-235 3246,-235 3246,-229 3252,-223 3258,-223 3258,-223 3395,-223 3395,-223 3401,-223 3407,-229 3407,-235 3407,-235 3407,-294 3407,-294 3407,-300 3401,-306 3395,-306\"/>\r\n",
       "<text text-anchor=\"middle\" x=\"3326.5\" y=\"-290.8\" font-family=\"Helvetica,sans-Serif\" font-size=\"14.00\">cons.conf.idx &lt;= 0.154</text>\r\n",
       "<text text-anchor=\"middle\" x=\"3326.5\" y=\"-275.8\" font-family=\"Helvetica,sans-Serif\" font-size=\"14.00\">gini = 0.352</text>\r\n",
       "<text text-anchor=\"middle\" x=\"3326.5\" y=\"-260.8\" font-family=\"Helvetica,sans-Serif\" font-size=\"14.00\">samples = 10468</text>\r\n",
       "<text text-anchor=\"middle\" x=\"3326.5\" y=\"-245.8\" font-family=\"Helvetica,sans-Serif\" font-size=\"14.00\">value = [8079, 2389]</text>\r\n",
       "<text text-anchor=\"middle\" x=\"3326.5\" y=\"-230.8\" font-family=\"Helvetica,sans-Serif\" font-size=\"14.00\">class = I</text>\r\n",
       "</g>\r\n",
       "<!-- 46&#45;&gt;47 -->\r\n",
       "<g id=\"edge47\" class=\"edge\"><title>46&#45;&gt;47</title>\r\n",
       "<path fill=\"none\" stroke=\"black\" d=\"M3326.5,-341.907C3326.5,-333.649 3326.5,-324.864 3326.5,-316.302\"/>\r\n",
       "<polygon fill=\"black\" stroke=\"black\" points=\"3330,-316.021 3326.5,-306.021 3323,-316.021 3330,-316.021\"/>\r\n",
       "</g>\r\n",
       "<!-- 54 -->\r\n",
       "<g id=\"node55\" class=\"node\"><title>54</title>\r\n",
       "<path fill=\"#399de5\" fill-opacity=\"0.862745\" stroke=\"black\" d=\"M3631.5,-306C3631.5,-306 3517.5,-306 3517.5,-306 3511.5,-306 3505.5,-300 3505.5,-294 3505.5,-294 3505.5,-235 3505.5,-235 3505.5,-229 3511.5,-223 3517.5,-223 3517.5,-223 3631.5,-223 3631.5,-223 3637.5,-223 3643.5,-229 3643.5,-235 3643.5,-235 3643.5,-294 3643.5,-294 3643.5,-300 3637.5,-306 3631.5,-306\"/>\r\n",
       "<text text-anchor=\"middle\" x=\"3574.5\" y=\"-290.8\" font-family=\"Helvetica,sans-Serif\" font-size=\"14.00\">duration &lt;= 1.0</text>\r\n",
       "<text text-anchor=\"middle\" x=\"3574.5\" y=\"-275.8\" font-family=\"Helvetica,sans-Serif\" font-size=\"14.00\">gini = 0.21</text>\r\n",
       "<text text-anchor=\"middle\" x=\"3574.5\" y=\"-260.8\" font-family=\"Helvetica,sans-Serif\" font-size=\"14.00\">samples = 6996</text>\r\n",
       "<text text-anchor=\"middle\" x=\"3574.5\" y=\"-245.8\" font-family=\"Helvetica,sans-Serif\" font-size=\"14.00\">value = [834, 6162]</text>\r\n",
       "<text text-anchor=\"middle\" x=\"3574.5\" y=\"-230.8\" font-family=\"Helvetica,sans-Serif\" font-size=\"14.00\">class = n</text>\r\n",
       "</g>\r\n",
       "<!-- 46&#45;&gt;54 -->\r\n",
       "<g id=\"edge54\" class=\"edge\"><title>46&#45;&gt;54</title>\r\n",
       "<path fill=\"none\" stroke=\"black\" d=\"M3399.57,-348.029C3429.87,-333.735 3465.08,-317.123 3495.93,-302.567\"/>\r\n",
       "<polygon fill=\"black\" stroke=\"black\" points=\"3497.81,-305.552 3505.36,-298.12 3494.82,-299.222 3497.81,-305.552\"/>\r\n",
       "</g>\r\n",
       "<!-- 48 -->\r\n",
       "<g id=\"node49\" class=\"node\"><title>48</title>\r\n",
       "<path fill=\"#399de5\" fill-opacity=\"0.956863\" stroke=\"black\" d=\"M3316,-187C3316,-187 3179,-187 3179,-187 3173,-187 3167,-181 3167,-175 3167,-175 3167,-116 3167,-116 3167,-110 3173,-104 3179,-104 3179,-104 3316,-104 3316,-104 3322,-104 3328,-110 3328,-116 3328,-116 3328,-175 3328,-175 3328,-181 3322,-187 3316,-187\"/>\r\n",
       "<text text-anchor=\"middle\" x=\"3247.5\" y=\"-171.8\" font-family=\"Helvetica,sans-Serif\" font-size=\"14.00\">cons.conf.idx &lt;= 0.034</text>\r\n",
       "<text text-anchor=\"middle\" x=\"3247.5\" y=\"-156.8\" font-family=\"Helvetica,sans-Serif\" font-size=\"14.00\">gini = 0.079</text>\r\n",
       "<text text-anchor=\"middle\" x=\"3247.5\" y=\"-141.8\" font-family=\"Helvetica,sans-Serif\" font-size=\"14.00\">samples = 555</text>\r\n",
       "<text text-anchor=\"middle\" x=\"3247.5\" y=\"-126.8\" font-family=\"Helvetica,sans-Serif\" font-size=\"14.00\">value = [23, 532]</text>\r\n",
       "<text text-anchor=\"middle\" x=\"3247.5\" y=\"-111.8\" font-family=\"Helvetica,sans-Serif\" font-size=\"14.00\">class = n</text>\r\n",
       "</g>\r\n",
       "<!-- 47&#45;&gt;48 -->\r\n",
       "<g id=\"edge48\" class=\"edge\"><title>47&#45;&gt;48</title>\r\n",
       "<path fill=\"none\" stroke=\"black\" d=\"M3299.09,-222.907C3293.09,-214.014 3286.67,-204.509 3280.47,-195.331\"/>\r\n",
       "<polygon fill=\"black\" stroke=\"black\" points=\"3283.36,-193.35 3274.86,-187.021 3277.56,-197.267 3283.36,-193.35\"/>\r\n",
       "</g>\r\n",
       "<!-- 51 -->\r\n",
       "<g id=\"node52\" class=\"node\"><title>51</title>\r\n",
       "<path fill=\"#e58139\" fill-opacity=\"0.768627\" stroke=\"black\" d=\"M3480.5,-187C3480.5,-187 3358.5,-187 3358.5,-187 3352.5,-187 3346.5,-181 3346.5,-175 3346.5,-175 3346.5,-116 3346.5,-116 3346.5,-110 3352.5,-104 3358.5,-104 3358.5,-104 3480.5,-104 3480.5,-104 3486.5,-104 3492.5,-110 3492.5,-116 3492.5,-116 3492.5,-175 3492.5,-175 3492.5,-181 3486.5,-187 3480.5,-187\"/>\r\n",
       "<text text-anchor=\"middle\" x=\"3419.5\" y=\"-171.8\" font-family=\"Helvetica,sans-Serif\" font-size=\"14.00\">duration &lt;= 0.501</text>\r\n",
       "<text text-anchor=\"middle\" x=\"3419.5\" y=\"-156.8\" font-family=\"Helvetica,sans-Serif\" font-size=\"14.00\">gini = 0.304</text>\r\n",
       "<text text-anchor=\"middle\" x=\"3419.5\" y=\"-141.8\" font-family=\"Helvetica,sans-Serif\" font-size=\"14.00\">samples = 9913</text>\r\n",
       "<text text-anchor=\"middle\" x=\"3419.5\" y=\"-126.8\" font-family=\"Helvetica,sans-Serif\" font-size=\"14.00\">value = [8056, 1857]</text>\r\n",
       "<text text-anchor=\"middle\" x=\"3419.5\" y=\"-111.8\" font-family=\"Helvetica,sans-Serif\" font-size=\"14.00\">class = I</text>\r\n",
       "</g>\r\n",
       "<!-- 47&#45;&gt;51 -->\r\n",
       "<g id=\"edge51\" class=\"edge\"><title>47&#45;&gt;51</title>\r\n",
       "<path fill=\"none\" stroke=\"black\" d=\"M3358.77,-222.907C3365.91,-213.923 3373.54,-204.315 3380.91,-195.05\"/>\r\n",
       "<polygon fill=\"black\" stroke=\"black\" points=\"3383.81,-197.027 3387.29,-187.021 3378.33,-192.671 3383.81,-197.027\"/>\r\n",
       "</g>\r\n",
       "<!-- 49 -->\r\n",
       "<g id=\"node50\" class=\"node\"><title>49</title>\r\n",
       "<path fill=\"#399de5\" fill-opacity=\"0.878431\" stroke=\"black\" d=\"M3187.5,-68C3187.5,-68 3089.5,-68 3089.5,-68 3083.5,-68 3077.5,-62 3077.5,-56 3077.5,-56 3077.5,-12 3077.5,-12 3077.5,-6 3083.5,-0 3089.5,-0 3089.5,-0 3187.5,-0 3187.5,-0 3193.5,-0 3199.5,-6 3199.5,-12 3199.5,-12 3199.5,-56 3199.5,-56 3199.5,-62 3193.5,-68 3187.5,-68\"/>\r\n",
       "<text text-anchor=\"middle\" x=\"3138.5\" y=\"-52.8\" font-family=\"Helvetica,sans-Serif\" font-size=\"14.00\">gini = 0.193</text>\r\n",
       "<text text-anchor=\"middle\" x=\"3138.5\" y=\"-37.8\" font-family=\"Helvetica,sans-Serif\" font-size=\"14.00\">samples = 213</text>\r\n",
       "<text text-anchor=\"middle\" x=\"3138.5\" y=\"-22.8\" font-family=\"Helvetica,sans-Serif\" font-size=\"14.00\">value = [23, 190]</text>\r\n",
       "<text text-anchor=\"middle\" x=\"3138.5\" y=\"-7.8\" font-family=\"Helvetica,sans-Serif\" font-size=\"14.00\">class = n</text>\r\n",
       "</g>\r\n",
       "<!-- 48&#45;&gt;49 -->\r\n",
       "<g id=\"edge49\" class=\"edge\"><title>48&#45;&gt;49</title>\r\n",
       "<path fill=\"none\" stroke=\"black\" d=\"M3206.91,-103.726C3197.74,-94.5142 3188.01,-84.7364 3178.85,-75.5343\"/>\r\n",
       "<polygon fill=\"black\" stroke=\"black\" points=\"3181.18,-72.9176 3171.65,-68.2996 3176.22,-77.8561 3181.18,-72.9176\"/>\r\n",
       "</g>\r\n",
       "<!-- 50 -->\r\n",
       "<g id=\"node51\" class=\"node\"><title>50</title>\r\n",
       "<path fill=\"#399de5\" stroke=\"black\" d=\"M3319,-68C3319,-68 3230,-68 3230,-68 3224,-68 3218,-62 3218,-56 3218,-56 3218,-12 3218,-12 3218,-6 3224,-0 3230,-0 3230,-0 3319,-0 3319,-0 3325,-0 3331,-6 3331,-12 3331,-12 3331,-56 3331,-56 3331,-62 3325,-68 3319,-68\"/>\r\n",
       "<text text-anchor=\"middle\" x=\"3274.5\" y=\"-52.8\" font-family=\"Helvetica,sans-Serif\" font-size=\"14.00\">gini = 0.0</text>\r\n",
       "<text text-anchor=\"middle\" x=\"3274.5\" y=\"-37.8\" font-family=\"Helvetica,sans-Serif\" font-size=\"14.00\">samples = 342</text>\r\n",
       "<text text-anchor=\"middle\" x=\"3274.5\" y=\"-22.8\" font-family=\"Helvetica,sans-Serif\" font-size=\"14.00\">value = [0, 342]</text>\r\n",
       "<text text-anchor=\"middle\" x=\"3274.5\" y=\"-7.8\" font-family=\"Helvetica,sans-Serif\" font-size=\"14.00\">class = n</text>\r\n",
       "</g>\r\n",
       "<!-- 48&#45;&gt;50 -->\r\n",
       "<g id=\"edge50\" class=\"edge\"><title>48&#45;&gt;50</title>\r\n",
       "<path fill=\"none\" stroke=\"black\" d=\"M3257.55,-103.726C3259.6,-95.4263 3261.76,-86.6671 3263.83,-78.2834\"/>\r\n",
       "<polygon fill=\"black\" stroke=\"black\" points=\"3267.29,-78.8467 3266.29,-68.2996 3260.5,-77.1709 3267.29,-78.8467\"/>\r\n",
       "</g>\r\n",
       "<!-- 52 -->\r\n",
       "<g id=\"node53\" class=\"node\"><title>52</title>\r\n",
       "<path fill=\"#e58139\" fill-opacity=\"0.921569\" stroke=\"black\" d=\"M3475.5,-68C3475.5,-68 3361.5,-68 3361.5,-68 3355.5,-68 3349.5,-62 3349.5,-56 3349.5,-56 3349.5,-12 3349.5,-12 3349.5,-6 3355.5,-0 3361.5,-0 3361.5,-0 3475.5,-0 3475.5,-0 3481.5,-0 3487.5,-6 3487.5,-12 3487.5,-12 3487.5,-56 3487.5,-56 3487.5,-62 3481.5,-68 3475.5,-68\"/>\r\n",
       "<text text-anchor=\"middle\" x=\"3418.5\" y=\"-52.8\" font-family=\"Helvetica,sans-Serif\" font-size=\"14.00\">gini = 0.134</text>\r\n",
       "<text text-anchor=\"middle\" x=\"3418.5\" y=\"-37.8\" font-family=\"Helvetica,sans-Serif\" font-size=\"14.00\">samples = 5220</text>\r\n",
       "<text text-anchor=\"middle\" x=\"3418.5\" y=\"-22.8\" font-family=\"Helvetica,sans-Serif\" font-size=\"14.00\">value = [4842, 378]</text>\r\n",
       "<text text-anchor=\"middle\" x=\"3418.5\" y=\"-7.8\" font-family=\"Helvetica,sans-Serif\" font-size=\"14.00\">class = I</text>\r\n",
       "</g>\r\n",
       "<!-- 51&#45;&gt;52 -->\r\n",
       "<g id=\"edge52\" class=\"edge\"><title>51&#45;&gt;52</title>\r\n",
       "<path fill=\"none\" stroke=\"black\" d=\"M3419.13,-103.726C3419.05,-95.5175 3418.97,-86.8595 3418.9,-78.56\"/>\r\n",
       "<polygon fill=\"black\" stroke=\"black\" points=\"3422.4,-78.2672 3418.8,-68.2996 3415.4,-78.3312 3422.4,-78.2672\"/>\r\n",
       "</g>\r\n",
       "<!-- 53 -->\r\n",
       "<g id=\"node54\" class=\"node\"><title>53</title>\r\n",
       "<path fill=\"#e58139\" fill-opacity=\"0.541176\" stroke=\"black\" d=\"M3639.5,-68C3639.5,-68 3517.5,-68 3517.5,-68 3511.5,-68 3505.5,-62 3505.5,-56 3505.5,-56 3505.5,-12 3505.5,-12 3505.5,-6 3511.5,-0 3517.5,-0 3517.5,-0 3639.5,-0 3639.5,-0 3645.5,-0 3651.5,-6 3651.5,-12 3651.5,-12 3651.5,-56 3651.5,-56 3651.5,-62 3645.5,-68 3639.5,-68\"/>\r\n",
       "<text text-anchor=\"middle\" x=\"3578.5\" y=\"-52.8\" font-family=\"Helvetica,sans-Serif\" font-size=\"14.00\">gini = 0.432</text>\r\n",
       "<text text-anchor=\"middle\" x=\"3578.5\" y=\"-37.8\" font-family=\"Helvetica,sans-Serif\" font-size=\"14.00\">samples = 4693</text>\r\n",
       "<text text-anchor=\"middle\" x=\"3578.5\" y=\"-22.8\" font-family=\"Helvetica,sans-Serif\" font-size=\"14.00\">value = [3214, 1479]</text>\r\n",
       "<text text-anchor=\"middle\" x=\"3578.5\" y=\"-7.8\" font-family=\"Helvetica,sans-Serif\" font-size=\"14.00\">class = I</text>\r\n",
       "</g>\r\n",
       "<!-- 51&#45;&gt;53 -->\r\n",
       "<g id=\"edge53\" class=\"edge\"><title>51&#45;&gt;53</title>\r\n",
       "<path fill=\"none\" stroke=\"black\" d=\"M3478.71,-103.726C3492.82,-94.0078 3507.84,-83.6597 3521.84,-74.0222\"/>\r\n",
       "<polygon fill=\"black\" stroke=\"black\" points=\"3524.15,-76.6797 3530.4,-68.1252 3520.18,-70.9146 3524.15,-76.6797\"/>\r\n",
       "</g>\r\n",
       "<!-- 55 -->\r\n",
       "<g id=\"node56\" class=\"node\"><title>55</title>\r\n",
       "<path fill=\"#399de5\" stroke=\"black\" d=\"M3623.5,-179.5C3623.5,-179.5 3525.5,-179.5 3525.5,-179.5 3519.5,-179.5 3513.5,-173.5 3513.5,-167.5 3513.5,-167.5 3513.5,-123.5 3513.5,-123.5 3513.5,-117.5 3519.5,-111.5 3525.5,-111.5 3525.5,-111.5 3623.5,-111.5 3623.5,-111.5 3629.5,-111.5 3635.5,-117.5 3635.5,-123.5 3635.5,-123.5 3635.5,-167.5 3635.5,-167.5 3635.5,-173.5 3629.5,-179.5 3623.5,-179.5\"/>\r\n",
       "<text text-anchor=\"middle\" x=\"3574.5\" y=\"-164.3\" font-family=\"Helvetica,sans-Serif\" font-size=\"14.00\">gini = 0.0</text>\r\n",
       "<text text-anchor=\"middle\" x=\"3574.5\" y=\"-149.3\" font-family=\"Helvetica,sans-Serif\" font-size=\"14.00\">samples = 1489</text>\r\n",
       "<text text-anchor=\"middle\" x=\"3574.5\" y=\"-134.3\" font-family=\"Helvetica,sans-Serif\" font-size=\"14.00\">value = [0, 1489]</text>\r\n",
       "<text text-anchor=\"middle\" x=\"3574.5\" y=\"-119.3\" font-family=\"Helvetica,sans-Serif\" font-size=\"14.00\">class = n</text>\r\n",
       "</g>\r\n",
       "<!-- 54&#45;&gt;55 -->\r\n",
       "<g id=\"edge55\" class=\"edge\"><title>54&#45;&gt;55</title>\r\n",
       "<path fill=\"none\" stroke=\"black\" d=\"M3574.5,-222.907C3574.5,-212.204 3574.5,-200.615 3574.5,-189.776\"/>\r\n",
       "<polygon fill=\"black\" stroke=\"black\" points=\"3578,-189.667 3574.5,-179.667 3571,-189.667 3578,-189.667\"/>\r\n",
       "</g>\r\n",
       "<!-- 56 -->\r\n",
       "<g id=\"node57\" class=\"node\"><title>56</title>\r\n",
       "<path fill=\"#399de5\" fill-opacity=\"0.819608\" stroke=\"black\" d=\"M3785.5,-187C3785.5,-187 3667.5,-187 3667.5,-187 3661.5,-187 3655.5,-181 3655.5,-175 3655.5,-175 3655.5,-116 3655.5,-116 3655.5,-110 3661.5,-104 3667.5,-104 3667.5,-104 3785.5,-104 3785.5,-104 3791.5,-104 3797.5,-110 3797.5,-116 3797.5,-116 3797.5,-175 3797.5,-175 3797.5,-181 3791.5,-187 3785.5,-187\"/>\r\n",
       "<text text-anchor=\"middle\" x=\"3726.5\" y=\"-171.8\" font-family=\"Helvetica,sans-Serif\" font-size=\"14.00\">euribor3m &lt;= 0.175</text>\r\n",
       "<text text-anchor=\"middle\" x=\"3726.5\" y=\"-156.8\" font-family=\"Helvetica,sans-Serif\" font-size=\"14.00\">gini = 0.257</text>\r\n",
       "<text text-anchor=\"middle\" x=\"3726.5\" y=\"-141.8\" font-family=\"Helvetica,sans-Serif\" font-size=\"14.00\">samples = 5507</text>\r\n",
       "<text text-anchor=\"middle\" x=\"3726.5\" y=\"-126.8\" font-family=\"Helvetica,sans-Serif\" font-size=\"14.00\">value = [834, 4673]</text>\r\n",
       "<text text-anchor=\"middle\" x=\"3726.5\" y=\"-111.8\" font-family=\"Helvetica,sans-Serif\" font-size=\"14.00\">class = n</text>\r\n",
       "</g>\r\n",
       "<!-- 54&#45;&gt;56 -->\r\n",
       "<g id=\"edge56\" class=\"edge\"><title>54&#45;&gt;56</title>\r\n",
       "<path fill=\"none\" stroke=\"black\" d=\"M3627.24,-222.907C3639.62,-213.379 3652.91,-203.148 3665.61,-193.37\"/>\r\n",
       "<polygon fill=\"black\" stroke=\"black\" points=\"3668.07,-195.894 3673.86,-187.021 3663.8,-190.347 3668.07,-195.894\"/>\r\n",
       "</g>\r\n",
       "<!-- 57 -->\r\n",
       "<g id=\"node58\" class=\"node\"><title>57</title>\r\n",
       "<path fill=\"#e58139\" fill-opacity=\"0.156863\" stroke=\"black\" d=\"M3771,-68C3771,-68 3682,-68 3682,-68 3676,-68 3670,-62 3670,-56 3670,-56 3670,-12 3670,-12 3670,-6 3676,-0 3682,-0 3682,-0 3771,-0 3771,-0 3777,-0 3783,-6 3783,-12 3783,-12 3783,-56 3783,-56 3783,-62 3777,-68 3771,-68\"/>\r\n",
       "<text text-anchor=\"middle\" x=\"3726.5\" y=\"-52.8\" font-family=\"Helvetica,sans-Serif\" font-size=\"14.00\">gini = 0.496</text>\r\n",
       "<text text-anchor=\"middle\" x=\"3726.5\" y=\"-37.8\" font-family=\"Helvetica,sans-Serif\" font-size=\"14.00\">samples = 70</text>\r\n",
       "<text text-anchor=\"middle\" x=\"3726.5\" y=\"-22.8\" font-family=\"Helvetica,sans-Serif\" font-size=\"14.00\">value = [38, 32]</text>\r\n",
       "<text text-anchor=\"middle\" x=\"3726.5\" y=\"-7.8\" font-family=\"Helvetica,sans-Serif\" font-size=\"14.00\">class = I</text>\r\n",
       "</g>\r\n",
       "<!-- 56&#45;&gt;57 -->\r\n",
       "<g id=\"edge57\" class=\"edge\"><title>56&#45;&gt;57</title>\r\n",
       "<path fill=\"none\" stroke=\"black\" d=\"M3726.5,-103.726C3726.5,-95.5175 3726.5,-86.8595 3726.5,-78.56\"/>\r\n",
       "<polygon fill=\"black\" stroke=\"black\" points=\"3730,-78.2996 3726.5,-68.2996 3723,-78.2996 3730,-78.2996\"/>\r\n",
       "</g>\r\n",
       "<!-- 58 -->\r\n",
       "<g id=\"node59\" class=\"node\"><title>58</title>\r\n",
       "<path fill=\"#399de5\" fill-opacity=\"0.827451\" stroke=\"black\" d=\"M3927.5,-68C3927.5,-68 3813.5,-68 3813.5,-68 3807.5,-68 3801.5,-62 3801.5,-56 3801.5,-56 3801.5,-12 3801.5,-12 3801.5,-6 3807.5,-0 3813.5,-0 3813.5,-0 3927.5,-0 3927.5,-0 3933.5,-0 3939.5,-6 3939.5,-12 3939.5,-12 3939.5,-56 3939.5,-56 3939.5,-62 3933.5,-68 3927.5,-68\"/>\r\n",
       "<text text-anchor=\"middle\" x=\"3870.5\" y=\"-52.8\" font-family=\"Helvetica,sans-Serif\" font-size=\"14.00\">gini = 0.25</text>\r\n",
       "<text text-anchor=\"middle\" x=\"3870.5\" y=\"-37.8\" font-family=\"Helvetica,sans-Serif\" font-size=\"14.00\">samples = 5437</text>\r\n",
       "<text text-anchor=\"middle\" x=\"3870.5\" y=\"-22.8\" font-family=\"Helvetica,sans-Serif\" font-size=\"14.00\">value = [796, 4641]</text>\r\n",
       "<text text-anchor=\"middle\" x=\"3870.5\" y=\"-7.8\" font-family=\"Helvetica,sans-Serif\" font-size=\"14.00\">class = n</text>\r\n",
       "</g>\r\n",
       "<!-- 56&#45;&gt;58 -->\r\n",
       "<g id=\"edge58\" class=\"edge\"><title>56&#45;&gt;58</title>\r\n",
       "<path fill=\"none\" stroke=\"black\" d=\"M3780.12,-103.726C3792.71,-94.1494 3806.11,-83.9611 3818.63,-74.4438\"/>\r\n",
       "<polygon fill=\"black\" stroke=\"black\" points=\"3820.87,-77.1386 3826.71,-68.2996 3816.63,-71.5666 3820.87,-77.1386\"/>\r\n",
       "</g>\r\n",
       "</g>\r\n",
       "</svg>\r\n"
      ],
      "text/plain": [
       "<graphviz.files.Source at 0x258f10d86a0>"
      ]
     },
     "execution_count": 98,
     "metadata": {},
     "output_type": "execute_result"
    }
   ],
   "source": [
    "feature_names = X.columns\n",
    "class_names = str(Y.columns)\n",
    "\n",
    "dot_data = export_graphviz(clf_gini, out_file=None, filled=True, rounded=True,\n",
    "                                feature_names=feature_names,  \n",
    "                                class_names=class_names)\n",
    "graph = graphviz.Source(dot_data)  \n",
    "graph"
   ]
  },
  {
   "cell_type": "code",
   "execution_count": 99,
   "metadata": {},
   "outputs": [
    {
     "data": {
      "image/png": "[encoded data removed]",
      "text/plain": [
       "<Figure size 432x288 with 1 Axes>"
      ]
     },
     "metadata": {},
     "output_type": "display_data"
    }
   ],
   "source": [
    "from sklearn.metrics import roc_auc_score\n",
    "from sklearn.metrics import roc_curve\n",
    "logit_roc_auc = roc_auc_score(y_test, clf_gini.predict(X_test))\n",
    "fpr, tpr, thresholds = roc_curve(y_test, clf_gini.predict_proba(X_test)[:,1])\n",
    "plt.figure()\n",
    "plt.plot(fpr, tpr, label='Decision Gini (area = %0.2f)' % logit_roc_auc)\n",
    "plt.plot([0, 1], [0, 1],'r--')\n",
    "plt.xlim([0.0, 1.0])\n",
    "plt.ylim([0.0, 1.05])\n",
    "plt.xlabel('False Positive Rate')\n",
    "plt.ylabel('True Positive Rate')\n",
    "plt.title('ROC Bank Marketing Prediction')\n",
    "plt.legend(loc=\"lower right\")\n",
    "plt.savefig('DecisionGini_ROC')\n",
    "plt.show()"
   ]
  },
  {
   "cell_type": "code",
   "execution_count": null,
   "metadata": {},
   "outputs": [],
   "source": []
  },
  {
   "cell_type": "code",
   "execution_count": null,
   "metadata": {},
   "outputs": [],
   "source": []
  },
  {
   "cell_type": "code",
   "execution_count": null,
   "metadata": {},
   "outputs": [],
   "source": []
  },
  {
   "cell_type": "code",
   "execution_count": null,
   "metadata": {},
   "outputs": [],
   "source": []
  },
  {
   "cell_type": "code",
   "execution_count": null,
   "metadata": {},
   "outputs": [],
   "source": []
  },
  {
   "cell_type": "code",
   "execution_count": null,
   "metadata": {},
   "outputs": [],
   "source": []
  },
  {
   "cell_type": "code",
   "execution_count": null,
   "metadata": {},
   "outputs": [],
   "source": []
  },
  {
   "cell_type": "code",
   "execution_count": null,
   "metadata": {},
   "outputs": [],
   "source": []
  },
  {
   "cell_type": "code",
   "execution_count": null,
   "metadata": {},
   "outputs": [],
   "source": []
  },
  {
   "cell_type": "code",
   "execution_count": null,
   "metadata": {},
   "outputs": [],
   "source": []
  },
  {
   "cell_type": "code",
   "execution_count": null,
   "metadata": {},
   "outputs": [],
   "source": []
  },
  {
   "cell_type": "code",
   "execution_count": null,
   "metadata": {},
   "outputs": [],
   "source": []
  }
 ],
 "metadata": {
  "kernelspec": {
   "display_name": "Python 3",
   "language": "python",
   "name": "python3"
  },
  "language_info": {
   "codemirror_mode": {
    "name": "ipython",
    "version": 3
   },
   "file_extension": ".py",
   "mimetype": "text/x-python",
   "name": "python",
   "nbconvert_exporter": "python",
   "pygments_lexer": "ipython3",
   "version": "3.6.5"
  }
 },
 "nbformat": 4,
 "nbformat_minor": 2
}
